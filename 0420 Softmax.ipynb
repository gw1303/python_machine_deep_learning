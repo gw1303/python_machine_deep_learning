{
 "cells": [
  {
   "cell_type": "code",
   "execution_count": 2,
   "metadata": {},
   "outputs": [],
   "source": [
    "import numpy as np\n",
    "import pandas as pd\n",
    "\n",
    "import warnings\n",
    "warnings.filterwarnings('ignore')"
   ]
  },
  {
   "cell_type": "code",
   "execution_count": 1,
   "metadata": {},
   "outputs": [],
   "source": [
    "x = [2,4,6,8]\n",
    "y = [81,93,91,97]"
   ]
  },
  {
   "cell_type": "code",
   "execution_count": 3,
   "metadata": {},
   "outputs": [],
   "source": [
    "# x, y의 평균 값\n",
    "mx = np.mean(x)\n",
    "my = np.mean(y)"
   ]
  },
  {
   "cell_type": "code",
   "execution_count": 4,
   "metadata": {},
   "outputs": [
    {
     "data": {
      "text/plain": [
       "20.0"
      ]
     },
     "execution_count": 4,
     "metadata": {},
     "output_type": "execute_result"
    }
   ],
   "source": [
    "# 기울기 공식의 분모\n",
    "divisor = sum([(mx-i)**2 for i in x])\n",
    "divisor"
   ]
  },
  {
   "cell_type": "code",
   "execution_count": 9,
   "metadata": {},
   "outputs": [],
   "source": [
    "# 기울기 공식의 분자\n",
    "\n",
    "def top(x, mx, y,  my) :\n",
    "\n",
    "    d = 0\n",
    "    for i in range(len(x)) :\n",
    "        d += (x[i] - mx) * (y[i] - my)\n",
    "    \n",
    "    return d\n",
    "\n",
    "dividend = top(x, mx, y,  my)"
   ]
  },
  {
   "cell_type": "code",
   "execution_count": 10,
   "metadata": {},
   "outputs": [
    {
     "name": "stdout",
     "output_type": "stream",
     "text": [
      "분모 :  20.0\n",
      "분자 :  46.0\n"
     ]
    }
   ],
   "source": [
    "print('분모 : ',divisor)\n",
    "print('분자 : ',dividend)"
   ]
  },
  {
   "cell_type": "code",
   "execution_count": 13,
   "metadata": {},
   "outputs": [
    {
     "data": {
      "text/plain": [
       "79.0"
      ]
     },
     "execution_count": 13,
     "metadata": {},
     "output_type": "execute_result"
    }
   ],
   "source": [
    "# w: 직선의 기울기 = y값의 증가랑 / x값의 증가량\n",
    "w = dividend / divisor\n",
    "w  # 2.3\n",
    "\n",
    "# b : y의 평균 - (x의 평균 * 기울기 w)\n",
    "b = my - (mx * w)\n",
    "b  # 79\n",
    "\n",
    "# y = 2.3x + 79"
   ]
  },
  {
   "cell_type": "code",
   "execution_count": 15,
   "metadata": {},
   "outputs": [
    {
     "data": {
      "text/plain": [
       "[[2, 81], [4, 93], [6, 91], [8, 97]]"
      ]
     },
     "execution_count": 15,
     "metadata": {},
     "output_type": "execute_result"
    }
   ],
   "source": [
    "data = [[2, 81], [4,93],[6,91],[8,97]]\n",
    "data\n",
    "\n",
    "# 공부한 시간 = 2, 실제점수 = 81점, 예측 점수 = 83.6\n",
    "# 공부한 시간 = 8, 실제점수 = 97점, 예측 점수 = 97.4\n",
    "# rmse = ?"
   ]
  },
  {
   "cell_type": "code",
   "execution_count": 22,
   "metadata": {},
   "outputs": [
    {
     "data": {
      "text/plain": [
       "[[2, 81], [4, 93], [6, 91], [8, 97]]"
      ]
     },
     "execution_count": 22,
     "metadata": {},
     "output_type": "execute_result"
    }
   ],
   "source": [
    "data"
   ]
  },
  {
   "cell_type": "code",
   "execution_count": 28,
   "metadata": {},
   "outputs": [
    {
     "data": {
      "text/plain": [
       "2.880972058177584"
      ]
     },
     "execution_count": 28,
     "metadata": {},
     "output_type": "execute_result"
    }
   ],
   "source": [
    "res = []\n",
    "mse = 0\n",
    "\n",
    "for i in data :\n",
    "    y = 2.3 * i[0] + 79\n",
    "    res.append(y)\n",
    "\n",
    "for j in range(len(res)):\n",
    "    mse += (data[j][1] - res[j]) ** 2\n",
    "\n",
    "rmse = np.sqrt(mse/len(res))\n",
    "rmse"
   ]
  },
  {
   "cell_type": "code",
   "execution_count": 36,
   "metadata": {},
   "outputs": [
    {
     "name": "stdout",
     "output_type": "stream",
     "text": [
      "공부시간=2, 실점수=81,예측점수=84\n",
      "공부시간=4, 실점수=93,예측점수=88\n",
      "공부시간=6, 실점수=91,예측점수=93\n",
      "공부시간=8, 실점수=97,예측점수=97\n",
      "rmse : 2.880972058177584\n"
     ]
    }
   ],
   "source": [
    "wb=[2.3, 79] #기울기, y절편\n",
    "#data=[[2,81], [4,93], [6,91], [8,97]]\n",
    "x=[i[0] for i in data]\n",
    "y=[i[1] for i in data]\n",
    "\n",
    "def predict(x):\n",
    "    return wb[0]*x+wb[1]\n",
    "\n",
    "predict_result=[]\n",
    "for i in range(len(x)):\n",
    "    predict_result.append(predict(x[i]))\n",
    "    print(\"공부시간=%.f, 실점수=%.f,예측점수=%.f\" % (x[i], y[i], predict(x[i]))) \n",
    "    \n",
    "def rmse(p,a):\n",
    "    return np.sqrt(((p-a)**2).mean())\n",
    "\n",
    "print(\"rmse : \"+ str(rmse(np.array(predict_result), np.array(y))))\n"
   ]
  },
  {
   "cell_type": "code",
   "execution_count": 35,
   "metadata": {},
   "outputs": [],
   "source": [
    "import tensorflow as tf"
   ]
  },
  {
   "cell_type": "code",
   "execution_count": 37,
   "metadata": {},
   "outputs": [],
   "source": [
    "# 기울기 범위 0~10, y절편의 범위 0~100\n",
    "w = tf.Variable(tf.random_normal([1], 0, 10, dtype=tf.float32, seed=0))\n",
    "b = tf.Variable(tf.random_normal([1], 0, 100, dtype=tf.float32, seed=0))"
   ]
  },
  {
   "cell_type": "code",
   "execution_count": 38,
   "metadata": {},
   "outputs": [],
   "source": [
    "hf = w * x + b\n",
    "# root mean square error\n",
    "rmse = tf.sqrt(tf.reduce_mean(tf.square(hf - y)))\n",
    "\n",
    "# 학습률\n",
    "lr = 0.1\n",
    "\n",
    "train = tf.train.GradientDescentOptimizer(lr).minimize(rmse)"
   ]
  },
  {
   "cell_type": "code",
   "execution_count": 42,
   "metadata": {},
   "outputs": [
    {
     "name": "stdout",
     "output_type": "stream",
     "text": [
      "RMSE : 148.2724, 기울기 = -3.4730, y절편 = -39.8162\n",
      "RMSE : 45.6344, 기울기 = 20.8727, y절편 = -32.5576\n",
      "RMSE : 44.0149, 기울기 = 20.3265, y절편 = -28.5748\n",
      "RMSE : 42.4007, 기울기 = 19.6626, y절편 = -24.6124\n",
      "RMSE : 40.7871, 기울기 = 18.9987, y절편 = -20.6507\n",
      "RMSE : 39.1741, 기울기 = 18.3349, y절편 = -16.6897\n",
      "RMSE : 37.5619, 기울기 = 17.6714, y절편 = -12.7297\n",
      "RMSE : 35.9505, 기울기 = 17.0079, y절편 = -8.7706\n",
      "RMSE : 34.3400, 기울기 = 16.3447, y절편 = -4.8127\n",
      "RMSE : 32.7306, 기울기 = 15.6817, y절편 = -0.8562\n",
      "RMSE : 31.1224, 기울기 = 15.0189, y절편 = 3.0989\n",
      "RMSE : 29.5157, 기울기 = 14.3565, y절편 = 7.0522\n",
      "RMSE : 27.9106, 기울기 = 13.6943, y절편 = 11.0034\n",
      "RMSE : 26.3076, 기울기 = 13.0326, y절편 = 14.9522\n",
      "RMSE : 24.7069, 기울기 = 12.3714, y절편 = 18.8980\n",
      "RMSE : 23.1091, 기울기 = 11.7108, y절편 = 22.8404\n",
      "RMSE : 21.5147, 기울기 = 11.0509, y절편 = 26.7784\n",
      "RMSE : 19.9247, 기울기 = 10.3919, y절편 = 30.7110\n",
      "RMSE : 18.3402, 기울기 = 9.7340, y절편 = 34.6370\n",
      "RMSE : 16.7625, 기울기 = 9.0776, y절편 = 38.5543\n",
      "RMSE : 15.1940, 기울기 = 8.4230, y절편 = 42.4604\n",
      "RMSE : 13.6375, 기울기 = 7.7710, y절편 = 46.3514\n",
      "RMSE : 12.0977, 기울기 = 7.1225, y절편 = 50.2215\n",
      "RMSE : 10.5814, 기울기 = 6.4789, y절편 = 54.0620\n",
      "RMSE : 9.0998, 기울기 = 5.8428, y절편 = 57.8583\n",
      "RMSE : 7.6713, 기울기 = 5.2181, y절편 = 61.5861\n",
      "RMSE : 6.3276, 기울기 = 4.6123, y절편 = 65.2014\n",
      "RMSE : 5.1230, 기울기 = 4.0387, y절편 = 68.6242\n",
      "RMSE : 4.1415, 기울기 = 3.5212, y절편 = 71.7126\n",
      "RMSE : 3.4698, 기울기 = 3.0937, y절편 = 74.2636\n",
      "RMSE : 3.1116, 기울기 = 2.7825, y절편 = 76.1204\n",
      "RMSE : 2.9617, 기울기 = 2.5819, y절편 = 77.3176\n",
      "RMSE : 2.9078, 기울기 = 2.4619, y절편 = 78.0341\n",
      "RMSE : 2.8897, 기울기 = 2.3923, y절편 = 78.4490\n",
      "RMSE : 2.8838, 기울기 = 2.3526, y절편 = 78.6863\n",
      "RMSE : 2.8819, 기울기 = 2.3299, y절편 = 78.8215\n",
      "RMSE : 2.8813, 기울기 = 2.3170, y절편 = 78.8985\n",
      "RMSE : 2.8811, 기울기 = 2.3097, y절편 = 78.9423\n",
      "RMSE : 2.8810, 기울기 = 2.3055, y절편 = 78.9672\n",
      "RMSE : 2.8810, 기울기 = 2.3031, y절편 = 78.9813\n",
      "RMSE : 2.8810, 기울기 = 2.3018, y절편 = 78.9894\n",
      "RMSE : 2.8810, 기울기 = 2.3010, y절편 = 78.9940\n",
      "RMSE : 2.8810, 기울기 = 2.3006, y절편 = 78.9966\n",
      "RMSE : 2.8810, 기울기 = 2.3003, y절편 = 78.9980\n",
      "RMSE : 2.8810, 기울기 = 2.3002, y절편 = 78.9988\n",
      "RMSE : 2.8810, 기울기 = 2.3001, y절편 = 78.9993\n",
      "RMSE : 2.8810, 기울기 = 2.3001, y절편 = 78.9993\n",
      "RMSE : 2.8810, 기울기 = 2.3001, y절편 = 78.9993\n",
      "RMSE : 2.8810, 기울기 = 2.3001, y절편 = 78.9993\n",
      "RMSE : 2.8810, 기울기 = 2.3001, y절편 = 78.9993\n",
      "RMSE : 2.8810, 기울기 = 2.3001, y절편 = 78.9993\n"
     ]
    }
   ],
   "source": [
    "with tf.Session() as sess :\n",
    "    sess.run(tf.global_variables_initializer())\n",
    "    \n",
    "    for step in range(5001) :\n",
    "        sess.run(train)\n",
    "        if step % 100 == 0 :\n",
    "            print('RMSE : %.4f, 기울기 = %.4f, y절편 = %.4f' %(sess.run(rmse),sess.run(w),sess.run(b)))"
   ]
  },
  {
   "cell_type": "code",
   "execution_count": null,
   "metadata": {},
   "outputs": [],
   "source": []
  },
  {
   "cell_type": "code",
   "execution_count": 86,
   "metadata": {},
   "outputs": [
    {
     "data": {
      "text/plain": [
       "[[2, 0, 81], [4, 4, 93], [6, 2, 91], [8, 3, 97]]"
      ]
     },
     "execution_count": 86,
     "metadata": {},
     "output_type": "execute_result"
    }
   ],
   "source": [
    "# 다중 선형회귀\n",
    "# [공부시간, 과외시간, 성적]\n",
    "data = [[2,0, 81], [4,4,93],[6,2,91],[8,3,97]]\n",
    "data"
   ]
  },
  {
   "cell_type": "code",
   "execution_count": 93,
   "metadata": {},
   "outputs": [],
   "source": [
    "x1 = [i[0] for i in data]\n",
    "x2 = [i[1] for i in data]\n",
    "y = [i[2] for i in data]"
   ]
  },
  {
   "cell_type": "code",
   "execution_count": 94,
   "metadata": {},
   "outputs": [],
   "source": [
    "w1 = tf.Variable(tf.random_normal([1], 0, 10, dtype=tf.float32, seed=0))\n",
    "w2 = tf.Variable(tf.random_normal([1], 0, 10, dtype=tf.float32, seed=0))\n",
    "b = tf.Variable(tf.random_normal([1], 0, 100, dtype=tf.float32, seed=0))\n",
    "\n",
    "hf = w1 * x1 + w2 * x2 + b\n",
    "\n",
    "rmse = tf.sqrt(tf.reduce_mean(tf.square(hf - y)))\n",
    "\n",
    "lr = 0.1\n",
    "\n",
    "train = tf.train.GradientDescentOptimizer(lr).minimize(rmse)"
   ]
  },
  {
   "cell_type": "code",
   "execution_count": 107,
   "metadata": {
    "scrolled": true
   },
   "outputs": [
    {
     "name": "stdout",
     "output_type": "stream",
     "text": [
      "RMSE : 157.1025, 기울기1 = -3.4711, 기울기2 = -3.7536, y절편 = -0.3992\n",
      "RMSE : 44.6891, 기울기1 = 18.1984, 기울기2 = 6.5456, y절편 = -0.3992\n",
      "RMSE : 43.0898, 기울기1 = 17.4979, 기울기2 = 6.7055, y절편 = -0.3992\n",
      "RMSE : 41.4963, 기울기1 = 16.8068, 기울기2 = 6.7692, y절편 = -0.3992\n",
      "RMSE : 39.9060, 기울기1 = 16.1451, 기울기2 = 6.7675, y절편 = -0.3992\n",
      "RMSE : 38.3175, 기울기1 = 15.5062, 기울기2 = 6.7151, y절편 = -0.3992\n",
      "RMSE : 36.7301, 기울기1 = 14.8849, 기울기2 = 6.6237, y절편 = -0.3992\n",
      "RMSE : 35.1433, 기울기1 = 14.2769, 기울기2 = 6.5028, y절편 = -0.3992\n",
      "RMSE : 33.5568, 기울기1 = 13.6789, 기울기2 = 6.3596, y절편 = -0.3992\n",
      "RMSE : 31.9705, 기울기1 = 13.0883, 기울기2 = 6.2001, y절편 = -0.3992\n",
      "RMSE : 30.3843, 기울기1 = 12.5031, 기울기2 = 6.0286, y절편 = -0.3992\n",
      "RMSE : 28.7982, 기울기1 = 11.9217, 기울기2 = 5.8485, y절편 = -0.3992\n",
      "RMSE : 27.2120, 기울기1 = 11.3431, 기울기2 = 5.6624, y절편 = -0.3992\n",
      "RMSE : 25.6259, 기울기1 = 10.7664, 기울기2 = 5.4721, y절편 = -0.3992\n",
      "RMSE : 24.0399, 기울기1 = 10.1910, 기울기2 = 5.2789, y절편 = -0.3992\n",
      "RMSE : 22.4538, 기울기1 = 9.6164, 기울기2 = 5.0839, y절편 = -0.3992\n",
      "RMSE : 20.8678, 기울기1 = 9.0424, 기울기2 = 4.8876, y절편 = -0.3992\n",
      "RMSE : 19.2818, 기울기1 = 8.4687, 기울기2 = 4.6907, y절편 = -0.3992\n",
      "RMSE : 17.6959, 기울기1 = 7.8952, 기울기2 = 4.4933, y절편 = -0.3992\n",
      "RMSE : 16.1100, 기울기1 = 7.3218, 기울기2 = 4.2956, y절편 = -0.3992\n",
      "RMSE : 14.5243, 기울기1 = 6.7485, 기울기2 = 4.0978, y절편 = -0.3992\n",
      "RMSE : 12.9386, 기울기1 = 6.1753, 기울기2 = 3.9000, y절편 = -0.3992\n",
      "RMSE : 11.3531, 기울기1 = 5.6021, 기울기2 = 3.7021, y절편 = -0.3992\n",
      "RMSE : 9.7679, 기울기1 = 5.0290, 기울기2 = 3.5042, y절편 = -0.3992\n",
      "RMSE : 8.1830, 기울기1 = 4.4560, 기울기2 = 3.3063, y절편 = -0.3992\n",
      "RMSE : 6.5989, 기울기1 = 3.8830, 기울기2 = 3.1085, y절편 = -0.3992\n",
      "RMSE : 5.0161, 기울기1 = 3.3103, 기울기2 = 2.9108, y절편 = -0.3992\n",
      "RMSE : 3.4364, 기울기1 = 2.7382, 기울기2 = 2.7132, y절편 = -0.3992\n",
      "RMSE : 1.8677, 기울기1 = 2.1681, 기울기2 = 2.5164, y절편 = -0.3992\n",
      "RMSE : 1.8355, 기울기1 = 2.0067, 기울기2 = 2.4875, y절편 = -0.3992\n",
      "RMSE : 1.8368, 기울기1 = 1.8749, 기울기2 = 2.4440, y절편 = -0.3992\n"
     ]
    }
   ],
   "source": [
    "with tf.Session() as sess :\n",
    "    sess.run(tf.global_variables_initializer())\n",
    "    \n",
    "    for step in range(3001) :\n",
    "        sess.run(train)\n",
    "        if step % 100 == 0 :\n",
    "            print('RMSE : %.4f, 기울기1 = %.4f, 기울기2 = %.4f, y절편 = %.4f' %(sess.run(rmse),sess.run(w1),sess.run(w2),sess.run(b)))"
   ]
  },
  {
   "cell_type": "code",
   "execution_count": 101,
   "metadata": {},
   "outputs": [],
   "source": [
    "# 로지스틱 회귀\n",
    "\n",
    "data = [[2,0],[4,0],[6,0],[8,1],[10,1],[12,1],[14,1]]\n",
    "\n",
    "xdata = [i[0] for i in data]\n",
    "ydata = [i[1] for i in data]"
   ]
  },
  {
   "cell_type": "code",
   "execution_count": 104,
   "metadata": {},
   "outputs": [],
   "source": [
    "w = tf.Variable(tf.random_normal([1], dtype=tf.float32, seed=0))\n",
    "b = tf.Variable(tf.random_normal([1], dtype=tf.float32, seed=0))\n",
    "\n",
    "hf =   1/(1+np.e**(w*xdata+b))\n",
    "\n",
    "cost = -tf.reduce_mean(np.array(ydata) * tf.log(hf) + (1-np.array(ydata))*(tf.log(1-hf)))"
   ]
  },
  {
   "cell_type": "markdown",
   "metadata": {},
   "source": [
    "# softmax함수 "
   ]
  },
  {
   "cell_type": "code",
   "execution_count": 108,
   "metadata": {},
   "outputs": [],
   "source": [
    "x_data = [[1, 2, 1, 1],\n",
    "          [2, 1, 3, 2],\n",
    "          [3, 1, 3, 4],\n",
    "          [4, 1, 5, 5],\n",
    "          [1, 7, 5, 5],\n",
    "          [1, 2, 5, 6],\n",
    "          [1, 6, 6, 6],\n",
    "          [1, 7, 7, 7]]\n",
    "                      # 원핫 인코딩\n",
    "y_data = [[0, 0, 1],  # 100 -> A / 010 -> B / 001 -> C\n",
    "          [0, 0, 1],\n",
    "          [0, 0, 1],\n",
    "          [0, 1, 0],\n",
    "          [0, 1, 0],\n",
    "          [0, 1, 0],\n",
    "          [1, 0, 0],\n",
    "          [1, 0, 0]]"
   ]
  },
  {
   "cell_type": "code",
   "execution_count": null,
   "metadata": {},
   "outputs": [],
   "source": [
    "# softmax cost함수  = cross entropy(복잡도)\n",
    "'''\n",
    "S(Y) = ^Y   L = Y\n",
    "  0.7        1\n",
    "  0.2        0\n",
    "  0.1        0\n",
    "  \n",
    "D(S, L) = -시그마(Li * log(Si))\n",
    "'''"
   ]
  },
  {
   "cell_type": "code",
   "execution_count": 114,
   "metadata": {},
   "outputs": [],
   "source": [
    "nb_classes = 3\n",
    "\n",
    "x = tf.placeholder('float32', shape=[None, 4])\n",
    "y = tf.placeholder('float32', shape=[None, nb_classes])  # 분류기의 개수 (분류 결과 종류의 가지 수)\n",
    "\n",
    "w = tf.Variable(tf.random_normal([4,3]))\n",
    "b = tf.Variable(tf.random_normal([3]))  # 분류기의 개수 (분류 결과 종류의 가지 수)\n",
    "\n",
    "hf = tf.nn.softmax(tf.matmul(x, w) + b)\n",
    "cost = tf.reduce_mean(-tf.reduce_sum(y * tf.log(hf), axis=1))\n",
    "\n",
    "train = tf.train.GradientDescentOptimizer(learning_rate=0.1).minimize(cost)"
   ]
  },
  {
   "cell_type": "code",
   "execution_count": 174,
   "metadata": {},
   "outputs": [
    {
     "name": "stdout",
     "output_type": "stream",
     "text": [
      "cost :  5.8674083\n",
      "cost :  0.6471807\n",
      "cost :  0.570951\n",
      "cost :  0.5183418\n",
      "cost :  0.47453\n",
      "cost :  0.43543482\n",
      "cost :  0.39897543\n",
      "cost :  0.363756\n",
      "cost :  0.32865858\n",
      "cost :  0.2928856\n",
      "cost :  0.25791055\n",
      "cost :  0.23760812\n",
      "cost :  0.2260763\n",
      "cost :  0.21558905\n",
      "cost :  0.20598844\n",
      "cost :  0.19716749\n",
      "cost :  0.18903662\n",
      "cost :  0.18151966\n",
      "cost :  0.1745511\n",
      "cost :  0.16807458\n",
      "cost :  0.16204129\n",
      "분류결과 :  1\n",
      "--------------------------------------------------\n",
      "분류결과 :  [1 0 2]\n"
     ]
    }
   ],
   "source": [
    "with tf.Session() as sess :\n",
    "    sess.run(tf.global_variables_initializer())\n",
    "    \n",
    "    for step in range(2001) :\n",
    "        _, cv = sess.run([train, cost], feed_dict={x:x_data, y:y_data})\n",
    "        if step % 100 == 0 :\n",
    "            print('cost : ', cv)\n",
    "            \n",
    "    res = sess.run(hf, feed_dict={x:[[1,11,7,9]]})\n",
    "#     print(tf.keras.backend.eval(tf.arg_max(res[0], dimension=0)))\n",
    "    print('분류결과 : ',sess.run(tf.argmax(res, 1)[0]))\n",
    "    print('-'*50)\n",
    "    res = sess.run(hf, feed_dict={x:[[1,11,7,9],[1,3,4,3],[1,1,0,1]]})\n",
    "#     print(tf.keras.backend.eval(tf.arg_max(res[0], dimension=0)))\n",
    "    print('분류결과 : ',sess.run(tf.argmax(res, 1)))"
   ]
  },
  {
   "cell_type": "code",
   "execution_count": null,
   "metadata": {},
   "outputs": [],
   "source": [
    "# iris 데이터 softmax로 분류하기"
   ]
  },
  {
   "cell_type": "code",
   "execution_count": 11,
   "metadata": {},
   "outputs": [],
   "source": [
    "import numpy as np\n",
    "import pandas as pd\n",
    "\n",
    "import warnings\n",
    "warnings.filterwarnings('ignore')\n",
    "\n",
    "import tensorflow as tf"
   ]
  },
  {
   "cell_type": "code",
   "execution_count": 182,
   "metadata": {},
   "outputs": [
    {
     "data": {
      "text/html": [
       "<div>\n",
       "<style scoped>\n",
       "    .dataframe tbody tr th:only-of-type {\n",
       "        vertical-align: middle;\n",
       "    }\n",
       "\n",
       "    .dataframe tbody tr th {\n",
       "        vertical-align: top;\n",
       "    }\n",
       "\n",
       "    .dataframe thead th {\n",
       "        text-align: right;\n",
       "    }\n",
       "</style>\n",
       "<table border=\"1\" class=\"dataframe\">\n",
       "  <thead>\n",
       "    <tr style=\"text-align: right;\">\n",
       "      <th></th>\n",
       "      <th>0</th>\n",
       "      <th>1</th>\n",
       "      <th>2</th>\n",
       "      <th>3</th>\n",
       "      <th>4</th>\n",
       "      <th>5</th>\n",
       "      <th>6</th>\n",
       "      <th>7</th>\n",
       "    </tr>\n",
       "  </thead>\n",
       "  <tbody>\n",
       "    <tr>\n",
       "      <td>0</td>\n",
       "      <td>1.0</td>\n",
       "      <td>5.1</td>\n",
       "      <td>3.5</td>\n",
       "      <td>1.4</td>\n",
       "      <td>0.2</td>\n",
       "      <td>1.0</td>\n",
       "      <td>0.0</td>\n",
       "      <td>0.0</td>\n",
       "    </tr>\n",
       "    <tr>\n",
       "      <td>1</td>\n",
       "      <td>1.0</td>\n",
       "      <td>4.9</td>\n",
       "      <td>3.0</td>\n",
       "      <td>1.4</td>\n",
       "      <td>0.2</td>\n",
       "      <td>1.0</td>\n",
       "      <td>0.0</td>\n",
       "      <td>0.0</td>\n",
       "    </tr>\n",
       "    <tr>\n",
       "      <td>2</td>\n",
       "      <td>1.0</td>\n",
       "      <td>4.7</td>\n",
       "      <td>3.2</td>\n",
       "      <td>1.3</td>\n",
       "      <td>0.2</td>\n",
       "      <td>1.0</td>\n",
       "      <td>0.0</td>\n",
       "      <td>0.0</td>\n",
       "    </tr>\n",
       "    <tr>\n",
       "      <td>3</td>\n",
       "      <td>1.0</td>\n",
       "      <td>4.6</td>\n",
       "      <td>3.1</td>\n",
       "      <td>1.5</td>\n",
       "      <td>0.2</td>\n",
       "      <td>1.0</td>\n",
       "      <td>0.0</td>\n",
       "      <td>0.0</td>\n",
       "    </tr>\n",
       "    <tr>\n",
       "      <td>4</td>\n",
       "      <td>1.0</td>\n",
       "      <td>5.0</td>\n",
       "      <td>3.6</td>\n",
       "      <td>1.4</td>\n",
       "      <td>0.2</td>\n",
       "      <td>1.0</td>\n",
       "      <td>0.0</td>\n",
       "      <td>0.0</td>\n",
       "    </tr>\n",
       "    <tr>\n",
       "      <td>...</td>\n",
       "      <td>...</td>\n",
       "      <td>...</td>\n",
       "      <td>...</td>\n",
       "      <td>...</td>\n",
       "      <td>...</td>\n",
       "      <td>...</td>\n",
       "      <td>...</td>\n",
       "      <td>...</td>\n",
       "    </tr>\n",
       "    <tr>\n",
       "      <td>145</td>\n",
       "      <td>1.0</td>\n",
       "      <td>6.7</td>\n",
       "      <td>3.0</td>\n",
       "      <td>5.2</td>\n",
       "      <td>2.3</td>\n",
       "      <td>0.0</td>\n",
       "      <td>0.0</td>\n",
       "      <td>1.0</td>\n",
       "    </tr>\n",
       "    <tr>\n",
       "      <td>146</td>\n",
       "      <td>1.0</td>\n",
       "      <td>6.3</td>\n",
       "      <td>2.5</td>\n",
       "      <td>5.0</td>\n",
       "      <td>1.9</td>\n",
       "      <td>0.0</td>\n",
       "      <td>0.0</td>\n",
       "      <td>1.0</td>\n",
       "    </tr>\n",
       "    <tr>\n",
       "      <td>147</td>\n",
       "      <td>1.0</td>\n",
       "      <td>6.5</td>\n",
       "      <td>3.0</td>\n",
       "      <td>5.2</td>\n",
       "      <td>2.0</td>\n",
       "      <td>0.0</td>\n",
       "      <td>0.0</td>\n",
       "      <td>1.0</td>\n",
       "    </tr>\n",
       "    <tr>\n",
       "      <td>148</td>\n",
       "      <td>1.0</td>\n",
       "      <td>6.2</td>\n",
       "      <td>3.4</td>\n",
       "      <td>5.4</td>\n",
       "      <td>2.3</td>\n",
       "      <td>0.0</td>\n",
       "      <td>0.0</td>\n",
       "      <td>1.0</td>\n",
       "    </tr>\n",
       "    <tr>\n",
       "      <td>149</td>\n",
       "      <td>1.0</td>\n",
       "      <td>5.9</td>\n",
       "      <td>3.0</td>\n",
       "      <td>5.1</td>\n",
       "      <td>1.8</td>\n",
       "      <td>0.0</td>\n",
       "      <td>0.0</td>\n",
       "      <td>1.0</td>\n",
       "    </tr>\n",
       "  </tbody>\n",
       "</table>\n",
       "<p>150 rows × 8 columns</p>\n",
       "</div>"
      ],
      "text/plain": [
       "       0    1    2    3    4    5    6    7\n",
       "0    1.0  5.1  3.5  1.4  0.2  1.0  0.0  0.0\n",
       "1    1.0  4.9  3.0  1.4  0.2  1.0  0.0  0.0\n",
       "2    1.0  4.7  3.2  1.3  0.2  1.0  0.0  0.0\n",
       "3    1.0  4.6  3.1  1.5  0.2  1.0  0.0  0.0\n",
       "4    1.0  5.0  3.6  1.4  0.2  1.0  0.0  0.0\n",
       "..   ...  ...  ...  ...  ...  ...  ...  ...\n",
       "145  1.0  6.7  3.0  5.2  2.3  0.0  0.0  1.0\n",
       "146  1.0  6.3  2.5  5.0  1.9  0.0  0.0  1.0\n",
       "147  1.0  6.5  3.0  5.2  2.0  0.0  0.0  1.0\n",
       "148  1.0  6.2  3.4  5.4  2.3  0.0  0.0  1.0\n",
       "149  1.0  5.9  3.0  5.1  1.8  0.0  0.0  1.0\n",
       "\n",
       "[150 rows x 8 columns]"
      ]
     },
     "execution_count": 182,
     "metadata": {},
     "output_type": "execute_result"
    }
   ],
   "source": [
    "data = pd.read_csv('data/실습데이터/iris_softmax.csv', header=None)\n",
    "data"
   ]
  },
  {
   "cell_type": "code",
   "execution_count": 183,
   "metadata": {},
   "outputs": [],
   "source": [
    "# 데이터 섞기\n",
    "np.random.seed(1004)\n",
    "idx = data.index.to_list()\n",
    "np.random.shuffle(idx)\n",
    "idx\n",
    "\n",
    "data = data.iloc[idx,:]"
   ]
  },
  {
   "cell_type": "code",
   "execution_count": 184,
   "metadata": {},
   "outputs": [],
   "source": [
    "# 데이터 나누기\n",
    "x_data = data.iloc[:,1:5]\n",
    "y_data = data.iloc[:,5:]\n",
    "\n",
    "from sklearn.model_selection import train_test_split\n",
    "\n",
    "xtrain, xtest, ytrain, ytest = train_test_split(x_data, y_data, test_size=0.3, random_state=777)"
   ]
  },
  {
   "cell_type": "code",
   "execution_count": 185,
   "metadata": {},
   "outputs": [],
   "source": [
    "# tensorflow 모델 생성\n",
    "x = tf.placeholder('float32', shape=[None, 4])\n",
    "y = tf.placeholder('float32', shape=[None, 3])\n",
    "\n",
    "w = tf.Variable(tf.random_normal([4,3], dtype=tf.float32, seed=0))\n",
    "b = tf.Variable(tf.random_normal([3], dtype=tf.float32, seed=0))\n",
    "\n",
    "hf = tf.nn.softmax(tf.matmul(x, w) + b)\n",
    "cost = tf.reduce_mean(-tf.reduce_sum(y * tf.log(hf), axis=1))\n",
    "\n",
    "lr = 0.1\n",
    "train = tf.train.GradientDescentOptimizer(lr).minimize(cost)"
   ]
  },
  {
   "cell_type": "code",
   "execution_count": 186,
   "metadata": {},
   "outputs": [],
   "source": [
    "# 예측 레이블 출력\n",
    "predict = tf.argmax(hf, 1)\n",
    "correct_predict = tf.equal(predict, tf.argmax(y, 1))\n",
    "accuracy = tf.reduce_mean(tf.cast(correct_predict, tf.float32))"
   ]
  },
  {
   "cell_type": "code",
   "execution_count": 187,
   "metadata": {},
   "outputs": [
    {
     "name": "stdout",
     "output_type": "stream",
     "text": [
      "Step : 0, Cost : 4.44, Acc : 0.35 \n",
      "Step : 100, Cost : 0.42, Acc : 0.80 \n",
      "Step : 200, Cost : 0.29, Acc : 0.93 \n",
      "Step : 300, Cost : 0.24, Acc : 0.95 \n",
      "Step : 400, Cost : 0.21, Acc : 0.95 \n",
      "Step : 500, Cost : 0.19, Acc : 0.95 \n",
      "Step : 600, Cost : 0.18, Acc : 0.96 \n",
      "Step : 700, Cost : 0.16, Acc : 0.97 \n",
      "Step : 800, Cost : 0.15, Acc : 0.97 \n",
      "Step : 900, Cost : 0.15, Acc : 0.97 \n",
      "Step : 1000, Cost : 0.14, Acc : 0.97 \n",
      "Step : 1100, Cost : 0.13, Acc : 0.97 \n",
      "Step : 1200, Cost : 0.13, Acc : 0.97 \n",
      "Step : 1300, Cost : 0.12, Acc : 0.98 \n",
      "Step : 1400, Cost : 0.12, Acc : 0.98 \n",
      "Step : 1500, Cost : 0.12, Acc : 0.98 \n",
      "Step : 1600, Cost : 0.11, Acc : 0.98 \n",
      "Step : 1700, Cost : 0.11, Acc : 0.98 \n",
      "Step : 1800, Cost : 0.11, Acc : 0.98 \n",
      "Step : 1900, Cost : 0.11, Acc : 0.98 \n",
      "Step : 2000, Cost : 0.10, Acc : 0.98 \n",
      "Step : 2100, Cost : 0.10, Acc : 0.97 \n",
      "Step : 2200, Cost : 0.10, Acc : 0.97 \n",
      "Step : 2300, Cost : 0.10, Acc : 0.97 \n",
      "Step : 2400, Cost : 0.10, Acc : 0.97 \n",
      "Step : 2500, Cost : 0.10, Acc : 0.97 \n",
      "Step : 2600, Cost : 0.10, Acc : 0.97 \n",
      "Step : 2700, Cost : 0.09, Acc : 0.97 \n",
      "Step : 2800, Cost : 0.09, Acc : 0.97 \n",
      "Step : 2900, Cost : 0.09, Acc : 0.97 \n",
      "Step : 3000, Cost : 0.09, Acc : 0.97 \n",
      "--------------------------------------------------\n",
      "test셋의 예측 정확도 : 1.000 \n"
     ]
    }
   ],
   "source": [
    "# 모델 학습\n",
    "with tf.Session() as sess :\n",
    "    sess.run(tf.global_variables_initializer())\n",
    "    \n",
    "    for step in range(3001) :\n",
    "        _, cv, acc = sess.run([train, cost, accuracy], feed_dict={x:xtrain, y:ytrain})\n",
    "        if step % 100 == 0 :\n",
    "            print('Step : %s, Cost : %.2f, Acc : %.2f '%(step, cv, acc))\n",
    "    \n",
    "    print('-'*50)\n",
    "    # 예측\n",
    "    res = sess.run(accuracy, feed_dict={x:xtest, y:ytest})\n",
    "    print('test셋의 예측 정확도 : %.3f ' % res)"
   ]
  },
  {
   "cell_type": "code",
   "execution_count": null,
   "metadata": {},
   "outputs": [],
   "source": []
  },
  {
   "cell_type": "code",
   "execution_count": 188,
   "metadata": {},
   "outputs": [
    {
     "data": {
      "text/html": [
       "<div>\n",
       "<style scoped>\n",
       "    .dataframe tbody tr th:only-of-type {\n",
       "        vertical-align: middle;\n",
       "    }\n",
       "\n",
       "    .dataframe tbody tr th {\n",
       "        vertical-align: top;\n",
       "    }\n",
       "\n",
       "    .dataframe thead th {\n",
       "        text-align: right;\n",
       "    }\n",
       "</style>\n",
       "<table border=\"1\" class=\"dataframe\">\n",
       "  <thead>\n",
       "    <tr style=\"text-align: right;\">\n",
       "      <th></th>\n",
       "      <th>0</th>\n",
       "      <th>1</th>\n",
       "      <th>2</th>\n",
       "      <th>3</th>\n",
       "      <th>4</th>\n",
       "      <th>5</th>\n",
       "      <th>6</th>\n",
       "      <th>7</th>\n",
       "      <th>8</th>\n",
       "      <th>9</th>\n",
       "      <th>10</th>\n",
       "      <th>11</th>\n",
       "      <th>12</th>\n",
       "      <th>13</th>\n",
       "      <th>14</th>\n",
       "      <th>15</th>\n",
       "      <th>16</th>\n",
       "    </tr>\n",
       "  </thead>\n",
       "  <tbody>\n",
       "    <tr>\n",
       "      <td>19</td>\n",
       "      <td>1</td>\n",
       "      <td>0</td>\n",
       "      <td>0.0</td>\n",
       "      <td>1.0</td>\n",
       "      <td>0.0</td>\n",
       "      <td>0</td>\n",
       "      <td>1.0</td>\n",
       "      <td>1.0</td>\n",
       "      <td>1.0</td>\n",
       "      <td>1.0</td>\n",
       "      <td>0.0</td>\n",
       "      <td>0.0</td>\n",
       "      <td>4.0</td>\n",
       "      <td>0.0</td>\n",
       "      <td>0.0</td>\n",
       "      <td>1.0</td>\n",
       "      <td>0.0</td>\n",
       "    </tr>\n",
       "    <tr>\n",
       "      <td>20</td>\n",
       "      <td>1</td>\n",
       "      <td>0</td>\n",
       "      <td>0.0</td>\n",
       "      <td>1.0</td>\n",
       "      <td>0.0</td>\n",
       "      <td>0</td>\n",
       "      <td>0.0</td>\n",
       "      <td>1.0</td>\n",
       "      <td>1.0</td>\n",
       "      <td>1.0</td>\n",
       "      <td>0.0</td>\n",
       "      <td>0.0</td>\n",
       "      <td>4.0</td>\n",
       "      <td>1.0</td>\n",
       "      <td>0.0</td>\n",
       "      <td>1.0</td>\n",
       "      <td>0.0</td>\n",
       "    </tr>\n",
       "    <tr>\n",
       "      <td>21</td>\n",
       "      <td>0</td>\n",
       "      <td>0</td>\n",
       "      <td>1.0</td>\n",
       "      <td>0.0</td>\n",
       "      <td>0.0</td>\n",
       "      <td>1</td>\n",
       "      <td>1.0</td>\n",
       "      <td>1.0</td>\n",
       "      <td>1.0</td>\n",
       "      <td>0.0</td>\n",
       "      <td>0.0</td>\n",
       "      <td>1.0</td>\n",
       "      <td>0.0</td>\n",
       "      <td>1.0</td>\n",
       "      <td>0.0</td>\n",
       "      <td>0.0</td>\n",
       "      <td>3.0</td>\n",
       "    </tr>\n",
       "    <tr>\n",
       "      <td>22</td>\n",
       "      <td>1</td>\n",
       "      <td>0</td>\n",
       "      <td>0.0</td>\n",
       "      <td>1.0</td>\n",
       "      <td>0.0</td>\n",
       "      <td>0</td>\n",
       "      <td>1.0</td>\n",
       "      <td>1.0</td>\n",
       "      <td>1.0</td>\n",
       "      <td>1.0</td>\n",
       "      <td>0.0</td>\n",
       "      <td>0.0</td>\n",
       "      <td>4.0</td>\n",
       "      <td>0.0</td>\n",
       "      <td>0.0</td>\n",
       "      <td>1.0</td>\n",
       "      <td>0.0</td>\n",
       "    </tr>\n",
       "    <tr>\n",
       "      <td>23</td>\n",
       "      <td>1</td>\n",
       "      <td>0</td>\n",
       "      <td>0.0</td>\n",
       "      <td>1.0</td>\n",
       "      <td>0.0</td>\n",
       "      <td>0</td>\n",
       "      <td>1.0</td>\n",
       "      <td>1.0</td>\n",
       "      <td>1.0</td>\n",
       "      <td>1.0</td>\n",
       "      <td>0.0</td>\n",
       "      <td>0.0</td>\n",
       "      <td>4.0</td>\n",
       "      <td>1.0</td>\n",
       "      <td>0.0</td>\n",
       "      <td>1.0</td>\n",
       "      <td>0.0</td>\n",
       "    </tr>\n",
       "    <tr>\n",
       "      <td>...</td>\n",
       "      <td>...</td>\n",
       "      <td>...</td>\n",
       "      <td>...</td>\n",
       "      <td>...</td>\n",
       "      <td>...</td>\n",
       "      <td>...</td>\n",
       "      <td>...</td>\n",
       "      <td>...</td>\n",
       "      <td>...</td>\n",
       "      <td>...</td>\n",
       "      <td>...</td>\n",
       "      <td>...</td>\n",
       "      <td>...</td>\n",
       "      <td>...</td>\n",
       "      <td>...</td>\n",
       "      <td>...</td>\n",
       "      <td>...</td>\n",
       "    </tr>\n",
       "    <tr>\n",
       "      <td>115</td>\n",
       "      <td>1</td>\n",
       "      <td>0</td>\n",
       "      <td>0.0</td>\n",
       "      <td>1.0</td>\n",
       "      <td>0.0</td>\n",
       "      <td>0</td>\n",
       "      <td>0.0</td>\n",
       "      <td>1.0</td>\n",
       "      <td>1.0</td>\n",
       "      <td>1.0</td>\n",
       "      <td>0.0</td>\n",
       "      <td>0.0</td>\n",
       "      <td>2.0</td>\n",
       "      <td>1.0</td>\n",
       "      <td>0.0</td>\n",
       "      <td>1.0</td>\n",
       "      <td>0.0</td>\n",
       "    </tr>\n",
       "    <tr>\n",
       "      <td>116</td>\n",
       "      <td>1</td>\n",
       "      <td>0</td>\n",
       "      <td>1.0</td>\n",
       "      <td>0.0</td>\n",
       "      <td>1.0</td>\n",
       "      <td>0</td>\n",
       "      <td>0.0</td>\n",
       "      <td>0.0</td>\n",
       "      <td>0.0</td>\n",
       "      <td>1.0</td>\n",
       "      <td>1.0</td>\n",
       "      <td>0.0</td>\n",
       "      <td>6.0</td>\n",
       "      <td>0.0</td>\n",
       "      <td>0.0</td>\n",
       "      <td>0.0</td>\n",
       "      <td>5.0</td>\n",
       "    </tr>\n",
       "    <tr>\n",
       "      <td>117</td>\n",
       "      <td>1</td>\n",
       "      <td>0</td>\n",
       "      <td>0.0</td>\n",
       "      <td>1.0</td>\n",
       "      <td>0.0</td>\n",
       "      <td>0</td>\n",
       "      <td>1.0</td>\n",
       "      <td>1.0</td>\n",
       "      <td>1.0</td>\n",
       "      <td>1.0</td>\n",
       "      <td>0.0</td>\n",
       "      <td>0.0</td>\n",
       "      <td>4.0</td>\n",
       "      <td>1.0</td>\n",
       "      <td>0.0</td>\n",
       "      <td>1.0</td>\n",
       "      <td>0.0</td>\n",
       "    </tr>\n",
       "    <tr>\n",
       "      <td>118</td>\n",
       "      <td>0</td>\n",
       "      <td>0</td>\n",
       "      <td>1.0</td>\n",
       "      <td>0.0</td>\n",
       "      <td>0.0</td>\n",
       "      <td>0</td>\n",
       "      <td>0.0</td>\n",
       "      <td>0.0</td>\n",
       "      <td>0.0</td>\n",
       "      <td>1.0</td>\n",
       "      <td>0.0</td>\n",
       "      <td>0.0</td>\n",
       "      <td>0.0</td>\n",
       "      <td>0.0</td>\n",
       "      <td>0.0</td>\n",
       "      <td>0.0</td>\n",
       "      <td>6.0</td>\n",
       "    </tr>\n",
       "    <tr>\n",
       "      <td>119</td>\n",
       "      <td>0</td>\n",
       "      <td>1</td>\n",
       "      <td>1.0</td>\n",
       "      <td>0.0</td>\n",
       "      <td>1.0</td>\n",
       "      <td>0</td>\n",
       "      <td>0.0</td>\n",
       "      <td>0.0</td>\n",
       "      <td>1.0</td>\n",
       "      <td>1.0</td>\n",
       "      <td>0.0</td>\n",
       "      <td>0.0</td>\n",
       "      <td>2.0</td>\n",
       "      <td>1.0</td>\n",
       "      <td>0.0</td>\n",
       "      <td>0.0</td>\n",
       "      <td>1.0</td>\n",
       "    </tr>\n",
       "  </tbody>\n",
       "</table>\n",
       "<p>101 rows × 17 columns</p>\n",
       "</div>"
      ],
      "text/plain": [
       "    0  1    2    3    4  5    6    7    8    9    10   11   12   13   14   15  \\\n",
       "19   1  0  0.0  1.0  0.0  0  1.0  1.0  1.0  1.0  0.0  0.0  4.0  0.0  0.0  1.0   \n",
       "20   1  0  0.0  1.0  0.0  0  0.0  1.0  1.0  1.0  0.0  0.0  4.0  1.0  0.0  1.0   \n",
       "21   0  0  1.0  0.0  0.0  1  1.0  1.0  1.0  0.0  0.0  1.0  0.0  1.0  0.0  0.0   \n",
       "22   1  0  0.0  1.0  0.0  0  1.0  1.0  1.0  1.0  0.0  0.0  4.0  0.0  0.0  1.0   \n",
       "23   1  0  0.0  1.0  0.0  0  1.0  1.0  1.0  1.0  0.0  0.0  4.0  1.0  0.0  1.0   \n",
       "..  .. ..  ...  ...  ... ..  ...  ...  ...  ...  ...  ...  ...  ...  ...  ...   \n",
       "115  1  0  0.0  1.0  0.0  0  0.0  1.0  1.0  1.0  0.0  0.0  2.0  1.0  0.0  1.0   \n",
       "116  1  0  1.0  0.0  1.0  0  0.0  0.0  0.0  1.0  1.0  0.0  6.0  0.0  0.0  0.0   \n",
       "117  1  0  0.0  1.0  0.0  0  1.0  1.0  1.0  1.0  0.0  0.0  4.0  1.0  0.0  1.0   \n",
       "118  0  0  1.0  0.0  0.0  0  0.0  0.0  0.0  1.0  0.0  0.0  0.0  0.0  0.0  0.0   \n",
       "119  0  1  1.0  0.0  1.0  0  0.0  0.0  1.0  1.0  0.0  0.0  2.0  1.0  0.0  0.0   \n",
       "\n",
       "      16  \n",
       "19   0.0  \n",
       "20   0.0  \n",
       "21   3.0  \n",
       "22   0.0  \n",
       "23   0.0  \n",
       "..   ...  \n",
       "115  0.0  \n",
       "116  5.0  \n",
       "117  0.0  \n",
       "118  6.0  \n",
       "119  1.0  \n",
       "\n",
       "[101 rows x 17 columns]"
      ]
     },
     "execution_count": 188,
     "metadata": {},
     "output_type": "execute_result"
    }
   ],
   "source": [
    "data = pd.read_csv('data/실습데이터/data-04-zoo.csv', header=None)\n",
    "\n",
    "# 필요없는 부분 제거\n",
    "data = data.iloc[19:,:]\n",
    "data"
   ]
  },
  {
   "cell_type": "code",
   "execution_count": 189,
   "metadata": {},
   "outputs": [],
   "source": [
    "# 데이터 나누기\n",
    "x_data = data.iloc[:,:16]\n",
    "y_data = pd.get_dummies(data[16])\n",
    "\n",
    "xtrain, xtest, ytrain, ytest = train_test_split(x_data, y_data, test_size=0.3, random_state=777)"
   ]
  },
  {
   "cell_type": "code",
   "execution_count": 191,
   "metadata": {},
   "outputs": [],
   "source": [
    "# tensorflow 모델 생성\n",
    "x = tf.placeholder('float32', shape=[None, 16])\n",
    "y = tf.placeholder('float32', shape=[None, 7])\n",
    "\n",
    "w = tf.Variable(tf.random_normal([16,7], dtype=tf.float32, seed=0))\n",
    "b = tf.Variable(tf.random_normal([7], dtype=tf.float32, seed=0))\n",
    "\n",
    "hf = tf.nn.softmax(tf.matmul(x, w) + b)\n",
    "cost = tf.reduce_mean(-tf.reduce_sum(y * tf.log(hf), axis=1))\n",
    "\n",
    "lr = 0.1\n",
    "train = tf.train.GradientDescentOptimizer(lr).minimize(cost)"
   ]
  },
  {
   "cell_type": "code",
   "execution_count": 192,
   "metadata": {},
   "outputs": [],
   "source": [
    "predict = tf.argmax(hf, axis=1)\n",
    "correct_predict = tf.equal(predict, tf.argmax(y, axis=1))\n",
    "accuracy = tf.reduce_mean(tf.cast(correct_predict, tf.float32))"
   ]
  },
  {
   "cell_type": "code",
   "execution_count": 193,
   "metadata": {},
   "outputs": [
    {
     "name": "stdout",
     "output_type": "stream",
     "text": [
      "Step : 0, Cost : 2.97, Acc : 0.29 \n",
      "Step : 100, Cost : 0.50, Acc : 0.84 \n",
      "Step : 200, Cost : 0.31, Acc : 0.90 \n",
      "Step : 300, Cost : 0.22, Acc : 0.96 \n",
      "Step : 400, Cost : 0.17, Acc : 0.97 \n",
      "Step : 500, Cost : 0.14, Acc : 0.97 \n",
      "Step : 600, Cost : 0.12, Acc : 0.99 \n",
      "Step : 700, Cost : 0.10, Acc : 1.00 \n",
      "Step : 800, Cost : 0.09, Acc : 1.00 \n",
      "Step : 900, Cost : 0.08, Acc : 1.00 \n",
      "Step : 1000, Cost : 0.07, Acc : 1.00 \n",
      "Step : 1100, Cost : 0.06, Acc : 1.00 \n",
      "Step : 1200, Cost : 0.06, Acc : 1.00 \n",
      "Step : 1300, Cost : 0.05, Acc : 1.00 \n",
      "Step : 1400, Cost : 0.05, Acc : 1.00 \n",
      "Step : 1500, Cost : 0.05, Acc : 1.00 \n",
      "Step : 1600, Cost : 0.04, Acc : 1.00 \n",
      "Step : 1700, Cost : 0.04, Acc : 1.00 \n",
      "Step : 1800, Cost : 0.04, Acc : 1.00 \n",
      "Step : 1900, Cost : 0.04, Acc : 1.00 \n",
      "Step : 2000, Cost : 0.03, Acc : 1.00 \n",
      "--------------------------------------------------\n",
      "test셋의 예측 정확도 : 0.935 \n"
     ]
    }
   ],
   "source": [
    "# 모델 학습\n",
    "with tf.Session() as sess :\n",
    "    sess.run(tf.global_variables_initializer())\n",
    "    \n",
    "    for step in range(2001) :\n",
    "        _, cv, acc = sess.run([train, cost, accuracy], feed_dict={x:xtrain, y:ytrain})\n",
    "        if step % 100 == 0 :\n",
    "            print('Step : %s, Cost : %.2f, Acc : %.2f '%(step, cv, acc))\n",
    "    \n",
    "    print('-'*50)\n",
    "    # 예측\n",
    "    res = sess.run(accuracy, feed_dict={x:xtest, y:ytest})\n",
    "    print('test셋의 예측 정확도 : %.3f ' % res)"
   ]
  },
  {
   "cell_type": "code",
   "execution_count": null,
   "metadata": {},
   "outputs": [],
   "source": []
  },
  {
   "cell_type": "code",
   "execution_count": null,
   "metadata": {},
   "outputs": [],
   "source": []
  },
  {
   "cell_type": "code",
   "execution_count": null,
   "metadata": {},
   "outputs": [],
   "source": []
  },
  {
   "cell_type": "code",
   "execution_count": null,
   "metadata": {},
   "outputs": [],
   "source": []
  },
  {
   "cell_type": "code",
   "execution_count": null,
   "metadata": {},
   "outputs": [],
   "source": []
  },
  {
   "cell_type": "code",
   "execution_count": null,
   "metadata": {},
   "outputs": [],
   "source": []
  },
  {
   "cell_type": "code",
   "execution_count": null,
   "metadata": {},
   "outputs": [],
   "source": []
  },
  {
   "cell_type": "code",
   "execution_count": null,
   "metadata": {},
   "outputs": [],
   "source": []
  },
  {
   "cell_type": "code",
   "execution_count": null,
   "metadata": {},
   "outputs": [],
   "source": []
  },
  {
   "cell_type": "code",
   "execution_count": null,
   "metadata": {},
   "outputs": [],
   "source": []
  },
  {
   "cell_type": "code",
   "execution_count": null,
   "metadata": {},
   "outputs": [],
   "source": []
  },
  {
   "cell_type": "code",
   "execution_count": null,
   "metadata": {},
   "outputs": [],
   "source": []
  },
  {
   "cell_type": "code",
   "execution_count": null,
   "metadata": {},
   "outputs": [],
   "source": []
  }
 ],
 "metadata": {
  "kernelspec": {
   "display_name": "Python 3",
   "language": "python",
   "name": "python3"
  },
  "language_info": {
   "codemirror_mode": {
    "name": "ipython",
    "version": 3
   },
   "file_extension": ".py",
   "mimetype": "text/x-python",
   "name": "python",
   "nbconvert_exporter": "python",
   "pygments_lexer": "ipython3",
   "version": "3.7.4"
  }
 },
 "nbformat": 4,
 "nbformat_minor": 2
}
