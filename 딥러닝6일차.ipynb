{
 "cells": [
  {
   "cell_type": "code",
   "execution_count": 10,
   "metadata": {},
   "outputs": [],
   "source": [
    "#신경망 구현\n",
    "#1.초기화(입력, 은닉, 출력 노드의 수 설정)\n",
    "#2.학습(가중치 업데이트)\n",
    "#3.질의(입력 -> 연산 -> 출력 노드에 전달)"
   ]
  },
  {
   "cell_type": "code",
   "execution_count": 7,
   "metadata": {},
   "outputs": [],
   "source": [
    "import scipy.special\n",
    "import numpy as np"
   ]
  },
  {
   "cell_type": "code",
   "execution_count": 8,
   "metadata": {},
   "outputs": [],
   "source": [
    "class neuralNetwork:\n",
    "    #신경망 초기화 기능\n",
    "    def __init__(self,input_nodes,hidden_nodes,output_nodes,learning_rate):\n",
    "        self.inodes=input_nodes\n",
    "        self.hnodes=hidden_nodes\n",
    "        self.onodes=output_nodes\n",
    "        self.lr=learning_rate\n",
    "#가중치는 행렬로 표현\n",
    "#입력/은닉 가중치 행렬 형식 : \n",
    "#(은닉노드 * 입력노드)\n",
    "#은닉/출력 가중치 행렬 형식 : \n",
    "#(출력노드 * 은닉노드)\n",
    "\n",
    "#입력, 은닉 계층 사이의 가중치 행렬\n",
    "        self.wih=np.random.normal(0.0,\n",
    "                         pow(self.hnodes,-0.5),\n",
    "                         (self.hnodes,self.inodes))\n",
    "        #np.random.normal(평균,표준편차,개수)\n",
    "\n",
    "#은닉, 출력 계층 사이의 가중치 행렬\n",
    "        self.who=np.random.normal(0.0,\n",
    "                         pow(self.onodes,-0.5),\n",
    "                         (self.onodes,self.hnodes))\n",
    "        self.activation_function=lambda x:scipy.special.expit(x) #sigmoid\n",
    "    \n",
    "        pass\n",
    "    #신경망 학습 기능\n",
    "    def train():\n",
    "        pass\n",
    "    #신경망 질의 기능:신경망으로 들어오는 입력을 받아 출력을 반환\n",
    "    def query(self, inputs_list):\n",
    "        #입력리스트를 2차원 행렬로 변환\n",
    "        inputs=np.array(inputs_list, ndmin=2).T\n",
    "        \n",
    "        #은닉계층으로 들어오는 신호를 계산\n",
    "        hidden_inputs=np.dot(self.wih,inputs)\n",
    "        #은닉계층에서 나가는 신호 계산\n",
    "        hidden_outputs=self.activation_function(hidden_inputs)        \n",
    "        #출력계층으로 들어오는 신호를 계산\n",
    "        final_inputs=np.dot(self.who, hidden_outputs)\n",
    "        #출력계층에서 나가는 신호 계산\n",
    "        final_outputs=self.activation_function(final_inputs)\n",
    "        return final_outputs"
   ]
  },
  {
   "cell_type": "code",
   "execution_count": 9,
   "metadata": {},
   "outputs": [
    {
     "data": {
      "text/plain": [
       "array([[0.64733906],\n",
       "       [0.52432196],\n",
       "       [0.44095607]])"
      ]
     },
     "execution_count": 9,
     "metadata": {},
     "output_type": "execute_result"
    }
   ],
   "source": [
    "#입력, 은닉, 출력 노드 수\n",
    "input_nodes=3\n",
    "hidden_nodes=3\n",
    "output_nodes=3\n",
    "#학습률 정의(0.1~0.001)\n",
    "learning_rate=0.3\n",
    "\n",
    "#신경망 클래스 객체를 생성\n",
    "n=neuralNetwork(input_nodes,hidden_nodes,output_nodes,learning_rate)\n",
    "n.query([1.0, 0.5, -1.5])"
   ]
  },
  {
   "cell_type": "code",
   "execution_count": 35,
   "metadata": {},
   "outputs": [],
   "source": [
    "#np.random.rand(3,3)-0.5\n",
    "\n",
    "#정규분포를 따르는 난수함수\n"
   ]
  },
  {
   "cell_type": "code",
   "execution_count": 26,
   "metadata": {},
   "outputs": [
    {
     "data": {
      "text/plain": [
       "0.3333333333333333"
      ]
     },
     "execution_count": 26,
     "metadata": {},
     "output_type": "execute_result"
    }
   ],
   "source": [
    "pow(3,2) #3**2\n",
    "pow(9,-0.5)"
   ]
  },
  {
   "cell_type": "code",
   "execution_count": null,
   "metadata": {},
   "outputs": [],
   "source": []
  },
  {
   "cell_type": "code",
   "execution_count": null,
   "metadata": {},
   "outputs": [],
   "source": []
  },
  {
   "cell_type": "code",
   "execution_count": 32,
   "metadata": {},
   "outputs": [
    {
     "data": {
      "text/plain": [
       "array([[1, 2, 3]])"
      ]
     },
     "execution_count": 32,
     "metadata": {},
     "output_type": "execute_result"
    }
   ],
   "source": [
    "np.array([1,2,3])\n",
    "np.array([1,2,3.0])\n",
    "np.array([[1,2],[3,4]])\n",
    "np.array([1,2,3], ndmin=2)"
   ]
  },
  {
   "cell_type": "code",
   "execution_count": null,
   "metadata": {},
   "outputs": [],
   "source": []
  }
 ],
 "metadata": {
  "kernelspec": {
   "display_name": "Python 3",
   "language": "python",
   "name": "python3"
  },
  "language_info": {
   "codemirror_mode": {
    "name": "ipython",
    "version": 3
   },
   "file_extension": ".py",
   "mimetype": "text/x-python",
   "name": "python",
   "nbconvert_exporter": "python",
   "pygments_lexer": "ipython3",
   "version": "3.7.4"
  }
 },
 "nbformat": 4,
 "nbformat_minor": 2
}
