{
 "cells": [
  {
   "cell_type": "markdown",
   "metadata": {},
   "source": [
    "# 추천시스템\n",
    ": 사용자의 취향파악\n",
    " - 컨텐츠 기반\n",
    " - 협업 기반 -> 메모리기반(KNN) / 잠재요인(latent factor)\n",
    " \n",
    " KNN -> 사용자기반 / 아이템기반\n",
    " "
   ]
  },
  {
   "cell_type": "code",
   "execution_count": 10,
   "metadata": {},
   "outputs": [],
   "source": [
    "import numpy as np\n",
    "import pandas as pd\n",
    "\n",
    "import warnings\n",
    "warnings.filterwarnings(action='ignore')"
   ]
  },
  {
   "cell_type": "code",
   "execution_count": 123,
   "metadata": {},
   "outputs": [],
   "source": [
    "critics={\n",
    "    'BTS':{'암수살인':5, '바울':4, '할로윈':1.5},\n",
    "    '손흥민':{'바울':5, '할로윈':2},\n",
    "    '레드벨벳':{'암수살인':2.5, '바울':2, '할로윈':1},\n",
    "    '트와이스':{'암수살인':3.5, '바울':4, '할로윈':5}\n",
    "}"
   ]
  },
  {
   "cell_type": "code",
   "execution_count": 27,
   "metadata": {},
   "outputs": [
    {
     "name": "stdout",
     "output_type": "stream",
     "text": [
      "None\n"
     ]
    },
    {
     "data": {
      "text/plain": [
       "4"
      ]
     },
     "execution_count": 27,
     "metadata": {},
     "output_type": "execute_result"
    }
   ],
   "source": [
    "critics['BTS']\n",
    "# critics['super']  # key error\n",
    "\n",
    "print(critics.get('super'))  # None\n",
    "\n",
    "critics.get('BTS').get('바울')"
   ]
  },
  {
   "cell_type": "code",
   "execution_count": 29,
   "metadata": {},
   "outputs": [],
   "source": [
    "from math import sqrt"
   ]
  },
  {
   "cell_type": "code",
   "execution_count": 36,
   "metadata": {},
   "outputs": [],
   "source": [
    "# sqrt(pow(3,2) + pow(1,2))\n",
    "\n",
    "def sim(i,j):  # i : x좌표 거리, j : y좌표 거리\n",
    "    return sqrt(pow(i,2) + pow(j,2))"
   ]
  },
  {
   "cell_type": "code",
   "execution_count": 45,
   "metadata": {},
   "outputs": [
    {
     "name": "stdout",
     "output_type": "stream",
     "text": [
      "3.1622776601683795\n"
     ]
    }
   ],
   "source": [
    "v1 = critics['손흥민']['바울'] - critics['레드벨벳']['바울']\n",
    "v2 = critics['손흥민']['할로윈'] - critics['레드벨벳']['할로윈']\n",
    "print(sim(v1,v2))"
   ]
  },
  {
   "cell_type": "code",
   "execution_count": 56,
   "metadata": {},
   "outputs": [
    {
     "name": "stdout",
     "output_type": "stream",
     "text": [
      "BTS 와의 거리 :  1.118033988749895\n",
      "레드벨벳 와의 거리 :  3.1622776601683795\n",
      "트와이스 와의 거리 :  3.1622776601683795\n"
     ]
    }
   ],
   "source": [
    "for i in critics:\n",
    "    if i != '손흥민':\n",
    "        d1 = critics.get('손흥민').get('바울') - critics.get(i).get('바울')\n",
    "        d2 = critics.get('손흥민').get('할로윈') - critics.get(i).get('할로윈')\n",
    "        \n",
    "        print(i,'와의 거리 : ',sim(d1,d2))"
   ]
  },
  {
   "cell_type": "code",
   "execution_count": 60,
   "metadata": {},
   "outputs": [
    {
     "name": "stdout",
     "output_type": "stream",
     "text": [
      "BTS 와의 유사도 :  0.4721359549995794\n",
      "레드벨벳 와의 유사도 :  0.2402530733520421\n",
      "트와이스 와의 유사도 :  0.2402530733520421\n"
     ]
    }
   ],
   "source": [
    "for i in critics:\n",
    "    if i != '손흥민':\n",
    "        d1 = critics.get('손흥민').get('바울') - critics.get(i).get('바울')\n",
    "        d2 = critics.get('손흥민').get('할로윈') - critics.get(i).get('할로윈')\n",
    "        \n",
    "        # print(i,'와의 거리 : ',sim(d1,d2))\n",
    "        # 0 ~ 유사도 ~ 1\n",
    "        \n",
    "        print(i,'와의 유사도 : ',1/(sim(d1,d2) + 1))"
   ]
  },
  {
   "cell_type": "code",
   "execution_count": 86,
   "metadata": {},
   "outputs": [
    {
     "name": "stdout",
     "output_type": "stream",
     "text": [
      "0.20799159651347807\n",
      "0.23582845781094\n",
      "0.4721359549995794\n"
     ]
    }
   ],
   "source": [
    "# 유클리디안 거리 : 다차원 공간에서 두 점 사이의 거리\n",
    "def sim_distance(data, name1, name2):\n",
    "    # 구현부분\n",
    "    dis = 0\n",
    "    for i in data[name1] : # {'암수살인': 5, '바울': 4, '할로윈': 1.5}\n",
    "        if i in data[name2]:\n",
    "            dis += pow(data[name1].get(i) - data[name2].get(i),2)\n",
    "            \n",
    "    data[name2] # {'암수살인': 3.5, '바울': 4, '할로윈': 5}\n",
    "    \n",
    "    # 유사도로 변환해서 출력\n",
    "    return 1/(sqrt(dis)+1)\n",
    "    \n",
    "print(sim_distance(critics, 'BTS', '트와이스'))\n",
    "print(sim_distance(critics, 'BTS', '레드벨벳'))\n",
    "print(sim_distance(critics, 'BTS', '손흥민'))"
   ]
  },
  {
   "cell_type": "code",
   "execution_count": 97,
   "metadata": {},
   "outputs": [
    {
     "name": "stdout",
     "output_type": "stream",
     "text": [
      "레드벨벳 택시운전사 2.5\n",
      "블랙핑크 택시운전사 3.0\n",
      "소녀시대 택시운전사 2.5\n",
      "오마이걸 택시운전사 3.0\n",
      "모모랜드 택시운전사 3.0\n",
      "레드벨벳 겨울왕국 3.5\n",
      "블랙핑크 겨울왕국 3.5\n",
      "소녀시대 겨울왕국 3.0\n",
      "마마무 겨울왕국 3.5\n",
      "오마이걸 겨울왕국 4.0\n",
      "모모랜드 겨울왕국 4.0\n",
      "우주소녀 겨울왕국 4.5\n",
      "레드벨벳 리빙라스베가스 3.0\n",
      "블랙핑크 리빙라스베가스 1.5\n",
      "마마무 리빙라스베가스 3.0\n",
      "오마이걸 리빙라스베가스 2.0\n",
      "레드벨벳 넘버3 3.5\n",
      "블랙핑크 넘버3 5.0\n",
      "소녀시대 넘버3 3.5\n",
      "마마무 넘버3 4.0\n",
      "오마이걸 넘버3 3.0\n",
      "모모랜드 넘버3 5.0\n",
      "우주소녀 넘버3 4.0\n",
      "레드벨벳 사랑과전쟁 2.5\n",
      "블랙핑크 사랑과전쟁 3.5\n",
      "마마무 사랑과전쟁 2.5\n",
      "오마이걸 사랑과전쟁 2.0\n",
      "모모랜드 사랑과전쟁 3.5\n",
      "우주소녀 사랑과전쟁 1.0\n",
      "레드벨벳 세계대전 3.0\n",
      "블랙핑크 세계대전 3.0\n",
      "소녀시대 세계대전 4.0\n",
      "마마무 세계대전 4.5\n",
      "오마이걸 세계대전 3.5\n",
      "모모랜드 세계대전 3.0\n"
     ]
    }
   ],
   "source": [
    "# 데이터, 기준관객, 등수, 유사도함수 : sim_distance함수를 simf라는이름으로 사용하겠다.\n",
    "def top_match(data, name, rank=2, simf = sim_distance):\n",
    "    \n",
    "    for i in data[name]:\n",
    "        for j in data:\n",
    "            if (j != name) & (i in data[j]):\n",
    "                print(j,i,data[j][i])\n",
    "        \n",
    "    return\n",
    "\n",
    "# critics에서 BTS와 공통으로 본 영화 중에서 가장 유사하게 평점을 준 관객 2명을 출력\n",
    "top_match(critics,'BTS')"
   ]
  },
  {
   "cell_type": "code",
   "execution_count": 124,
   "metadata": {},
   "outputs": [
    {
     "name": "stdout",
     "output_type": "stream",
     "text": [
      "[(0.4721359549995794, '손흥민'), (0.23582845781094, '레드벨벳')]\n"
     ]
    }
   ],
   "source": [
    "# 데이터, 기준관객, 등수, 유사도함수 : sim_distance함수를 simf라는이름으로 사용하겠다.\n",
    "def top_match(data, name, rank=2, simf = sim_distance):\n",
    "    \n",
    "    simList = []\n",
    "    \n",
    "    for i in data:\n",
    "        if i != name:\n",
    "            simList.append((simf(data, name, i), i ))\n",
    "    simList.sort()    # 오름차순정렬\n",
    "    simList.reverse() # 내림차순으로 변경\n",
    "    \n",
    "    return simList[:rank]\n",
    "\n",
    "# critics에서 BTS와 공통으로 본 영화 중에서 가장 유사하게 평점을 준 관객 2명을 출력\n",
    "print(top_match(critics,'BTS'))"
   ]
  },
  {
   "cell_type": "code",
   "execution_count": 143,
   "metadata": {},
   "outputs": [],
   "source": [
    "import matplotlib.pyplot as plt\n",
    "import matplotlib\n",
    "from matplotlib import font_manager, rc\n",
    "import platform\n",
    "if platform.system()==\"Windows\":\n",
    "    font_name=font_manager.FontProperties(fname=\"c:/Windows/Fonts/malgun.ttf\").get_name()\n",
    "    rc('font', family=font_name)\n",
    "matplotlib.rcParams['axes.unicode_minus']=False\n",
    "\n",
    "import warnings\n",
    "warnings.filterwarnings(\"ignore\")"
   ]
  },
  {
   "cell_type": "code",
   "execution_count": 144,
   "metadata": {},
   "outputs": [],
   "source": [
    "def myBar(data, lab):\n",
    "    # 시각화\n",
    "    pos = range(len(data))\n",
    "    plt.barh(pos, data, height=0.5, color='b')  # 가로\n",
    "    plt.yticks(pos,lab)\n",
    "    plt.show()"
   ]
  },
  {
   "cell_type": "code",
   "execution_count": 145,
   "metadata": {},
   "outputs": [
    {
     "name": "stdout",
     "output_type": "stream",
     "text": [
      "[0.4721359549995794, 0.23582845781094, 0.20799159651347807]\n",
      "['손흥민', '레드벨벳', '트와이스']\n"
     ]
    },
    {
     "data": {
      "image/png": "[encoded data removed]",
      "text/plain": [
       "<Figure size 432x288 with 1 Axes>"
      ]
     },
     "metadata": {
      "needs_background": "light"
     },
     "output_type": "display_data"
    }
   ],
   "source": [
    "# 튜플 분리\n",
    "li = top_match(critics,'BTS',3)\n",
    "scoreList = []\n",
    "nameList = []\n",
    "\n",
    "for i in li :\n",
    "    scoreList.append(i[0])\n",
    "    nameList.append(i[1])\n",
    "    \n",
    "print(scoreList)\n",
    "print(nameList)\n",
    "\n",
    "myBar(scoreList,nameList)"
   ]
  },
  {
   "cell_type": "code",
   "execution_count": null,
   "metadata": {},
   "outputs": [],
   "source": []
  },
  {
   "cell_type": "code",
   "execution_count": 146,
   "metadata": {},
   "outputs": [],
   "source": [
    "critics = {\n",
    "    '레드벨벳': {\n",
    "        '택시운전사': 2.5,\n",
    "        '겨울왕국': 3.5,\n",
    "        '리빙라스베가스': 3.0,\n",
    "        '넘버3': 3.5,\n",
    "        '사랑과전쟁': 2.5,\n",
    "        '세계대전': 3.0,\n",
    "    },\n",
    "    'BTS': {\n",
    "        '택시운전사': 1.0,\n",
    "        '겨울왕국': 4.5,\n",
    "        '리빙라스베가스': 0.5,\n",
    "        '넘버3': 1.5,\n",
    "        '사랑과전쟁': 4.5,\n",
    "        '세계대전': 5.0,\n",
    "    },\n",
    "    '블랙핑크': {\n",
    "        '택시운전사': 3.0,\n",
    "        '겨울왕국': 3.5,\n",
    "        '리빙라스베가스': 1.5,\n",
    "        '넘버3': 5.0,\n",
    "        '세계대전': 3.0,\n",
    "        '사랑과전쟁': 3.5,\n",
    "    },\n",
    "    '소녀시대': {\n",
    "        '택시운전사': 2.5,\n",
    "        '겨울왕국': 3.0,\n",
    "        '넘버3': 3.5,\n",
    "        '세계대전': 4.0,\n",
    "    },\n",
    "    '마마무': {\n",
    "        '겨울왕국': 3.5,\n",
    "        '리빙라스베가스': 3.0,\n",
    "        '세계대전': 4.5,\n",
    "        '넘버3': 4.0,\n",
    "        '사랑과전쟁': 2.5,\n",
    "    },\n",
    "    '오마이걸': {\n",
    "        '택시운전사': 3.0,\n",
    "        '겨울왕국': 4.0,\n",
    "        '리빙라스베가스': 2.0,\n",
    "        '넘버3': 3.0,\n",
    "        '세계대전': 3.5,\n",
    "        '사랑과전쟁': 2.0,\n",
    "    },\n",
    "    '모모랜드': {\n",
    "        '택시운전사': 3.0,\n",
    "        '겨울왕국': 4.0,\n",
    "        '세계대전': 3.0,\n",
    "        '넘버3': 5.0,\n",
    "        '사랑과전쟁': 3.5,\n",
    "    },\n",
    "    '우주소녀': {'겨울왕국': 4.5, '사랑과전쟁': 1.0,\n",
    "             '넘버3': 4.0},\n",
    "}"
   ]
  },
  {
   "cell_type": "code",
   "execution_count": 159,
   "metadata": {},
   "outputs": [
    {
     "data": {
      "image/png": "[encoded data removed]",
      "text/plain": [
       "<Figure size 1008x576 with 1 Axes>"
      ]
     },
     "metadata": {
      "needs_background": "light"
     },
     "output_type": "display_data"
    }
   ],
   "source": [
    "def scoreGraph(data, n1, n2):\n",
    "    # 스캐터플롯 출력\n",
    "    plt.figure(figsize=(14,8))\n",
    "    li1 = []\n",
    "    li2 = []\n",
    "    for i in data[n1]:\n",
    "        if i in data[n2]:\n",
    "            li1.append(data[n1][i])\n",
    "            li2.append(data[n2][i])\n",
    "            plt.text(data[n1][i], data[n2][i], i, fontsize=12)\n",
    "            \n",
    "    plt.plot(li1, li2, 'ro')\n",
    "    plt.xlabel(n1)\n",
    "    plt.ylabel(n2)\n",
    "    plt.axis([0,6,0,6])\n",
    "    plt.show()\n",
    "    \n",
    "scoreGraph(critics, 'BTS','오마이걸')\n"
   ]
  },
  {
   "cell_type": "code",
   "execution_count": 223,
   "metadata": {},
   "outputs": [
    {
     "data": {
      "text/html": [
       "<div>\n",
       "<style scoped>\n",
       "    .dataframe tbody tr th:only-of-type {\n",
       "        vertical-align: middle;\n",
       "    }\n",
       "\n",
       "    .dataframe tbody tr th {\n",
       "        vertical-align: top;\n",
       "    }\n",
       "\n",
       "    .dataframe thead th {\n",
       "        text-align: right;\n",
       "    }\n",
       "</style>\n",
       "<table border=\"1\" class=\"dataframe\">\n",
       "  <thead>\n",
       "    <tr style=\"text-align: right;\">\n",
       "      <th></th>\n",
       "      <th>레드벨벳</th>\n",
       "      <th>BTS</th>\n",
       "      <th>블랙핑크</th>\n",
       "      <th>소녀시대</th>\n",
       "      <th>마마무</th>\n",
       "      <th>오마이걸</th>\n",
       "      <th>모모랜드</th>\n",
       "      <th>우주소녀</th>\n",
       "    </tr>\n",
       "  </thead>\n",
       "  <tbody>\n",
       "    <tr>\n",
       "      <td>택시운전사</td>\n",
       "      <td>2.5</td>\n",
       "      <td>1.0</td>\n",
       "      <td>3.0</td>\n",
       "      <td>2.5</td>\n",
       "      <td>NaN</td>\n",
       "      <td>3.0</td>\n",
       "      <td>3.0</td>\n",
       "      <td>NaN</td>\n",
       "    </tr>\n",
       "    <tr>\n",
       "      <td>겨울왕국</td>\n",
       "      <td>3.5</td>\n",
       "      <td>4.5</td>\n",
       "      <td>3.5</td>\n",
       "      <td>3.0</td>\n",
       "      <td>3.5</td>\n",
       "      <td>4.0</td>\n",
       "      <td>4.0</td>\n",
       "      <td>4.5</td>\n",
       "    </tr>\n",
       "    <tr>\n",
       "      <td>리빙라스베가스</td>\n",
       "      <td>3.0</td>\n",
       "      <td>0.5</td>\n",
       "      <td>1.5</td>\n",
       "      <td>NaN</td>\n",
       "      <td>3.0</td>\n",
       "      <td>2.0</td>\n",
       "      <td>NaN</td>\n",
       "      <td>NaN</td>\n",
       "    </tr>\n",
       "    <tr>\n",
       "      <td>넘버3</td>\n",
       "      <td>3.5</td>\n",
       "      <td>1.5</td>\n",
       "      <td>5.0</td>\n",
       "      <td>3.5</td>\n",
       "      <td>4.0</td>\n",
       "      <td>3.0</td>\n",
       "      <td>5.0</td>\n",
       "      <td>4.0</td>\n",
       "    </tr>\n",
       "    <tr>\n",
       "      <td>사랑과전쟁</td>\n",
       "      <td>2.5</td>\n",
       "      <td>4.5</td>\n",
       "      <td>3.5</td>\n",
       "      <td>NaN</td>\n",
       "      <td>2.5</td>\n",
       "      <td>2.0</td>\n",
       "      <td>3.5</td>\n",
       "      <td>1.0</td>\n",
       "    </tr>\n",
       "    <tr>\n",
       "      <td>세계대전</td>\n",
       "      <td>3.0</td>\n",
       "      <td>5.0</td>\n",
       "      <td>3.0</td>\n",
       "      <td>4.0</td>\n",
       "      <td>4.5</td>\n",
       "      <td>3.5</td>\n",
       "      <td>3.0</td>\n",
       "      <td>NaN</td>\n",
       "    </tr>\n",
       "  </tbody>\n",
       "</table>\n",
       "</div>"
      ],
      "text/plain": [
       "         레드벨벳  BTS  블랙핑크  소녀시대  마마무  오마이걸  모모랜드  우주소녀\n",
       "택시운전사     2.5  1.0   3.0   2.5  NaN   3.0   3.0   NaN\n",
       "겨울왕국      3.5  4.5   3.5   3.0  3.5   4.0   4.0   4.5\n",
       "리빙라스베가스   3.0  0.5   1.5   NaN  3.0   2.0   NaN   NaN\n",
       "넘버3       3.5  1.5   5.0   3.5  4.0   3.0   5.0   4.0\n",
       "사랑과전쟁     2.5  4.5   3.5   NaN  2.5   2.0   3.5   1.0\n",
       "세계대전      3.0  5.0   3.0   4.0  4.5   3.5   3.0   NaN"
      ]
     },
     "execution_count": 223,
     "metadata": {},
     "output_type": "execute_result"
    }
   ],
   "source": [
    "pd.DataFrame(critics)"
   ]
  },
  {
   "cell_type": "code",
   "execution_count": 162,
   "metadata": {},
   "outputs": [
    {
     "data": {
      "text/plain": [
       "0.41791069697885247"
      ]
     },
     "execution_count": 162,
     "metadata": {},
     "output_type": "execute_result"
    }
   ],
   "source": [
    "def sim_pearson(data, n1, n2):\n",
    "    # 구현\n",
    "    sumX = 0\n",
    "    sumY = 0\n",
    "    sumSqX = 0\n",
    "    sumSqY = 0\n",
    "    sumXY = 0\n",
    "    cnt = 0\n",
    "    \n",
    "    for i in data[n1]:  # n1이 본 영화 이름\n",
    "        if i in data[n2]:  # 그 영화를 n2가 봤으면\n",
    "            sumX += data[n1][i]\n",
    "            sumY += data[n2][i]\n",
    "            sumSqX += pow(data[n1][i], 2)\n",
    "            sumSqY += pow(data[n2][i], 2)\n",
    "            sumXY += (data[n1][i] *  data[n2][i])\n",
    "            cnt += 1\n",
    "            \n",
    "    return (sumXY-((sumX*sumY)/cnt)) / sqrt((sumSqX-((pow(sumX,2))/cnt))*(sumSqY-((pow(sumY,2))/cnt)))\n",
    "\n",
    "sim_pearson(critics,'BTS','오마이걸')"
   ]
  },
  {
   "cell_type": "code",
   "execution_count": 166,
   "metadata": {},
   "outputs": [
    {
     "name": "stdout",
     "output_type": "stream",
     "text": [
      "[(0.5692099788303083, '소녀시대'), (0.41791069697885247, '오마이걸'), (0.21693045781865616, '블랙핑크'), (0.15430334996209194, '마마무'), (0.05477225575051661, '레드벨벳')]\n"
     ]
    }
   ],
   "source": [
    "# 전체 관객들에 대한 상관계수\n",
    "\n",
    "def top_match(data, name, rank=3, simp = sim_pearson):\n",
    "    \n",
    "    simList = []\n",
    "    \n",
    "    for i in data:\n",
    "        if i != name:\n",
    "            simList.append((simp(data, name, i), i ))\n",
    "            \n",
    "    simList.sort()    # 오름차순정렬\n",
    "    simList.reverse() # 내림차순으로 변경\n",
    "    \n",
    "    return simList[:rank]\n",
    "\n",
    "# critics에서 BTS와 공통으로 본 영화 중에서 상관계수가 가장 높은 5명을 추출\n",
    "print(top_match(critics,'BTS',5))"
   ]
  },
  {
   "cell_type": "code",
   "execution_count": null,
   "metadata": {},
   "outputs": [],
   "source": [
    "# 유사도 값에 대한 기준치를 충족하는 사람에 한해 예상평점 / 추천영화를 구하는데 사용\n",
    "'''\n",
    "1) 평점 추측 : 유사도 * 상대방의 영화평점\n",
    "ex - 소녀시대가 3점 부여, BTS와 소녀시대가 90% 유사도 =? 3*0.9 -> 2.7점 줄 것으로 예측\n",
    "-> 모든 관객에 대해 평점 추측 -> 총합\n",
    "\n",
    "2) 추측평점 총합 / 유사도 총합 => 모든 사람을 고려했을 때 예상되는 평점\n",
    "\n",
    "3) 예상되는 평점을 기준으로 아직 안 본 영화를 추천\n",
    "'''"
   ]
  },
  {
   "cell_type": "code",
   "execution_count": 188,
   "metadata": {},
   "outputs": [
    {
     "name": "stdout",
     "output_type": "stream",
     "text": [
      "[(3.0761574975571793, '사랑과전쟁'), (2.1938491995536373, '리빙라스베가스')]\n"
     ]
    }
   ],
   "source": [
    "def recommendation(data, person, sinf=sim_pearson):\n",
    "    res = top_match(data, person, len(data))\n",
    "    # print(res)\n",
    "    \n",
    "    simSum = 0\n",
    "    score_dict = {}  # 예상평점의 총합을 저장하기위한 dict\n",
    "    sim_dict = {}    # 유사도의 총합을 저장하기 위한 dict\n",
    "    \n",
    "    myList = []\n",
    "    \n",
    "    for sim, name in res:\n",
    "        if sim < 0 : continue\n",
    "        for movie in data[name]:\n",
    "            if movie not in data[person]:\n",
    "                simSum += sim * data[name][movie]\n",
    "                score_dict.setdefault(movie, 0 )\n",
    "                score_dict[movie] += simSum\n",
    "                \n",
    "                sim_dict.setdefault(movie, 0 )\n",
    "                sim_dict[movie] += sim\n",
    "            simSum = 0\n",
    "    \n",
    "    for key in score_dict:\n",
    "        score_dict[key] = score_dict[key] / sim_dict[key]\n",
    "        myList.append((score_dict[key], key))\n",
    "    myList.sort()\n",
    "    myList.reverse()\n",
    "    \n",
    "    print(myList)\n",
    "    return\n",
    "\n",
    "recommendation(critics,'소녀시대')\n",
    "# 소녀시대가 안 본 영화중에서 예상 평점이 가장 높은 영화 3편 출력"
   ]
  },
  {
   "cell_type": "code",
   "execution_count": 167,
   "metadata": {},
   "outputs": [
    {
     "data": {
      "text/html": [
       "<div>\n",
       "<style scoped>\n",
       "    .dataframe tbody tr th:only-of-type {\n",
       "        vertical-align: middle;\n",
       "    }\n",
       "\n",
       "    .dataframe tbody tr th {\n",
       "        vertical-align: top;\n",
       "    }\n",
       "\n",
       "    .dataframe thead th {\n",
       "        text-align: right;\n",
       "    }\n",
       "</style>\n",
       "<table border=\"1\" class=\"dataframe\">\n",
       "  <thead>\n",
       "    <tr style=\"text-align: right;\">\n",
       "      <th></th>\n",
       "      <th>레드벨벳</th>\n",
       "      <th>BTS</th>\n",
       "      <th>블랙핑크</th>\n",
       "      <th>소녀시대</th>\n",
       "      <th>마마무</th>\n",
       "      <th>오마이걸</th>\n",
       "      <th>모모랜드</th>\n",
       "      <th>우주소녀</th>\n",
       "    </tr>\n",
       "  </thead>\n",
       "  <tbody>\n",
       "    <tr>\n",
       "      <td>택시운전사</td>\n",
       "      <td>2.5</td>\n",
       "      <td>1.0</td>\n",
       "      <td>3.0</td>\n",
       "      <td>2.5</td>\n",
       "      <td>NaN</td>\n",
       "      <td>3.0</td>\n",
       "      <td>3.0</td>\n",
       "      <td>NaN</td>\n",
       "    </tr>\n",
       "    <tr>\n",
       "      <td>겨울왕국</td>\n",
       "      <td>3.5</td>\n",
       "      <td>4.5</td>\n",
       "      <td>3.5</td>\n",
       "      <td>3.0</td>\n",
       "      <td>3.5</td>\n",
       "      <td>4.0</td>\n",
       "      <td>4.0</td>\n",
       "      <td>4.5</td>\n",
       "    </tr>\n",
       "    <tr>\n",
       "      <td>리빙라스베가스</td>\n",
       "      <td>3.0</td>\n",
       "      <td>0.5</td>\n",
       "      <td>1.5</td>\n",
       "      <td>NaN</td>\n",
       "      <td>3.0</td>\n",
       "      <td>2.0</td>\n",
       "      <td>NaN</td>\n",
       "      <td>NaN</td>\n",
       "    </tr>\n",
       "    <tr>\n",
       "      <td>넘버3</td>\n",
       "      <td>3.5</td>\n",
       "      <td>1.5</td>\n",
       "      <td>5.0</td>\n",
       "      <td>3.5</td>\n",
       "      <td>4.0</td>\n",
       "      <td>3.0</td>\n",
       "      <td>5.0</td>\n",
       "      <td>4.0</td>\n",
       "    </tr>\n",
       "    <tr>\n",
       "      <td>사랑과전쟁</td>\n",
       "      <td>2.5</td>\n",
       "      <td>4.5</td>\n",
       "      <td>3.5</td>\n",
       "      <td>NaN</td>\n",
       "      <td>2.5</td>\n",
       "      <td>2.0</td>\n",
       "      <td>3.5</td>\n",
       "      <td>1.0</td>\n",
       "    </tr>\n",
       "    <tr>\n",
       "      <td>세계대전</td>\n",
       "      <td>3.0</td>\n",
       "      <td>5.0</td>\n",
       "      <td>3.0</td>\n",
       "      <td>4.0</td>\n",
       "      <td>4.5</td>\n",
       "      <td>3.5</td>\n",
       "      <td>3.0</td>\n",
       "      <td>NaN</td>\n",
       "    </tr>\n",
       "  </tbody>\n",
       "</table>\n",
       "</div>"
      ],
      "text/plain": [
       "         레드벨벳  BTS  블랙핑크  소녀시대  마마무  오마이걸  모모랜드  우주소녀\n",
       "택시운전사     2.5  1.0   3.0   2.5  NaN   3.0   3.0   NaN\n",
       "겨울왕국      3.5  4.5   3.5   3.0  3.5   4.0   4.0   4.5\n",
       "리빙라스베가스   3.0  0.5   1.5   NaN  3.0   2.0   NaN   NaN\n",
       "넘버3       3.5  1.5   5.0   3.5  4.0   3.0   5.0   4.0\n",
       "사랑과전쟁     2.5  4.5   3.5   NaN  2.5   2.0   3.5   1.0\n",
       "세계대전      3.0  5.0   3.0   4.0  4.5   3.5   3.0   NaN"
      ]
     },
     "execution_count": 167,
     "metadata": {},
     "output_type": "execute_result"
    }
   ],
   "source": [
    "pd.DataFrame(critics)"
   ]
  },
  {
   "cell_type": "code",
   "execution_count": 206,
   "metadata": {},
   "outputs": [
    {
     "name": "stdout",
     "output_type": "stream",
     "text": [
      "{'a': 10, 'b': 20, 'c': None}\n",
      "\n",
      "{'a': 10, 'b': 20, 'c': None, 'd': 30}\n",
      "\n",
      "{'a': 50, 'b': 20, 'c': None, 'd': 30}\n",
      "\n",
      "{'a': 50, 'b': 20, 'c': None, 'd': 30}\n",
      "\n",
      "{'a': 55, 'b': 20, 'c': None, 'd': 30}\n",
      "\n"
     ]
    }
   ],
   "source": [
    "# setdefault 연습\n",
    "x = {'a':10, 'b':20}\n",
    "x.setdefault('c')\n",
    "print(x, end='\\n\\n')\n",
    "\n",
    "x.setdefault('d',30)\n",
    "print(x, end='\\n\\n')\n",
    "\n",
    "x.update(a=50)\n",
    "print(x, end='\\n\\n')\n",
    "\n",
    "x.setdefault('a',100)  # 키가 이미 있으면 X\n",
    "print(x, end='\\n\\n')\n",
    "\n",
    "x['a'] += 5\n",
    "print(x, end='\\n\\n')"
   ]
  },
  {
   "cell_type": "code",
   "execution_count": 205,
   "metadata": {},
   "outputs": [
    {
     "data": {
      "text/plain": [
       "{'a': 55, 'b': 20, 'c': None, 'd': 30}"
      ]
     },
     "execution_count": 205,
     "metadata": {},
     "output_type": "execute_result"
    }
   ],
   "source": [
    "1. 나와 가장 상관계수가 높게 나온 5명\n",
    "2. 내가 안 본 영화 중에서 추천 점수가 가장 높은 순으로 영화제목과 예상평점을 출력 "
   ]
  },
  {
   "cell_type": "code",
   "execution_count": 270,
   "metadata": {},
   "outputs": [],
   "source": [
    "from numpy import NaN, nan, NAN"
   ]
  },
  {
   "cell_type": "code",
   "execution_count": 288,
   "metadata": {},
   "outputs": [
    {
     "data": {
      "text/html": [
       "<div>\n",
       "<style scoped>\n",
       "    .dataframe tbody tr th:only-of-type {\n",
       "        vertical-align: middle;\n",
       "    }\n",
       "\n",
       "    .dataframe tbody tr th {\n",
       "        vertical-align: top;\n",
       "    }\n",
       "\n",
       "    .dataframe thead th {\n",
       "        text-align: right;\n",
       "    }\n",
       "</style>\n",
       "<table border=\"1\" class=\"dataframe\">\n",
       "  <thead>\n",
       "    <tr style=\"text-align: right;\">\n",
       "      <th></th>\n",
       "      <th>고재형</th>\n",
       "      <th>김건우</th>\n",
       "      <th>박경호</th>\n",
       "      <th>박찬</th>\n",
       "      <th>김경아</th>\n",
       "      <th>정서영</th>\n",
       "      <th>정한음</th>\n",
       "      <th>오종민</th>\n",
       "      <th>차유화</th>\n",
       "      <th>이성천</th>\n",
       "      <th>이은성</th>\n",
       "      <th>김나연</th>\n",
       "      <th>조준형</th>\n",
       "      <th>김태현</th>\n",
       "      <th>한미래</th>\n",
       "      <th>조현진</th>\n",
       "      <th>유기욱</th>\n",
       "      <th>김경한</th>\n",
       "      <th>신아영</th>\n",
       "      <th>엄다연</th>\n",
       "    </tr>\n",
       "  </thead>\n",
       "  <tbody>\n",
       "    <tr>\n",
       "      <td>명량</td>\n",
       "      <td>nan</td>\n",
       "      <td>4</td>\n",
       "      <td>4</td>\n",
       "      <td>4</td>\n",
       "      <td>4</td>\n",
       "      <td>3</td>\n",
       "      <td>4</td>\n",
       "      <td>3</td>\n",
       "      <td>nan</td>\n",
       "      <td>nan</td>\n",
       "      <td>2</td>\n",
       "      <td>3</td>\n",
       "      <td>4</td>\n",
       "      <td>nan</td>\n",
       "      <td>3</td>\n",
       "      <td>nan</td>\n",
       "      <td>3.5</td>\n",
       "      <td>2</td>\n",
       "      <td>nan</td>\n",
       "      <td>3</td>\n",
       "    </tr>\n",
       "    <tr>\n",
       "      <td>국제시장</td>\n",
       "      <td>nan</td>\n",
       "      <td>4.5</td>\n",
       "      <td>5</td>\n",
       "      <td>5</td>\n",
       "      <td>4</td>\n",
       "      <td>2</td>\n",
       "      <td>5</td>\n",
       "      <td>4.5</td>\n",
       "      <td>3.5</td>\n",
       "      <td>nan</td>\n",
       "      <td>nan</td>\n",
       "      <td>3.5</td>\n",
       "      <td>3</td>\n",
       "      <td>4</td>\n",
       "      <td>nan</td>\n",
       "      <td>nan</td>\n",
       "      <td>4.0</td>\n",
       "      <td>4</td>\n",
       "      <td>nan</td>\n",
       "      <td>5</td>\n",
       "    </tr>\n",
       "    <tr>\n",
       "      <td>아바타</td>\n",
       "      <td>4.5</td>\n",
       "      <td>nan</td>\n",
       "      <td>4.5</td>\n",
       "      <td>3</td>\n",
       "      <td>nan</td>\n",
       "      <td>5</td>\n",
       "      <td>5</td>\n",
       "      <td>4.5</td>\n",
       "      <td>4</td>\n",
       "      <td>5</td>\n",
       "      <td>4.5</td>\n",
       "      <td>nan</td>\n",
       "      <td>3.5</td>\n",
       "      <td>3</td>\n",
       "      <td>4</td>\n",
       "      <td>4</td>\n",
       "      <td>4.5</td>\n",
       "      <td>5</td>\n",
       "      <td>nan</td>\n",
       "      <td>nan</td>\n",
       "    </tr>\n",
       "    <tr>\n",
       "      <td>택시운전사</td>\n",
       "      <td>3.5</td>\n",
       "      <td>nan</td>\n",
       "      <td>nan</td>\n",
       "      <td>nan</td>\n",
       "      <td>4</td>\n",
       "      <td>3</td>\n",
       "      <td>4</td>\n",
       "      <td>1.5</td>\n",
       "      <td>3.5</td>\n",
       "      <td>nan</td>\n",
       "      <td>nan</td>\n",
       "      <td>4</td>\n",
       "      <td>4</td>\n",
       "      <td>nan</td>\n",
       "      <td>5</td>\n",
       "      <td>nan</td>\n",
       "      <td>4.5</td>\n",
       "      <td>3</td>\n",
       "      <td>nan</td>\n",
       "      <td>nan</td>\n",
       "    </tr>\n",
       "    <tr>\n",
       "      <td>부산행</td>\n",
       "      <td>4</td>\n",
       "      <td>nan</td>\n",
       "      <td>2</td>\n",
       "      <td>4.5</td>\n",
       "      <td>4</td>\n",
       "      <td>1</td>\n",
       "      <td>5</td>\n",
       "      <td>nan</td>\n",
       "      <td>2</td>\n",
       "      <td>nan</td>\n",
       "      <td>nan</td>\n",
       "      <td>3</td>\n",
       "      <td>nan</td>\n",
       "      <td>3</td>\n",
       "      <td>4</td>\n",
       "      <td>nan</td>\n",
       "      <td>4.5</td>\n",
       "      <td>5</td>\n",
       "      <td>2.5</td>\n",
       "      <td>4</td>\n",
       "    </tr>\n",
       "    <tr>\n",
       "      <td>변호인</td>\n",
       "      <td>nan</td>\n",
       "      <td>3.5</td>\n",
       "      <td>3.5</td>\n",
       "      <td>3.5</td>\n",
       "      <td>3</td>\n",
       "      <td>nan</td>\n",
       "      <td>nan</td>\n",
       "      <td>3.5</td>\n",
       "      <td>3.5</td>\n",
       "      <td>nan</td>\n",
       "      <td>3.5</td>\n",
       "      <td>4</td>\n",
       "      <td>4.5</td>\n",
       "      <td>4</td>\n",
       "      <td>4</td>\n",
       "      <td>nan</td>\n",
       "      <td>4.0</td>\n",
       "      <td>nan</td>\n",
       "      <td>nan</td>\n",
       "      <td>3.5</td>\n",
       "    </tr>\n",
       "    <tr>\n",
       "      <td>겨울왕국</td>\n",
       "      <td>4</td>\n",
       "      <td>2.5</td>\n",
       "      <td>0</td>\n",
       "      <td>3</td>\n",
       "      <td>4</td>\n",
       "      <td>3</td>\n",
       "      <td>5</td>\n",
       "      <td>4</td>\n",
       "      <td>4</td>\n",
       "      <td>3</td>\n",
       "      <td>4</td>\n",
       "      <td>4</td>\n",
       "      <td>nan</td>\n",
       "      <td>3</td>\n",
       "      <td>3</td>\n",
       "      <td>4</td>\n",
       "      <td>4.0</td>\n",
       "      <td>5</td>\n",
       "      <td>3</td>\n",
       "      <td>nan</td>\n",
       "    </tr>\n",
       "    <tr>\n",
       "      <td>기생충</td>\n",
       "      <td>4</td>\n",
       "      <td>nan</td>\n",
       "      <td>5</td>\n",
       "      <td>5</td>\n",
       "      <td>5</td>\n",
       "      <td>5</td>\n",
       "      <td>nan</td>\n",
       "      <td>nan</td>\n",
       "      <td>3</td>\n",
       "      <td>nan</td>\n",
       "      <td>5</td>\n",
       "      <td>3</td>\n",
       "      <td>5</td>\n",
       "      <td>4</td>\n",
       "      <td>5</td>\n",
       "      <td>nan</td>\n",
       "      <td>4.5</td>\n",
       "      <td>5</td>\n",
       "      <td>nan</td>\n",
       "      <td>4</td>\n",
       "    </tr>\n",
       "  </tbody>\n",
       "</table>\n",
       "</div>"
      ],
      "text/plain": [
       "       고재형  김건우  박경호   박찬  김경아  정서영  정한음  오종민  차유화  이성천  이은성  김나연  조준형  김태현  \\\n",
       "명량     nan    4    4    4    4    3    4    3  nan  nan    2    3    4  nan   \n",
       "국제시장   nan  4.5    5    5    4    2    5  4.5  3.5  nan  nan  3.5    3    4   \n",
       "아바타    4.5  nan  4.5    3  nan    5    5  4.5    4    5  4.5  nan  3.5    3   \n",
       "택시운전사  3.5  nan  nan  nan    4    3    4  1.5  3.5  nan  nan    4    4  nan   \n",
       "부산행      4  nan    2  4.5    4    1    5  nan    2  nan  nan    3  nan    3   \n",
       "변호인    nan  3.5  3.5  3.5    3  nan  nan  3.5  3.5  nan  3.5    4  4.5    4   \n",
       "겨울왕국     4  2.5    0    3    4    3    5    4    4    3    4    4  nan    3   \n",
       "기생충      4  nan    5    5    5    5  nan  nan    3  nan    5    3    5    4   \n",
       "\n",
       "       한미래  조현진  유기욱  김경한  신아영  엄다연  \n",
       "명량       3  nan  3.5    2  nan    3  \n",
       "국제시장   nan  nan  4.0    4  nan    5  \n",
       "아바타      4    4  4.5    5  nan  nan  \n",
       "택시운전사    5  nan  4.5    3  nan  nan  \n",
       "부산행      4  nan  4.5    5  2.5    4  \n",
       "변호인      4  nan  4.0  nan  nan  3.5  \n",
       "겨울왕국     3    4  4.0    5    3  nan  \n",
       "기생충      5  nan  4.5    5  nan    4  "
      ]
     },
     "execution_count": 288,
     "metadata": {},
     "output_type": "execute_result"
    }
   ],
   "source": [
    "df = pd.read_excel('data/영화평점.xlsx', header=1, index_col=0)\n",
    "df = df.T\n",
    "df\n",
    "df = df.fillna('nan')\n",
    "df"
   ]
  },
  {
   "cell_type": "code",
   "execution_count": 289,
   "metadata": {},
   "outputs": [
    {
     "data": {
      "text/plain": [
       "Index(['고재형', '김건우', '박경호', '박찬', '김경아', '정서영', '정한음', '오종민', '차유화', '이성천',\n",
       "       '이은성', '김나연', '조준형', '김태현', '한미래', '조현진', '유기욱', '김경한', '신아영', '엄다연'],\n",
       "      dtype='object')"
      ]
     },
     "execution_count": 289,
     "metadata": {},
     "output_type": "execute_result"
    }
   ],
   "source": [
    "df.columns"
   ]
  },
  {
   "cell_type": "code",
   "execution_count": 298,
   "metadata": {},
   "outputs": [
    {
     "data": {
      "text/plain": [
       "0.2857142857142857"
      ]
     },
     "execution_count": 298,
     "metadata": {},
     "output_type": "execute_result"
    }
   ],
   "source": [
    "# 유클리디안 거리 : 다차원 공간에서 두 점 사이의 거리\n",
    "def sim_distance(data, name1, name2):\n",
    "    # 구현부분\n",
    "    dis = 0\n",
    "    for i in dict(data[name1]) :\n",
    "        if (data[name1][i] != 'nan') & (data[name2][i] != 'nan'):\n",
    "            dis += pow(data[name1][i] - data[name2][i],2)\n",
    "    # 유사도로 변환해서 출력\n",
    "    return 1/(sqrt(dis)+1)\n",
    "\n",
    "sim_distance(df,'유기욱','김경한')"
   ]
  },
  {
   "cell_type": "code",
   "execution_count": 385,
   "metadata": {},
   "outputs": [
    {
     "name": "stdout",
     "output_type": "stream",
     "text": [
      "[(1.0, '신아영'), (0.6666666666666666, '조현진'), (0.4, '이성천'), (0.4, '고재형'), (0.38742588672279304, '한미래'), (0.38742588672279304, '김태현'), (0.36602540378443865, '유기욱'), (0.3567891723253309, '김경아'), (0.3567891723253309, '김건우'), (0.30383243470068705, '정서영'), (0.30383243470068705, '박찬'), (0.2989350844248255, '김나연'), (0.29429805508554946, '차유화'), (0.28989794855663564, '이은성'), (0.28989794855663564, '박경호')]\n"
     ]
    }
   ],
   "source": [
    "# 데이터, 기준관객, 등수, 유사도함수 : sim_distance함수를 simf라는이름으로 사용하겠다.\n",
    "def top_match(data, name, rank=5, simf = sim_distance):\n",
    "    \n",
    "    simList = []\n",
    "    \n",
    "    for i in data.columns:\n",
    "        if i != name:\n",
    "            simList.append((simf(data, name, i), i ))\n",
    "    simList.sort()    # 오름차순정렬\n",
    "    simList.reverse() # 내림차순으로 변경\n",
    "    \n",
    "    return simList[:rank]\n",
    "\n",
    "# critics에서 BTS와 공통으로 본 영화 중에서 가장 유사하게 평점을 준 관객 2명을 출력\n",
    "print(top_match(df,'조준형',15))"
   ]
  },
  {
   "cell_type": "code",
   "execution_count": 386,
   "metadata": {},
   "outputs": [
    {
     "name": "stdout",
     "output_type": "stream",
     "text": [
      "[1.0, 0.6666666666666666, 0.4, 0.4, 0.38742588672279304, 0.38742588672279304, 0.36602540378443865]\n",
      "['신아영', '조현진', '이성천', '고재형', '한미래', '김태현', '유기욱']\n"
     ]
    },
    {
     "data": {
      "image/png": "[encoded data removed]",
      "text/plain": [
       "<Figure size 432x288 with 1 Axes>"
      ]
     },
     "metadata": {
      "needs_background": "light"
     },
     "output_type": "display_data"
    }
   ],
   "source": [
    "def myBar(data, lab):\n",
    "    # 시각화\n",
    "    pos = range(len(data))\n",
    "    plt.barh(pos, data, height=0.5, color='b')  # 가로\n",
    "    plt.yticks(pos,lab)\n",
    "    plt.show()\n",
    "    \n",
    "# 튜플 분리\n",
    "li = top_match(df,'조준형',7)\n",
    "scoreList = []\n",
    "nameList = []\n",
    "\n",
    "for i in li :\n",
    "    scoreList.append(i[0])\n",
    "    nameList.append(i[1])\n",
    "    \n",
    "print(scoreList)\n",
    "print(nameList)\n",
    "\n",
    "myBar(scoreList,nameList)"
   ]
  },
  {
   "cell_type": "code",
   "execution_count": 387,
   "metadata": {},
   "outputs": [
    {
     "data": {
      "image/png": "[encoded data removed]",
      "text/plain": [
       "<Figure size 1008x576 with 1 Axes>"
      ]
     },
     "metadata": {
      "needs_background": "light"
     },
     "output_type": "display_data"
    }
   ],
   "source": [
    "def scoreGraph(data, n1, n2):\n",
    "    # 스캐터플롯 출력\n",
    "    plt.figure(figsize=(14,8))\n",
    "    li1 = []\n",
    "    li2 = []\n",
    "    for i in dict(data[n1]) :\n",
    "        if (data[n1][i] != 'nan') & (data[n2][i] != 'nan'):\n",
    "            li1.append(data[n1][i])\n",
    "            li2.append(data[n2][i])\n",
    "            plt.text(data[n1][i], data[n2][i], i, fontsize=12)\n",
    "            \n",
    "    plt.plot(li1, li2, 'ro')\n",
    "    plt.xlabel(n1)\n",
    "    plt.ylabel(n2)\n",
    "    plt.axis([0,6,0,6])\n",
    "    plt.show()\n",
    "    \n",
    "scoreGraph(df, '조준형','김경한')"
   ]
  },
  {
   "cell_type": "code",
   "execution_count": 305,
   "metadata": {},
   "outputs": [
    {
     "data": {
      "text/plain": [
       "Index(['고재형', '김건우', '박경호', '박찬', '김경아', '정서영', '정한음', '오종민', '차유화', '이성천',\n",
       "       '이은성', '김나연', '조준형', '김태현', '한미래', '조현진', '유기욱', '김경한', '신아영', '엄다연'],\n",
       "      dtype='object')"
      ]
     },
     "execution_count": 305,
     "metadata": {},
     "output_type": "execute_result"
    }
   ],
   "source": [
    "df.columns"
   ]
  },
  {
   "cell_type": "code",
   "execution_count": 366,
   "metadata": {},
   "outputs": [
    {
     "data": {
      "text/plain": [
       "{'명량': 'nan',\n",
       " '국제시장': 'nan',\n",
       " '아바타': 4.0,\n",
       " '택시운전사': 'nan',\n",
       " '부산행': 'nan',\n",
       " '변호인': 'nan',\n",
       " '겨울왕국': 4.0,\n",
       " '기생충': 'nan'}"
      ]
     },
     "execution_count": 366,
     "metadata": {},
     "output_type": "execute_result"
    }
   ],
   "source": [
    "dict(df['조현진'])"
   ]
  },
  {
   "cell_type": "code",
   "execution_count": 382,
   "metadata": {},
   "outputs": [
    {
     "data": {
      "text/plain": [
       "0.10364928395959662"
      ]
     },
     "execution_count": 382,
     "metadata": {},
     "output_type": "execute_result"
    }
   ],
   "source": [
    "def sim_pearson(data, n1, n2):\n",
    "    # 구현\n",
    "    sumX = 0\n",
    "    sumY = 0\n",
    "    sumSqX = 0\n",
    "    sumSqY = 0\n",
    "    sumXY = 0\n",
    "    cnt = 0\n",
    "    \n",
    "    for i in dict(data[n1]) :\n",
    "        if (data[n1][i] != 'nan') & (data[n2][i] != 'nan'):\n",
    "            sumX += data[n1][i]\n",
    "            sumY += data[n2][i]\n",
    "            sumSqX += pow(data[n1][i], 2)\n",
    "            sumSqY += pow(data[n2][i], 2)\n",
    "            sumXY += (data[n1][i] *  data[n2][i])\n",
    "            cnt += 1\n",
    "    \n",
    "    return  ((sumXY-((sumX*sumY)/cnt))+0.001) / (sqrt((sumSqX-(pow(sumX,2)/cnt))*(sumSqY-(pow(sumY,2)/cnt)))+0.001)\n",
    "\n",
    "sim_pearson(df,'조준형','김경한')"
   ]
  },
  {
   "cell_type": "code",
   "execution_count": 384,
   "metadata": {},
   "outputs": [
    {
     "data": {
      "text/plain": [
       "Index(['고재형', '김건우', '박경호', '박찬', '김경아', '정서영', '정한음', '오종민', '차유화', '이성천',\n",
       "       '이은성', '김나연', '조준형', '김태현', '한미래', '조현진', '유기욱', '김경한', '신아영', '엄다연'],\n",
       "      dtype='object')"
      ]
     },
     "execution_count": 384,
     "metadata": {},
     "output_type": "execute_result"
    }
   ],
   "source": [
    "df.columns"
   ]
  },
  {
   "cell_type": "code",
   "execution_count": 403,
   "metadata": {},
   "outputs": [
    {
     "name": "stdout",
     "output_type": "stream",
     "text": [
      "[(1.0, '조현진'), (1.0, '이성천'), (0.9604926547463165, '이은성'), (0.7784267512076357, '한미래'), (0.6228008791193596, '김경한')]\n"
     ]
    }
   ],
   "source": [
    "# 전체 관객들에 대한 상관계수\n",
    "\n",
    "def top_match(data, name, rank=3, simf = sim_pearson):\n",
    "    \n",
    "    simList = []\n",
    "    \n",
    "    for i in data.columns:\n",
    "        if i != name:\n",
    "            simList.append((simf(data, name, i), i ))\n",
    "            \n",
    "    simList.sort()    # 오름차순정렬\n",
    "    simList.reverse() # 내림차순으로 변경\n",
    "    \n",
    "    return simList[:rank]\n",
    "\n",
    "# df에서 와 공통으로 본 영화 중에서 상관계수가 가장 높은 5명을 추출\n",
    "print(top_match(df,'유기욱',5))"
   ]
  },
  {
   "cell_type": "code",
   "execution_count": 379,
   "metadata": {},
   "outputs": [
    {
     "ename": "ZeroDivisionError",
     "evalue": "division by zero",
     "output_type": "error",
     "traceback": [
      "\u001b[1;31m---------------------------------------------------------------------------\u001b[0m",
      "\u001b[1;31mZeroDivisionError\u001b[0m                         Traceback (most recent call last)",
      "\u001b[1;32m<ipython-input-379-a02d8fa192c8>\u001b[0m in \u001b[0;36m<module>\u001b[1;34m\u001b[0m\n\u001b[0;32m     30\u001b[0m     \u001b[1;32mreturn\u001b[0m\u001b[1;33m\u001b[0m\u001b[1;33m\u001b[0m\u001b[0m\n\u001b[0;32m     31\u001b[0m \u001b[1;33m\u001b[0m\u001b[0m\n\u001b[1;32m---> 32\u001b[1;33m \u001b[0mrecommendation\u001b[0m\u001b[1;33m(\u001b[0m\u001b[0mdf\u001b[0m\u001b[1;33m,\u001b[0m\u001b[1;34m'조준형'\u001b[0m\u001b[1;33m)\u001b[0m\u001b[1;33m\u001b[0m\u001b[1;33m\u001b[0m\u001b[0m\n\u001b[0m\u001b[0;32m     33\u001b[0m \u001b[1;31m# 소녀시대가 안 본 영화중에서 예상 평점이 가장 높은 영화 3편 출력\u001b[0m\u001b[1;33m\u001b[0m\u001b[1;33m\u001b[0m\u001b[1;33m\u001b[0m\u001b[0m\n",
      "\u001b[1;32m<ipython-input-379-a02d8fa192c8>\u001b[0m in \u001b[0;36mrecommendation\u001b[1;34m(data, person, simf)\u001b[0m\n\u001b[0;32m      1\u001b[0m \u001b[1;32mdef\u001b[0m \u001b[0mrecommendation\u001b[0m\u001b[1;33m(\u001b[0m\u001b[0mdata\u001b[0m\u001b[1;33m,\u001b[0m \u001b[0mperson\u001b[0m\u001b[1;33m,\u001b[0m \u001b[0msimf\u001b[0m\u001b[1;33m=\u001b[0m\u001b[0msim_pearson\u001b[0m\u001b[1;33m)\u001b[0m\u001b[1;33m:\u001b[0m\u001b[1;33m\u001b[0m\u001b[1;33m\u001b[0m\u001b[0m\n\u001b[1;32m----> 2\u001b[1;33m     \u001b[0mres\u001b[0m \u001b[1;33m=\u001b[0m \u001b[0mtop_match\u001b[0m\u001b[1;33m(\u001b[0m\u001b[0mdata\u001b[0m\u001b[1;33m,\u001b[0m \u001b[0mperson\u001b[0m\u001b[1;33m,\u001b[0m \u001b[0mlen\u001b[0m\u001b[1;33m(\u001b[0m\u001b[0mdata\u001b[0m\u001b[1;33m)\u001b[0m\u001b[1;33m)\u001b[0m\u001b[1;33m\u001b[0m\u001b[1;33m\u001b[0m\u001b[0m\n\u001b[0m\u001b[0;32m      3\u001b[0m     \u001b[1;31m# print(res)\u001b[0m\u001b[1;33m\u001b[0m\u001b[1;33m\u001b[0m\u001b[1;33m\u001b[0m\u001b[0m\n\u001b[0;32m      4\u001b[0m \u001b[1;33m\u001b[0m\u001b[0m\n\u001b[0;32m      5\u001b[0m     \u001b[0msimSum\u001b[0m \u001b[1;33m=\u001b[0m \u001b[1;36m0\u001b[0m\u001b[1;33m\u001b[0m\u001b[1;33m\u001b[0m\u001b[0m\n",
      "\u001b[1;32m<ipython-input-377-55fdafa66b76>\u001b[0m in \u001b[0;36mtop_match\u001b[1;34m(data, name, rank, simf)\u001b[0m\n\u001b[0;32m      7\u001b[0m     \u001b[1;32mfor\u001b[0m \u001b[0mi\u001b[0m \u001b[1;32min\u001b[0m \u001b[0mdata\u001b[0m\u001b[1;33m.\u001b[0m\u001b[0mcolumns\u001b[0m\u001b[1;33m:\u001b[0m\u001b[1;33m\u001b[0m\u001b[1;33m\u001b[0m\u001b[0m\n\u001b[0;32m      8\u001b[0m         \u001b[1;32mif\u001b[0m \u001b[0mi\u001b[0m \u001b[1;33m!=\u001b[0m \u001b[0mname\u001b[0m\u001b[1;33m:\u001b[0m\u001b[1;33m\u001b[0m\u001b[1;33m\u001b[0m\u001b[0m\n\u001b[1;32m----> 9\u001b[1;33m             \u001b[0msimList\u001b[0m\u001b[1;33m.\u001b[0m\u001b[0mappend\u001b[0m\u001b[1;33m(\u001b[0m\u001b[1;33m(\u001b[0m\u001b[0msimf\u001b[0m\u001b[1;33m(\u001b[0m\u001b[0mdata\u001b[0m\u001b[1;33m,\u001b[0m \u001b[0mname\u001b[0m\u001b[1;33m,\u001b[0m \u001b[0mi\u001b[0m\u001b[1;33m)\u001b[0m\u001b[1;33m,\u001b[0m \u001b[0mi\u001b[0m \u001b[1;33m)\u001b[0m\u001b[1;33m)\u001b[0m\u001b[1;33m\u001b[0m\u001b[1;33m\u001b[0m\u001b[0m\n\u001b[0m\u001b[0;32m     10\u001b[0m \u001b[1;33m\u001b[0m\u001b[0m\n\u001b[0;32m     11\u001b[0m     \u001b[0msimList\u001b[0m\u001b[1;33m.\u001b[0m\u001b[0msort\u001b[0m\u001b[1;33m(\u001b[0m\u001b[1;33m)\u001b[0m    \u001b[1;31m# 오름차순정렬\u001b[0m\u001b[1;33m\u001b[0m\u001b[1;33m\u001b[0m\u001b[0m\n",
      "\u001b[1;32m<ipython-input-375-32c4ce10b9c8>\u001b[0m in \u001b[0;36msim_pearson\u001b[1;34m(data, n1, n2)\u001b[0m\n\u001b[0;32m     17\u001b[0m             \u001b[0mcnt\u001b[0m \u001b[1;33m+=\u001b[0m \u001b[1;36m1\u001b[0m\u001b[1;33m\u001b[0m\u001b[1;33m\u001b[0m\u001b[0m\n\u001b[0;32m     18\u001b[0m \u001b[1;33m\u001b[0m\u001b[0m\n\u001b[1;32m---> 19\u001b[1;33m     \u001b[1;32mreturn\u001b[0m  \u001b[1;33m(\u001b[0m\u001b[1;33m(\u001b[0m\u001b[0msumXY\u001b[0m\u001b[1;33m-\u001b[0m\u001b[1;33m(\u001b[0m\u001b[1;33m(\u001b[0m\u001b[0msumX\u001b[0m\u001b[1;33m*\u001b[0m\u001b[0msumY\u001b[0m\u001b[1;33m)\u001b[0m\u001b[1;33m/\u001b[0m\u001b[0mcnt\u001b[0m\u001b[1;33m)\u001b[0m\u001b[1;33m)\u001b[0m\u001b[1;33m+\u001b[0m\u001b[1;36m0.001\u001b[0m\u001b[1;33m)\u001b[0m \u001b[1;33m/\u001b[0m \u001b[1;33m(\u001b[0m\u001b[0msqrt\u001b[0m\u001b[1;33m(\u001b[0m\u001b[1;33m(\u001b[0m\u001b[0msumSqX\u001b[0m\u001b[1;33m-\u001b[0m\u001b[1;33m(\u001b[0m\u001b[0mpow\u001b[0m\u001b[1;33m(\u001b[0m\u001b[0msumX\u001b[0m\u001b[1;33m,\u001b[0m\u001b[1;36m2\u001b[0m\u001b[1;33m)\u001b[0m\u001b[1;33m/\u001b[0m\u001b[0mcnt\u001b[0m\u001b[1;33m)\u001b[0m\u001b[1;33m)\u001b[0m\u001b[1;33m*\u001b[0m\u001b[1;33m(\u001b[0m\u001b[0msumSqY\u001b[0m\u001b[1;33m-\u001b[0m\u001b[1;33m(\u001b[0m\u001b[0mpow\u001b[0m\u001b[1;33m(\u001b[0m\u001b[0msumY\u001b[0m\u001b[1;33m,\u001b[0m\u001b[1;36m2\u001b[0m\u001b[1;33m)\u001b[0m\u001b[1;33m/\u001b[0m\u001b[0mcnt\u001b[0m\u001b[1;33m)\u001b[0m\u001b[1;33m)\u001b[0m\u001b[1;33m)\u001b[0m\u001b[1;33m+\u001b[0m\u001b[1;36m0.001\u001b[0m\u001b[1;33m)\u001b[0m\u001b[1;33m\u001b[0m\u001b[1;33m\u001b[0m\u001b[0m\n\u001b[0m\u001b[0;32m     20\u001b[0m \u001b[1;33m\u001b[0m\u001b[0m\n\u001b[0;32m     21\u001b[0m \u001b[0msim_pearson\u001b[0m\u001b[1;33m(\u001b[0m\u001b[0mdf\u001b[0m\u001b[1;33m,\u001b[0m\u001b[1;34m'유기욱'\u001b[0m\u001b[1;33m,\u001b[0m\u001b[1;34m'조현진'\u001b[0m\u001b[1;33m)\u001b[0m\u001b[1;33m\u001b[0m\u001b[1;33m\u001b[0m\u001b[0m\n",
      "\u001b[1;31mZeroDivisionError\u001b[0m: division by zero"
     ]
    }
   ],
   "source": [
    "def recommendation(data, person, simf=sim_pearson):\n",
    "    res = top_match(data, person, len(data))\n",
    "    # print(res)\n",
    "    \n",
    "    simSum = 0\n",
    "    score_dict = {}  # 예상평점의 총합을 저장하기위한 dict\n",
    "    sim_dict = {}    # 유사도의 총합을 저장하기 위한 dict\n",
    "    \n",
    "    myList = []\n",
    "    \n",
    "    for sim, name in res:\n",
    "        if sim < 0 : continue\n",
    "        for movie in dict(data[name]):\n",
    "            if (data[name][movie] != 'nan') & (data[person][movie] == 'nan'):\n",
    "                simSum += sim * data[name][movie]\n",
    "                score_dict.setdefault(movie, 0 )\n",
    "                score_dict[movie] += simSum\n",
    "                \n",
    "                sim_dict.setdefault(movie, 0 )\n",
    "                sim_dict[movie] += sim\n",
    "            simSum = 0\n",
    "    \n",
    "    for key in score_dict:\n",
    "        score_dict[key] = score_dict[key] / sim_dict[key]\n",
    "        myList.append((score_dict[key], key))\n",
    "    myList.sort()\n",
    "    myList.reverse()\n",
    "    \n",
    "    print(myList)\n",
    "    return\n",
    "\n",
    "recommendation(df,'조준형')\n",
    "# 소녀시대가 안 본 영화중에서 예상 평점이 가장 높은 영화 3편 출력"
   ]
  },
  {
   "cell_type": "code",
   "execution_count": null,
   "metadata": {},
   "outputs": [],
   "source": []
  },
  {
   "cell_type": "code",
   "execution_count": null,
   "metadata": {},
   "outputs": [],
   "source": []
  }
 ],
 "metadata": {
  "kernelspec": {
   "display_name": "Python 3",
   "language": "python",
   "name": "python3"
  },
  "language_info": {
   "codemirror_mode": {
    "name": "ipython",
    "version": 3
   },
   "file_extension": ".py",
   "mimetype": "text/x-python",
   "name": "python",
   "nbconvert_exporter": "python",
   "pygments_lexer": "ipython3",
   "version": "3.7.4"
  }
 },
 "nbformat": 4,
 "nbformat_minor": 2
}
