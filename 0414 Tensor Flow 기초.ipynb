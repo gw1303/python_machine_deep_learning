{
 "cells": [
  {
   "cell_type": "code",
   "execution_count": 47,
   "metadata": {},
   "outputs": [],
   "source": [
    "import numpy as np\n",
    "import pandas as pd"
   ]
  },
  {
   "cell_type": "code",
   "execution_count": 1,
   "metadata": {},
   "outputs": [
    {
     "name": "stdout",
     "output_type": "stream",
     "text": [
      "WARNING:tensorflow:From C:\\Users\\student\\Anaconda3\\lib\\site-packages\\tensorflow_core\\python\\compat\\v2_compat.py:68: disable_resource_variables (from tensorflow.python.ops.variable_scope) is deprecated and will be removed in a future version.\n",
      "Instructions for updating:\n",
      "non-resource variables are not supported in the long term\n"
     ]
    }
   ],
   "source": [
    "# tensorflow.org\n",
    "import tensorflow.compat.v1 as tf\n",
    "tf.disable_v2_behavior()"
   ]
  },
  {
   "cell_type": "code",
   "execution_count": 2,
   "metadata": {},
   "outputs": [],
   "source": [
    "# 플레이스홀더: 프로그램 실행 중에 값을 변경할 수 있는 변수를 2개 정의; 데이터를 담는 버퍼와 같은 것…\n",
    "a = tf.placeholder(\"float\")\n",
    "b = tf.placeholder(\"float\")\n",
    "# tf.Variable # = 변수"
   ]
  },
  {
   "cell_type": "code",
   "execution_count": 3,
   "metadata": {},
   "outputs": [
    {
     "name": "stdout",
     "output_type": "stream",
     "text": [
      "6.0\n"
     ]
    }
   ],
   "source": [
    "y = tf.multiply(a,b)\n",
    "sess = tf.Session() # 그래프 실행을 위해서는 세션이 필요\n",
    "print(sess.run(y,feed_dict={a:3,b:2})) # Session .run() : 그래프를 실행\n",
    "# y Node 실행. \n",
    "# 노드 y를 노드 a,b를 곱한것이라고 하자.\n",
    "# run이 실행 되면 y 노드 실행… y노드 실행하려면 a,b 필요… a,b에 값을 전달~feed_dict (코드 역행..?)"
   ]
  },
  {
   "cell_type": "code",
   "execution_count": 4,
   "metadata": {},
   "outputs": [
    {
     "name": "stdout",
     "output_type": "stream",
     "text": [
      "3\n"
     ]
    }
   ],
   "source": [
    "a = tf.constant(3)\n",
    "with tf.Session() as sess:\n",
    "    print(a.eval())"
   ]
  },
  {
   "cell_type": "code",
   "execution_count": 11,
   "metadata": {},
   "outputs": [
    {
     "name": "stdout",
     "output_type": "stream",
     "text": [
      "b'Hello'\n"
     ]
    }
   ],
   "source": [
    "hello = tf.constant(\"Hello\")\n",
    "# tf를 실해하기 위한 세션 객체 생성\n",
    "sess = tf.Session()\n",
    "\n",
    "print(sess.run(hello))"
   ]
  },
  {
   "cell_type": "code",
   "execution_count": 12,
   "metadata": {},
   "outputs": [
    {
     "data": {
      "text/plain": [
       "3"
      ]
     },
     "execution_count": 12,
     "metadata": {},
     "output_type": "execute_result"
    }
   ],
   "source": [
    "## tensor의 Rank와 Shape\n",
    "\n",
    "3  # Rank(차원) : 0 tensor / Shape : []\n",
    "[1,2,3]  # Rank(차원) : 1 tensor / Shape : [3]\n",
    "[[1,2,3], [1,2,3]]  # Rank(차원) : 2 tensor / Shape : [2,3]\n",
    "[[[1,2,3]],[[4,5,6]]]  # Rank(차원) : 3 tensor / Shape : [2,1,3]"
   ]
  },
  {
   "cell_type": "code",
   "execution_count": 21,
   "metadata": {},
   "outputs": [
    {
     "name": "stdout",
     "output_type": "stream",
     "text": [
      "30\n",
      "30\n",
      "10\n",
      "20\n",
      "30\n"
     ]
    }
   ],
   "source": [
    "a = tf.constant(10)\n",
    "b = tf.constant(20)\n",
    "\n",
    "# a + b\n",
    "sess = tf.Session()\n",
    "c = tf.add(a,b)\n",
    "\n",
    "print(sess.run(tf.add(a,b)))\n",
    "print(sess.run(c))\n",
    "\n",
    "print(sess.run(a))\n",
    "print(sess.run(b))\n",
    "print(sess.run(a+b))\n",
    "\n",
    "# 세션 닫기\n",
    "sess.close()"
   ]
  },
  {
   "cell_type": "code",
   "execution_count": 32,
   "metadata": {},
   "outputs": [
    {
     "name": "stdout",
     "output_type": "stream",
     "text": [
      "[ 7. 70.]\n"
     ]
    }
   ],
   "source": [
    "## placeholder \n",
    "\n",
    "a = tf.placeholder(dtype=\"float\")\n",
    "b = tf.placeholder(tf.float32)\n",
    "\n",
    "adderNode = a + b\n",
    "\n",
    "sess = tf.Session()\n",
    "\n",
    "# 단일 데이터 전달\n",
    "# print(sess.run(adderNode, feed_dict={a:3, b:4}))\n",
    "\n",
    "# 여러 데이터 전달\n",
    "print(sess.run(adderNode, feed_dict={a:[3,30], b:[4,40]}))"
   ]
  },
  {
   "cell_type": "code",
   "execution_count": 38,
   "metadata": {},
   "outputs": [
    {
     "name": "stdout",
     "output_type": "stream",
     "text": [
      "15.0\n"
     ]
    }
   ],
   "source": [
    "# 전달되어지는 두 값을 받아 더한 결과의 3배를 해 출력\n",
    "\n",
    "a = tf.placeholder(dtype=\"float\")\n",
    "b = tf.placeholder(tf.float32)\n",
    "\n",
    "adderNode = a + b\n",
    "triple = adderNode * 3\n",
    "\n",
    "sess = tf.Session()\n",
    "\n",
    "# 단일 데이터 전달\n",
    "# print(sess.run(adderNode, feed_dict={a:3, b:4}))\n",
    "\n",
    "# 여러 데이터 전달\n",
    "print(sess.run(triple, feed_dict={a:2, b:3}))\n",
    "\n",
    "sess.close()"
   ]
  },
  {
   "cell_type": "code",
   "execution_count": 45,
   "metadata": {},
   "outputs": [
    {
     "name": "stdout",
     "output_type": "stream",
     "text": [
      "[[1. 2. 3.]\n",
      " [4. 5. 6.]]\n"
     ]
    }
   ],
   "source": [
    "# placeholder에 shape 지정\n",
    "x = tf.placeholder(tf.float32, [None, 3])\n",
    "\n",
    "xdata = [[1,2,3], [4,5,6]]\n",
    "xdata2 = [[1,2], [4,5]]\n",
    "\n",
    "sess = tf.Session()\n",
    "\n",
    "print(sess.run(x, feed_dict={x : xdata}))\n",
    "# print(sess.run(x, feed_dict={x : xdata2}))\n",
    "\n",
    "sess.close()"
   ]
  },
  {
   "cell_type": "code",
   "execution_count": 58,
   "metadata": {},
   "outputs": [],
   "source": [
    "# H(x) = wx + b\n",
    "# 초기값 지정\n",
    "# w = tf.Variable(tf.random_normal([2,1]))\n",
    "w = tf.Variable([[1],[2]])\n",
    "\n",
    "# 행렬곱 함수\n",
    "hf = tf.matmul(x, w) + b"
   ]
  },
  {
   "cell_type": "code",
   "execution_count": 113,
   "metadata": {},
   "outputs": [
    {
     "name": "stdout",
     "output_type": "stream",
     "text": [
      "[[-1.3634039 ]\n",
      " [ 0.80046797]\n",
      " [-0.29760155]]\n",
      "\n",
      "\n",
      "[1.5344743]\n",
      "\n",
      "\n",
      "[[ 0.87920165]\n",
      " [-1.7024108 ]]\n"
     ]
    }
   ],
   "source": [
    "# Quiz\n",
    "\n",
    "xdata = [[1,2,3],  # (2,3)\n",
    "        [4,5,6]]\n",
    "\n",
    "x = tf.placeholder(tf.float32)\n",
    "\n",
    "w = tf.Variable(tf.random_normal([3,1]))\n",
    "b = tf.Variable(tf.random_normal([1]))\n",
    "\n",
    "hf = tf.matmul(x, w) + b\n",
    "\n",
    "sess = tf.Session()\n",
    "\n",
    "# print(sess.run(hf, feed_dict={x : xdata}))\n",
    "sess.run(tf.global_variables_initializer())\n",
    "\n",
    "print(sess.run(w))\n",
    "print(\"\\n\")\n",
    "print(sess.run(b))\n",
    "print(\"\\n\")\n",
    "print(sess.run(hf, feed_dict={x:xdata}))\n",
    "\n",
    "# hf = wx + b\n",
    "# x의 shape = (2,3)\n",
    "# w의 shape = (3,1)"
   ]
  },
  {
   "cell_type": "markdown",
   "metadata": {},
   "source": [
    "# 선형 회귀 모델"
   ]
  },
  {
   "cell_type": "code",
   "execution_count": 552,
   "metadata": {},
   "outputs": [
    {
     "name": "stdout",
     "output_type": "stream",
     "text": [
      "[array([-1.5747062], dtype=float32), array([-0.6221169], dtype=float32), array([-126.59861, -150.21921, -153.36862], dtype=float32)]\n"
     ]
    }
   ],
   "source": [
    "xtrain = [80, 95, 97]  # 모의고사 점수 (3명)\n",
    "ytrain = [82, 90, 98]  # 수   능 점수 (3명)\n",
    "\n",
    "# 모의고사 70점 학생은 수능 점수가 몇 점일까 ?\n",
    "# hf = wx + b \n",
    "# 82 = ? * 80 + b\n",
    "# 90 = ? * 95 + b\n",
    "# 98 = ? * 97 + b\n",
    "\n",
    "w = tf.Variable(tf.random_normal([1]))\n",
    "b = tf.Variable(tf.random_normal([1]))\n",
    "\n",
    "hf = xtrain * w + b\n",
    "# 세션 열기\n",
    "sess = tf.Session()\n",
    "# tf.Variable을 사용하기 위한 구문\n",
    "sess.run(tf.global_variables_initializer())\n",
    "\n",
    "print(sess.run([w,b,hf]))"
   ]
  },
  {
   "cell_type": "code",
   "execution_count": 553,
   "metadata": {},
   "outputs": [
    {
     "data": {
      "text/plain": [
       "<tf.Tensor 'Mean_15:0' shape=() dtype=float32>"
      ]
     },
     "execution_count": 553,
     "metadata": {},
     "output_type": "execute_result"
    }
   ],
   "source": [
    "hf = xtrain * w + b\n",
    "cost = tf.reduce_mean(tf.square(hf - ytrain))  # (예측값 - 실제값)합의 제곱에 대한 평균\n",
    "cost"
   ]
  },
  {
   "cell_type": "code",
   "execution_count": 554,
   "metadata": {},
   "outputs": [],
   "source": [
    "# 옵티마이져 선택\n",
    "opt =tf.train.GradientDescentOptimizer(0.00001)\n",
    "# 경사하강법\n",
    "train = opt.minimize(cost)"
   ]
  },
  {
   "cell_type": "code",
   "execution_count": 555,
   "metadata": {},
   "outputs": [
    {
     "name": "stdout",
     "output_type": "stream",
     "text": [
      "[54801.61, array([-1.5747062], dtype=float32), array([-0.6221169], dtype=float32)]\n"
     ]
    }
   ],
   "source": [
    "# fit the line\n",
    "print(sess.run([cost, w, b]))"
   ]
  },
  {
   "cell_type": "code",
   "execution_count": 556,
   "metadata": {},
   "outputs": [
    {
     "name": "stdout",
     "output_type": "stream",
     "text": [
      "[38158.89, array([-1.1487631], dtype=float32), array([-0.617449], dtype=float32)]\n"
     ]
    }
   ],
   "source": [
    "sess.run(train)\n",
    "print(sess.run([cost, w, b]))"
   ]
  },
  {
   "cell_type": "code",
   "execution_count": 557,
   "metadata": {
    "scrolled": true
   },
   "outputs": [
    {
     "name": "stdout",
     "output_type": "stream",
     "text": [
      "0 26571.287 [-0.7933476] [-0.6135535]\n",
      "100 9.518012 [0.9977242] [-0.59366935]\n",
      "200 9.517929 [0.9977213] [-0.59340113]\n",
      "300 9.517859 [0.9977183] [-0.5931329]\n",
      "400 9.517787 [0.99771535] [-0.5928647]\n",
      "500 9.517704 [0.9977125] [-0.5925965]\n",
      "600 9.517647 [0.9977095] [-0.59232825]\n",
      "700 9.517573 [0.99770653] [-0.59206]\n",
      "800 9.51749 [0.9977037] [-0.5917918]\n",
      "900 9.5174265 [0.99770075] [-0.5915236]\n",
      "1000 9.517368 [0.9976978] [-0.59125537]\n",
      "1100 9.517295 [0.99769485] [-0.59098715]\n",
      "1200 9.517224 [0.99769187] [-0.5907189]\n",
      "1300 9.517143 [0.99768895] [-0.5904507]\n",
      "1400 9.517082 [0.997686] [-0.5901825]\n",
      "1500 9.516988 [0.9976831] [-0.58991426]\n",
      "1600 9.516931 [0.9976801] [-0.58964604]\n",
      "1700 9.516856 [0.9976772] [-0.5893778]\n",
      "1800 9.516799 [0.9976742] [-0.5891096]\n",
      "1900 9.516705 [0.9976713] [-0.5888414]\n",
      "2000 9.516643 [0.9976684] [-0.58857316]\n"
     ]
    }
   ],
   "source": [
    "for step in range(2001):\n",
    "    sess.run(train)\n",
    "    if step % 100 == 0 :\n",
    "        print(step, sess.run(cost),\n",
    "             sess.run(w), sess.run(b))"
   ]
  },
  {
   "cell_type": "code",
   "execution_count": 563,
   "metadata": {},
   "outputs": [
    {
     "name": "stdout",
     "output_type": "stream",
     "text": [
      "49.29484611749649\n"
     ]
    }
   ],
   "source": [
    "# 모의고사 점수가 50번 => 수능점수 ?\n",
    "\n",
    "yhat = sess.run(w)[0] * 50 + sess.run(b)[0]\n",
    "print(yhat)"
   ]
  },
  {
   "cell_type": "code",
   "execution_count": null,
   "metadata": {},
   "outputs": [],
   "source": []
  },
  {
   "cell_type": "code",
   "execution_count": 607,
   "metadata": {},
   "outputs": [],
   "source": [
    "df = pd.read_csv('data/carsdata/cars.csv')\n",
    "df.fillna(0)\n",
    "df\n",
    "\n",
    "cylinders = df[' cylinders'].to_list()\n",
    "hp = df[' hp'].to_list()"
   ]
  },
  {
   "cell_type": "code",
   "execution_count": 608,
   "metadata": {},
   "outputs": [
    {
     "name": "stdout",
     "output_type": "stream",
     "text": [
      "[array([-4.590158 , -1.7227635, -4.590158 , -4.590158 , -1.7227635,\n",
      "       -4.590158 , -4.590158 , -4.590158 , -2.4396122, -1.7227635,\n",
      "       -1.7227635, -1.7227635, -4.590158 , -4.590158 , -3.1564608,\n",
      "       -4.590158 , -1.7227635, -4.590158 , -1.7227635, -1.7227635,\n",
      "       -1.7227635, -1.7227635, -3.1564608, -4.590158 , -1.7227635,\n",
      "       -1.7227635, -1.7227635, -4.590158 , -3.1564608, -1.7227635,\n",
      "       -1.7227635, -3.1564608, -1.7227635, -3.1564608, -1.7227635,\n",
      "       -3.1564608, -1.7227635, -1.0059149, -4.590158 , -3.1564608,\n",
      "       -3.1564608, -4.590158 , -3.1564608, -3.1564608, -4.590158 ,\n",
      "       -1.7227635, -4.590158 , -1.7227635, -1.7227635, -3.1564608,\n",
      "       -4.590158 , -1.7227635, -4.590158 , -1.7227635, -4.590158 ,\n",
      "       -4.590158 , -3.1564608, -1.7227635, -1.7227635, -4.590158 ,\n",
      "       -3.1564608, -1.7227635, -3.1564608, -1.7227635, -4.590158 ,\n",
      "       -3.1564608, -1.7227635, -1.7227635, -1.7227635, -4.590158 ,\n",
      "       -3.1564608, -1.7227635, -1.7227635, -1.7227635, -1.7227635,\n",
      "       -3.1564608, -3.1564608, -1.7227635, -1.7227635, -1.7227635,\n",
      "       -4.590158 , -4.590158 , -4.590158 , -1.7227635, -1.7227635,\n",
      "       -1.7227635, -3.1564608, -3.1564608, -1.7227635, -1.7227635,\n",
      "       -1.7227635, -1.7227635, -4.590158 , -3.1564608, -1.7227635,\n",
      "       -3.1564608, -4.590158 , -3.1564608, -4.590158 , -3.1564608,\n",
      "       -4.590158 , -4.590158 , -1.7227635, -1.7227635, -1.7227635,\n",
      "       -1.7227635, -1.7227635, -1.7227635, -1.7227635, -4.590158 ,\n",
      "       -1.7227635, -1.7227635, -4.590158 , -1.7227635, -1.7227635,\n",
      "       -3.1564608, -1.7227635, -3.1564608, -1.7227635, -4.590158 ,\n",
      "       -1.7227635, -1.7227635, -4.590158 , -1.7227635, -1.7227635,\n",
      "       -1.7227635, -4.590158 , -1.7227635, -1.7227635, -1.7227635,\n",
      "       -1.7227635, -1.7227635, -4.590158 , -4.590158 , -4.590158 ,\n",
      "       -4.590158 , -1.7227635, -4.590158 , -1.7227635, -1.7227635,\n",
      "       -3.1564608, -1.7227635, -1.7227635, -1.7227635, -4.590158 ,\n",
      "       -1.7227635, -3.1564608, -1.7227635, -4.590158 , -4.590158 ,\n",
      "       -1.7227635, -1.7227635, -4.590158 , -3.1564608, -1.7227635,\n",
      "       -3.1564608, -1.0059149, -1.7227635, -3.1564608, -3.1564608,\n",
      "       -1.7227635, -4.590158 , -3.1564608, -3.1564608, -1.7227635,\n",
      "       -4.590158 , -3.1564608, -1.7227635, -3.1564608, -1.7227635,\n",
      "       -1.7227635, -2.4396122, -1.7227635, -1.7227635, -1.7227635,\n",
      "       -1.7227635, -4.590158 , -4.590158 , -4.590158 , -1.7227635,\n",
      "       -3.1564608, -1.7227635, -4.590158 , -4.590158 , -1.7227635,\n",
      "       -3.1564608, -3.1564608, -4.590158 , -4.590158 , -4.590158 ,\n",
      "       -1.7227635, -1.7227635, -4.590158 , -4.590158 , -4.590158 ,\n",
      "       -1.7227635, -1.7227635, -1.7227635, -1.7227635, -1.7227635,\n",
      "       -1.7227635, -1.7227635, -4.590158 , -3.1564608, -1.7227635,\n",
      "       -4.590158 , -1.7227635, -3.1564608, -4.590158 , -3.1564608,\n",
      "       -3.1564608, -3.1564608, -1.7227635, -1.7227635, -3.1564608,\n",
      "       -1.7227635, -1.7227635, -4.590158 , -3.1564608, -4.590158 ,\n",
      "       -3.1564608, -1.7227635, -4.590158 , -3.1564608, -4.590158 ,\n",
      "       -1.7227635, -4.590158 , -1.7227635, -3.1564608, -1.7227635,\n",
      "       -4.590158 , -1.7227635, -1.7227635, -4.590158 , -1.7227635,\n",
      "       -1.7227635, -4.590158 , -3.1564608, -1.7227635, -1.7227635,\n",
      "       -4.590158 , -3.1564608, -4.590158 , -1.7227635, -4.590158 ,\n",
      "       -4.590158 , -4.590158 , -1.7227635, -1.7227635, -1.7227635,\n",
      "       -1.7227635, -1.7227635, -2.4396122, -4.590158 , -3.1564608,\n",
      "       -1.7227635, -4.590158 , -1.7227635, -3.1564608, -3.1564608,\n",
      "       -3.1564608], dtype=float32), array([-0.7168486], dtype=float32), array([1.1446309], dtype=float32)]\n"
     ]
    }
   ],
   "source": [
    "# hf = X * w + b\n",
    "\n",
    "x = cylinders\n",
    "\n",
    "w = tf.Variable(tf.random_normal([1]))\n",
    "b = tf.Variable(tf.random_normal([1]))\n",
    "\n",
    "hf = x * w + b\n",
    "\n",
    "sess = tf.Session()\n",
    "\n",
    "sess.run(tf.global_variables_initializer())\n",
    "\n",
    "print(sess.run([hf, w,b]))"
   ]
  },
  {
   "cell_type": "code",
   "execution_count": 615,
   "metadata": {},
   "outputs": [
    {
     "name": "stdout",
     "output_type": "stream",
     "text": [
      "466.8451\n",
      "0 466.8451 [19.74758] [-4.0295606]\n",
      "100 466.8451 [19.74758] [-4.0295606]\n",
      "200 466.8451 [19.74758] [-4.0295606]\n",
      "300 466.8451 [19.74758] [-4.0295606]\n",
      "400 466.8451 [19.74758] [-4.0295606]\n",
      "500 466.8451 [19.74758] [-4.0295606]\n",
      "600 466.8451 [19.74758] [-4.0295606]\n",
      "700 466.8451 [19.74758] [-4.0295606]\n",
      "800 466.8451 [19.74758] [-4.0295606]\n",
      "900 466.8451 [19.74758] [-4.0295606]\n",
      "1000 466.8451 [19.74758] [-4.0295606]\n",
      "1100 466.8451 [19.74758] [-4.0295606]\n",
      "1200 466.8451 [19.74758] [-4.0295606]\n",
      "1300 466.8451 [19.74758] [-4.0295606]\n",
      "1400 466.8451 [19.74758] [-4.0295606]\n",
      "1500 466.8451 [19.74758] [-4.0295606]\n",
      "1600 466.8451 [19.74758] [-4.0295606]\n",
      "1700 466.8451 [19.74758] [-4.0295606]\n",
      "1800 466.8451 [19.74758] [-4.0295606]\n",
      "1900 466.8451 [19.74758] [-4.0295606]\n",
      "2000 466.8451 [19.74758] [-4.0295606]\n",
      "193.44623517990112\n",
      "232.94139432907104\n",
      "272.43655347824097\n",
      "351.4268717765808\n"
     ]
    }
   ],
   "source": [
    "cost = tf.reduce_mean(tf.square(hf - hp))  # (예측값 - 실제값)합의 제곱에 대한 평균\n",
    "\n",
    "print(sess.run(cost))\n",
    "\n",
    "# 옵티마이져 선택\n",
    "opt = tf.train.GradientDescentOptimizer(0.01)\n",
    "# 경사하강법\n",
    "train = opt.minimize(cost)\n",
    "\n",
    "for step in range(2001):\n",
    "    sess.run(train)\n",
    "    if step % 100 == 0 :\n",
    "        print(step, sess.run(cost),\n",
    "             sess.run(w), sess.run(b))\n",
    "\n",
    "testset = [10,12,14,18]\n",
    "for test in testset :\n",
    "    yhat = sess.run(w)[0] * test + sess.run(b)[0]\n",
    "    print(yhat)"
   ]
  },
  {
   "cell_type": "code",
   "execution_count": null,
   "metadata": {},
   "outputs": [],
   "source": []
  },
  {
   "cell_type": "code",
   "execution_count": null,
   "metadata": {},
   "outputs": [],
   "source": []
  },
  {
   "cell_type": "code",
   "execution_count": null,
   "metadata": {},
   "outputs": [],
   "source": []
  },
  {
   "cell_type": "code",
   "execution_count": null,
   "metadata": {},
   "outputs": [],
   "source": []
  },
  {
   "cell_type": "code",
   "execution_count": null,
   "metadata": {},
   "outputs": [],
   "source": []
  },
  {
   "cell_type": "code",
   "execution_count": null,
   "metadata": {},
   "outputs": [],
   "source": []
  },
  {
   "cell_type": "code",
   "execution_count": null,
   "metadata": {},
   "outputs": [],
   "source": []
  },
  {
   "cell_type": "code",
   "execution_count": null,
   "metadata": {},
   "outputs": [],
   "source": []
  }
 ],
 "metadata": {
  "kernelspec": {
   "display_name": "Python 3",
   "language": "python",
   "name": "python3"
  },
  "language_info": {
   "codemirror_mode": {
    "name": "ipython",
    "version": 3
   },
   "file_extension": ".py",
   "mimetype": "text/x-python",
   "name": "python",
   "nbconvert_exporter": "python",
   "pygments_lexer": "ipython3",
   "version": "3.7.4"
  }
 },
 "nbformat": 4,
 "nbformat_minor": 2
}
