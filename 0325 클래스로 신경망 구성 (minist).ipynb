{
 "cells": [
  {
   "cell_type": "markdown",
   "metadata": {},
   "source": [
    "# 신경망 구현\n",
    "1. 초기화 (입력,은닉, 출력 노드의 수 정의)_\n",
    "2. 학습 (가중치 업데이트)\n",
    "3. 질의 (입력 -> 연산 -> 출력노드에 전달)"
   ]
  },
  {
   "cell_type": "code",
   "execution_count": 12,
   "metadata": {},
   "outputs": [],
   "source": [
    "import numpy as np\n",
    "import scipy.special"
   ]
  },
  {
   "cell_type": "code",
   "execution_count": 13,
   "metadata": {},
   "outputs": [
    {
     "data": {
      "text/plain": [
       "array([[1],\n",
       "       [2],\n",
       "       [3]])"
      ]
     },
     "execution_count": 13,
     "metadata": {},
     "output_type": "execute_result"
    }
   ],
   "source": [
    "np.array([1,2,3])\n",
    "np.array([1,2,3.0])\n",
    "np.array([[1,2],[3,4]])\n",
    "np.array([1,2,3], ndmin=2).T"
   ]
  },
  {
   "cell_type": "code",
   "execution_count": 14,
   "metadata": {},
   "outputs": [],
   "source": [
    "class neuralNetwork :\n",
    "    # 신경망 초기화 기능\n",
    "    def __init__(self,input_nodes, hidden_nodes, output_nodes, learning_rate):\n",
    "        self.inodes = input_nodes\n",
    "        self.hnodes = hidden_nodes\n",
    "        self.onodes = output_nodes\n",
    "        self.lr = learning_rate\n",
    "        \n",
    "        # 가중치는 행렬로 표현\n",
    "        # 입력/은닉 가중치 행렬 형식 : (은닉노드 * 입력노드)\n",
    "        # 은닉/출력 가중치 행렬 형식 : (출력노드 * 은닉노드)\n",
    "        \n",
    "        # 입력, 은닉 계층 사이의 가중치 행렬\n",
    "        #                           평균        표준편차                      사이즈\n",
    "        self.wih = np.random.normal(0.0, pow(self.hnodes, -0.5), (self.hnodes, self.inodes))\n",
    "        self.who = np.random.normal(0.0, pow(self.onodes, -0.5), (self.onodes, self.hnodes))\n",
    "        \n",
    "        # 활성화 함수 구현 (sigmoid)\n",
    "        self.activation_function = lambda x : scipy.special.expit(x)\n",
    "        pass\n",
    "    \n",
    "    # 신경망 학습 기능 ( 2단계로 구성 )\n",
    "    # 1단계 (순전파) : 입력 데이터에 대해 계산(query함수 이용)\n",
    "    # 2단계 (역전파) : 예측값과 실제값의 차이를 계산 -> 가중치 업데이트\n",
    "    def train(self, inputs_list, targets_list):\n",
    "        # 입력 리스트를 2차원 행렬로 변환\n",
    "        inputs = np.array(inputs_list, ndmin = 2).T\n",
    "        targets = np.array(targets_list, ndmin = 2).T\n",
    "        \n",
    "         # 은닉계층으로 들어오는 신호를 계산\n",
    "        hidden_inputs = np.dot(self.wih, inputs)\n",
    "        # 은닉계층에서 나가는 신호 계산\n",
    "        hidden_outputs = self.activation_function(hidden_inputs)\n",
    "        \n",
    "        # 출력계층으로 들어오는 신호를 계산\n",
    "        final_inputs = np.dot(self.who, hidden_outputs)\n",
    "        # 출력계층에서 나가는 신호 계산\n",
    "        final_outputs = self.activation_function(final_inputs)\n",
    "        \n",
    "        # 오차 = 실제값 -예측값\n",
    "        output_errors = targets - final_outputs\n",
    "        \n",
    "        # 은닉 계층 노드에 대한 역전파된 오차\n",
    "        # 은닉 계층의 오차는 가중치에 의해 나뉜 출력 계층의 오차들을 재조합하여 계산\n",
    "        hidden_errors = np.dot(self.who.T, output_errors)\n",
    "        \n",
    "        # 은닉계층과 출력계층 간의 가중치 업데이트 (who)\n",
    "        self.who += self.lr * np.dot((output_errors * final_outputs * (1.0 - final_outputs)), np.transpose(hidden_outputs))\n",
    "        \n",
    "        # 은닉계층과 출력계층 간의 가중치 업데이트 (who)\n",
    "        self.wih += self.lr * np.dot((hidden_errors * hidden_outputs * (1.0 - hidden_outputs)), np.transpose(inputs))\n",
    "        \n",
    "        \n",
    "        # 입력 계층 노드에 대한 역적파된 오차\n",
    "        input_errors = np.dot(self.wih.T, hidden_errors)\n",
    "        pass\n",
    "    \n",
    "    # 신경망 질의 기능 : 신경망으로 들어오는 입력을 받아 출력을 반환해주는 기능\n",
    "    def query(self, iputs_list):\n",
    "        # 입력 리스트를 2차원 행렬로 변환\n",
    "        inputs = np.array(iputs_list, ndmin = 2).T\n",
    "        \n",
    "        # 은닉계층으로 들어오는 신호를 계산\n",
    "        hidden_inputs = np.dot(self.wih, inputs)\n",
    "        # 은닉계층에서 나가는 신호 계산\n",
    "        hidden_outputs = self.activation_function(hidden_inputs)\n",
    "        \n",
    "        # 출력계층으로 들어오는 신호를 계산\n",
    "        final_inputs = np.dot(self.who, hidden_outputs)\n",
    "        # 출력계층에서 나가는 신호 계산\n",
    "        final_outputs = self.activation_function(final_inputs)\n",
    "        \n",
    "        return final_outputs"
   ]
  },
  {
   "cell_type": "code",
   "execution_count": 15,
   "metadata": {},
   "outputs": [],
   "source": [
    "# 입력, 은닉, 출력 노드 수\n",
    "input_nodes  = 3\n",
    "hidden_nodes = 3\n",
    "output_nodes = 3\n",
    "\n",
    "# 합습률 정의 (0.1 ~ 0.001)\n",
    "learning_rate = 0.3\n",
    "\n",
    "# 신경망 클래스 생성\n",
    "n = neuralNetwork(input_nodes, hidden_nodes, output_nodes, learning_rate)\n"
   ]
  },
  {
   "cell_type": "code",
   "execution_count": 16,
   "metadata": {},
   "outputs": [
    {
     "data": {
      "text/plain": [
       "array([[0.74806179],\n",
       "       [0.35986904],\n",
       "       [0.61067769]])"
      ]
     },
     "execution_count": 16,
     "metadata": {},
     "output_type": "execute_result"
    }
   ],
   "source": [
    "inputs_list = n.query([1.0, 0.5, -1.5])\n",
    "inputs_list"
   ]
  },
  {
   "cell_type": "code",
   "execution_count": 17,
   "metadata": {},
   "outputs": [
    {
     "data": {
      "text/plain": [
       "-0.13831275105321608"
      ]
     },
     "execution_count": 17,
     "metadata": {},
     "output_type": "execute_result"
    }
   ],
   "source": [
    "# 0~1 사이의 난수 발생\n",
    "# np.random.rand(3,3) -0.5\n",
    "\n",
    "# 정규분포를 따르는 난수 발생\n",
    "np.random.normal()"
   ]
  },
  {
   "cell_type": "code",
   "execution_count": 18,
   "metadata": {},
   "outputs": [],
   "source": [
    "import matplotlib.pyplot as plt"
   ]
  },
  {
   "cell_type": "code",
   "execution_count": 19,
   "metadata": {},
   "outputs": [
    {
     "data": {
      "text/plain": [
       "'5,0,0,0,0,0,0,0,0,0,0,0,0,0,0,0,0,0,0,0,0,0,0,0,0,0,0,0,0,0,0,0,0,0,0,0,0,0,0,0,0,0,0,0,0,0,0,0,0,0,0,0,0,0,0,0,0,0,0,0,0,0,0,0,0,0,0,0,0,0,0,0,0,0,0,0,0,0,0,0,0,0,0,0,0,0,0,0,0,0,0,0,0,0,0,0,0,0,0,0,0,0,0,0,0,0,0,0,0,0,0,0,0,0,0,0,0,0,0,0,0,0,0,0,0,0,0,0,0,0,0,0,0,0,0,0,0,0,0,0,0,0,0,0,0,0,0,0,0,0,0,0,0,3,18,18,18,126,136,175,26,166,255,247,127,0,0,0,0,0,0,0,0,0,0,0,0,30,36,94,154,170,253,253,253,253,253,225,172,253,242,195,64,0,0,0,0,0,0,0,0,0,0,0,49,238,253,253,253,253,253,253,253,253,251,93,82,82,56,39,0,0,0,0,0,0,0,0,0,0,0,0,18,219,253,253,253,253,253,198,182,247,241,0,0,0,0,0,0,0,0,0,0,0,0,0,0,0,0,0,0,80,156,107,253,253,205,11,0,43,154,0,0,0,0,0,0,0,0,0,0,0,0,0,0,0,0,0,0,0,14,1,154,253,90,0,0,0,0,0,0,0,0,0,0,0,0,0,0,0,0,0,0,0,0,0,0,0,0,0,139,253,190,2,0,0,0,0,0,0,0,0,0,0,0,0,0,0,0,0,0,0,0,0,0,0,0,0,11,190,253,70,0,0,0,0,0,0,0,0,0,0,0,0,0,0,0,0,0,0,0,0,0,0,0,0,0,35,241,225,160,108,1,0,0,0,0,0,0,0,0,0,0,0,0,0,0,0,0,0,0,0,0,0,0,0,81,240,253,253,119,25,0,0,0,0,0,0,0,0,0,0,0,0,0,0,0,0,0,0,0,0,0,0,0,45,186,253,253,150,27,0,0,0,0,0,0,0,0,0,0,0,0,0,0,0,0,0,0,0,0,0,0,0,16,93,252,253,187,0,0,0,0,0,0,0,0,0,0,0,0,0,0,0,0,0,0,0,0,0,0,0,0,0,249,253,249,64,0,0,0,0,0,0,0,0,0,0,0,0,0,0,0,0,0,0,0,0,0,46,130,183,253,253,207,2,0,0,0,0,0,0,0,0,0,0,0,0,0,0,0,0,0,0,0,39,148,229,253,253,253,250,182,0,0,0,0,0,0,0,0,0,0,0,0,0,0,0,0,0,0,24,114,221,253,253,253,253,201,78,0,0,0,0,0,0,0,0,0,0,0,0,0,0,0,0,0,23,66,213,253,253,253,253,198,81,2,0,0,0,0,0,0,0,0,0,0,0,0,0,0,0,0,18,171,219,253,253,253,253,195,80,9,0,0,0,0,0,0,0,0,0,0,0,0,0,0,0,0,55,172,226,253,253,253,253,244,133,11,0,0,0,0,0,0,0,0,0,0,0,0,0,0,0,0,0,0,136,253,253,253,212,135,132,16,0,0,0,0,0,0,0,0,0,0,0,0,0,0,0,0,0,0,0,0,0,0,0,0,0,0,0,0,0,0,0,0,0,0,0,0,0,0,0,0,0,0,0,0,0,0,0,0,0,0,0,0,0,0,0,0,0,0,0,0,0,0,0,0,0,0,0,0,0,0,0,0,0,0,0,0,0,0,0,0,0,0,0,0,0,0,0,0,0,0,0,0,0,0,0,0,0,0,0,0\\n'"
      ]
     },
     "execution_count": 19,
     "metadata": {},
     "output_type": "execute_result"
    }
   ],
   "source": [
    "data_file = open('data/mnist/mnist_train_100.csv','r')\n",
    "data_list = data_file.readlines()\n",
    "len(data_list)  # 100\n",
    "data_list[0]"
   ]
  },
  {
   "cell_type": "code",
   "execution_count": 20,
   "metadata": {},
   "outputs": [
    {
     "data": {
      "text/plain": [
       "<matplotlib.image.AxesImage at 0x1f07e691b88>"
      ]
     },
     "execution_count": 20,
     "metadata": {},
     "output_type": "execute_result"
    },
    {
     "data": {
      "image/png": "[encoded data removed]",
      "text/plain": [
       "<Figure size 432x288 with 1 Axes>"
      ]
     },
     "metadata": {
      "needs_background": "light"
     },
     "output_type": "display_data"
    }
   ],
   "source": [
    "all_values = data_list[1].split(',')\n",
    "type(all_values)  # list\n",
    "len(all_values)  # 785\n",
    "\n",
    "# 0번째를 제거\n",
    "all_values[1:]\n",
    "\n",
    "# 문자로 된 숫자 -> 실수로 변환\n",
    "image_array = np.asfarray(all_values[1:]).reshape(28,28)\n",
    "plt.imshow(image_array, cmap = 'gray', interpolation='None')"
   ]
  },
  {
   "cell_type": "code",
   "execution_count": 21,
   "metadata": {},
   "outputs": [],
   "source": [
    "# 0 ~ 255 -> 0.01 ~ 1.0  // 0은 데이터가 전달되지 않기 때문에\n",
    "scale_input = (np.asfarray(all_values[1:]) / 255 * 0.99) + 0.01"
   ]
  },
  {
   "cell_type": "code",
   "execution_count": 22,
   "metadata": {},
   "outputs": [],
   "source": [
    "onodes = 10\n",
    "targets = np.zeros(onodes) + 0.01\n",
    "targets[int(all_values[0])] = 0.99"
   ]
  },
  {
   "cell_type": "code",
   "execution_count": 23,
   "metadata": {},
   "outputs": [],
   "source": [
    "# 입력, 은닉, 출력 노드의 수\n",
    "input_nodes = 784  # wih 78400\n",
    "hidden_nodes = 100 # who 1000\n",
    "output_nodes = 10  # 0~9\n",
    "# 학습률 0.3\n",
    "learning_rate = 0.3\n",
    "\n",
    "# 신경망 객체 생성\n",
    "n = neuralNetwork(input_nodes, hidden_nodes, output_nodes, learning_rate)\n",
    "\n",
    "# mnist 트레이닝 데이터 불러오기\n",
    "training_data_file = open('data/mnist/mnist_train_100.csv', 'r')\n",
    "training_data_list = training_data_file.readlines()\n",
    "training_data_file.close()\n",
    "\n",
    "# mnist 테스트 데이터 불러오기\n",
    "test_data_file = open('data/mnist/mnist_test_10.csv', 'r')\n",
    "test_data_list = test_data_file.readlines()\n",
    "test_data_file.close()\n",
    "\n",
    "epochs = 8\n",
    "for e in range(epochs):\n",
    "    # 신경망 학습\n",
    "    for record in training_data_list:\n",
    "        all_values = record.split(',')\n",
    "        # 0.01 ~ 1 로 스케일링\n",
    "        inputs = (np.asfarray(all_values[1:])/255*0.99)+0.01\n",
    "\n",
    "        # 결과값 생성\n",
    "        targets = np.zeros(output_nodes) + 0.01\n",
    "        targets[int(all_values[0])] = 0.99\n",
    "\n",
    "        n.train(inputs, targets)"
   ]
  },
  {
   "cell_type": "code",
   "execution_count": 24,
   "metadata": {},
   "outputs": [
    {
     "name": "stdout",
     "output_type": "stream",
     "text": [
      "7 correct_label\n",
      "7 : my neywork's answer\n",
      "\n",
      "\n",
      "2 correct_label\n",
      "2 : my neywork's answer\n",
      "\n",
      "\n",
      "1 correct_label\n",
      "1 : my neywork's answer\n",
      "\n",
      "\n",
      "0 correct_label\n",
      "0 : my neywork's answer\n",
      "\n",
      "\n",
      "4 correct_label\n",
      "4 : my neywork's answer\n",
      "\n",
      "\n",
      "1 correct_label\n",
      "1 : my neywork's answer\n",
      "\n",
      "\n",
      "4 correct_label\n",
      "9 : my neywork's answer\n",
      "\n",
      "\n",
      "9 correct_label\n",
      "4 : my neywork's answer\n",
      "\n",
      "\n",
      "5 correct_label\n",
      "4 : my neywork's answer\n",
      "\n",
      "\n",
      "9 correct_label\n",
      "9 : my neywork's answer\n",
      "\n",
      "\n"
     ]
    },
    {
     "data": {
      "text/plain": [
       "0.7"
      ]
     },
     "execution_count": 24,
     "metadata": {},
     "output_type": "execute_result"
    }
   ],
   "source": [
    "# 신경망 테스트\n",
    "\n",
    "scorecard = []\n",
    "\n",
    "for record in test_data_list :\n",
    "    all_values = record.split(',')\n",
    "    \n",
    "    # 정답\n",
    "    correct_label = int(all_values[0])\n",
    "    print(correct_label,'correct_label')\n",
    "    outputs = n.query((np.asfarray(all_values[1:])/255*0.99)+0.01)\n",
    "    label = np.argmax(outputs)\n",
    "    print(label, \": my neywork's answer\")\n",
    "    print('\\n')\n",
    "    if (label == correct_label) :\n",
    "        scorecard.append(1)\n",
    "    else :\n",
    "        scorecard.append(0)\n",
    "scorecard_array = np.asarray(scorecard)\n",
    "scorecard_array.sum() / scorecard_array.size"
   ]
  },
  {
   "cell_type": "code",
   "execution_count": 25,
   "metadata": {},
   "outputs": [
    {
     "data": {
      "text/plain": [
       "<matplotlib.image.AxesImage at 0x1f07f20e288>"
      ]
     },
     "execution_count": 25,
     "metadata": {},
     "output_type": "execute_result"
    },
    {
     "data": {
      "image/png": "[encoded data removed]",
      "text/plain": [
       "<Figure size 432x288 with 1 Axes>"
      ]
     },
     "metadata": {
      "needs_background": "light"
     },
     "output_type": "display_data"
    }
   ],
   "source": [
    "len(test_data_list)\n",
    "all_values = test_data_list[0].split(',')\n",
    "all_values[0]  # 첫번째 테스트데이터 정답 : 7\n",
    "\n",
    "plt.imshow(np.asfarray(all_values[1:]).reshape(28,28), cmap='Greys', interpolation='None')"
   ]
  },
  {
   "cell_type": "code",
   "execution_count": 26,
   "metadata": {},
   "outputs": [],
   "source": [
    "train_file = open('data/mnist/mnist_train.csv')\n",
    "train_list = train_file.readlines()\n",
    "train_file.close()\n",
    "\n",
    "test_file = open('data/mnist/mnist_test.csv')\n",
    "test_list = test_file.readlines()\n",
    "test_file.close()"
   ]
  },
  {
   "cell_type": "code",
   "execution_count": 27,
   "metadata": {},
   "outputs": [],
   "source": [
    "# 입력, 은닉, 출력 노드의 수\n",
    "input_nodes = 784  # wih 78400\n",
    "hidden_nodes = 100 # who 1000\n",
    "output_nodes = 10  # 0~9\n",
    "# 학습률 0.3\n",
    "learning_rate = 0.3\n",
    "\n",
    "# 신경망 객체 생성\n",
    "n = neuralNetwork(input_nodes, hidden_nodes, output_nodes, learning_rate)\n",
    "\n",
    "train_file = open('data/mnist/mnist_train.csv')\n",
    "train_list = train_file.readlines()\n",
    "train_file.close()\n",
    "\n",
    "test_file = open('data/mnist/mnist_test.csv')\n",
    "test_list = test_file.readlines()\n",
    "test_file.close()"
   ]
  },
  {
   "cell_type": "code",
   "execution_count": 28,
   "metadata": {},
   "outputs": [
    {
     "name": "stdout",
     "output_type": "stream",
     "text": [
      "1 epoch\n",
      "0.9459\n",
      "2 epoch\n",
      "0.9563\n",
      "3 epoch\n",
      "0.95\n",
      "4 epoch\n",
      "0.9421\n",
      "5 epoch\n",
      "0.9486\n",
      "6 epoch\n",
      "0.9441\n",
      "7 epoch\n",
      "0.9461\n",
      "8 epoch\n",
      "0.9432\n",
      "9 epoch\n",
      "0.9378\n"
     ]
    }
   ],
   "source": [
    "for e in range(1,10):\n",
    "    epochs = e\n",
    "    for time in range(epochs):\n",
    "        # 신경망 학습\n",
    "        for record in train_list[1:]:\n",
    "            all_values = record.split(',')\n",
    "            # 0.01 ~ 1 로 스케일링\n",
    "            inputs = (np.asfarray(all_values[1:])/255*0.99)+0.01\n",
    "\n",
    "            # 결과값 생성\n",
    "            targets = np.zeros(output_nodes) + 0.01\n",
    "            targets[int(all_values[0])] = 0.99\n",
    "\n",
    "            n.train(inputs, targets)\n",
    "    # 신경망 테스트\n",
    "\n",
    "    scorecard = []\n",
    "\n",
    "    for record in test_list[1:] :\n",
    "        all_values = record.split(',')\n",
    "\n",
    "        # 정답\n",
    "        correct_label = int(all_values[0])\n",
    "        # print(correct_label,'correct_label')\n",
    "        outputs = n.query((np.asfarray(all_values[1:])/255*0.99)+0.01)\n",
    "        label = np.argmax(outputs)\n",
    "        # print(label, \": my neywork's answer\")\n",
    "        # print('\\n')\n",
    "        if (label == correct_label) :\n",
    "            scorecard.append(1)\n",
    "        else :\n",
    "            scorecard.append(0)\n",
    "\n",
    "    scorecard_array = np.asarray(scorecard)\n",
    "    print(e, 'epoch')\n",
    "    print(scorecard_array.sum() / scorecard_array.size)"
   ]
  },
  {
   "cell_type": "code",
   "execution_count": 563,
   "metadata": {},
   "outputs": [
    {
     "data": {
      "text/plain": [
       "0.9469"
      ]
     },
     "execution_count": 563,
     "metadata": {},
     "output_type": "execute_result"
    }
   ],
   "source": []
  },
  {
   "cell_type": "code",
   "execution_count": null,
   "metadata": {},
   "outputs": [],
   "source": []
  },
  {
   "cell_type": "code",
   "execution_count": null,
   "metadata": {},
   "outputs": [],
   "source": []
  },
  {
   "cell_type": "code",
   "execution_count": null,
   "metadata": {},
   "outputs": [],
   "source": []
  },
  {
   "cell_type": "code",
   "execution_count": null,
   "metadata": {},
   "outputs": [],
   "source": []
  },
  {
   "cell_type": "code",
   "execution_count": null,
   "metadata": {},
   "outputs": [],
   "source": []
  },
  {
   "cell_type": "code",
   "execution_count": null,
   "metadata": {},
   "outputs": [],
   "source": []
  },
  {
   "cell_type": "code",
   "execution_count": null,
   "metadata": {},
   "outputs": [],
   "source": []
  },
  {
   "cell_type": "code",
   "execution_count": null,
   "metadata": {},
   "outputs": [],
   "source": []
  },
  {
   "cell_type": "code",
   "execution_count": null,
   "metadata": {},
   "outputs": [],
   "source": []
  },
  {
   "cell_type": "code",
   "execution_count": null,
   "metadata": {},
   "outputs": [],
   "source": []
  },
  {
   "cell_type": "code",
   "execution_count": null,
   "metadata": {},
   "outputs": [],
   "source": []
  },
  {
   "cell_type": "code",
   "execution_count": null,
   "metadata": {},
   "outputs": [],
   "source": []
  },
  {
   "cell_type": "code",
   "execution_count": null,
   "metadata": {},
   "outputs": [],
   "source": []
  },
  {
   "cell_type": "code",
   "execution_count": null,
   "metadata": {},
   "outputs": [],
   "source": []
  },
  {
   "cell_type": "code",
   "execution_count": null,
   "metadata": {},
   "outputs": [],
   "source": []
  },
  {
   "cell_type": "code",
   "execution_count": null,
   "metadata": {},
   "outputs": [],
   "source": []
  },
  {
   "cell_type": "code",
   "execution_count": null,
   "metadata": {},
   "outputs": [],
   "source": []
  },
  {
   "cell_type": "code",
   "execution_count": null,
   "metadata": {},
   "outputs": [],
   "source": []
  },
  {
   "cell_type": "code",
   "execution_count": null,
   "metadata": {},
   "outputs": [],
   "source": []
  },
  {
   "cell_type": "code",
   "execution_count": null,
   "metadata": {},
   "outputs": [],
   "source": []
  },
  {
   "cell_type": "code",
   "execution_count": null,
   "metadata": {},
   "outputs": [],
   "source": []
  },
  {
   "cell_type": "code",
   "execution_count": null,
   "metadata": {},
   "outputs": [],
   "source": []
  },
  {
   "cell_type": "code",
   "execution_count": null,
   "metadata": {},
   "outputs": [],
   "source": []
  },
  {
   "cell_type": "code",
   "execution_count": null,
   "metadata": {},
   "outputs": [],
   "source": []
  },
  {
   "cell_type": "code",
   "execution_count": null,
   "metadata": {},
   "outputs": [],
   "source": []
  },
  {
   "cell_type": "code",
   "execution_count": null,
   "metadata": {},
   "outputs": [],
   "source": []
  },
  {
   "cell_type": "code",
   "execution_count": null,
   "metadata": {},
   "outputs": [],
   "source": []
  },
  {
   "cell_type": "code",
   "execution_count": null,
   "metadata": {},
   "outputs": [],
   "source": []
  },
  {
   "cell_type": "code",
   "execution_count": null,
   "metadata": {},
   "outputs": [],
   "source": []
  },
  {
   "cell_type": "code",
   "execution_count": null,
   "metadata": {},
   "outputs": [],
   "source": []
  }
 ],
 "metadata": {
  "kernelspec": {
   "display_name": "Python 3",
   "language": "python",
   "name": "python3"
  },
  "language_info": {
   "codemirror_mode": {
    "name": "ipython",
    "version": 3
   },
   "file_extension": ".py",
   "mimetype": "text/x-python",
   "name": "python",
   "nbconvert_exporter": "python",
   "pygments_lexer": "ipython3",
   "version": "3.7.4"
  }
 },
 "nbformat": 4,
 "nbformat_minor": 2
}
