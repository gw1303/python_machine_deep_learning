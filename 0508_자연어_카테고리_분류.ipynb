{
 "cells": [
  {
   "cell_type": "code",
   "execution_count": 1,
   "metadata": {},
   "outputs": [],
   "source": [
    "# 토큰화 클래스\n",
    "from keras.preprocessing.text import Tokenizer"
   ]
  },
  {
   "cell_type": "code",
   "execution_count": 36,
   "metadata": {},
   "outputs": [],
   "source": [
    "tok = Tokenizer()\n",
    "text = 'Regret for wasted time is more wasted time'"
   ]
  },
  {
   "cell_type": "code",
   "execution_count": 22,
   "metadata": {},
   "outputs": [
    {
     "data": {
      "text/plain": [
       "{'e': 1,\n",
       " 't': 2,\n",
       " 'r': 3,\n",
       " 's': 4,\n",
       " 'i': 5,\n",
       " 'm': 6,\n",
       " 'o': 7,\n",
       " 'w': 8,\n",
       " 'a': 9,\n",
       " 'd': 10,\n",
       " 'g': 11,\n",
       " 'f': 12}"
      ]
     },
     "execution_count": 22,
     "metadata": {},
     "output_type": "execute_result"
    }
   ],
   "source": [
    "# 글자단위 토큰화\n",
    "tok.fit_on_texts(text)\n",
    "tok.word_index"
   ]
  },
  {
   "cell_type": "code",
   "execution_count": 37,
   "metadata": {},
   "outputs": [
    {
     "data": {
      "text/plain": [
       "{'wasted': 1, 'time': 2, 'regret': 3, 'for': 4, 'is': 5, 'more': 6}"
      ]
     },
     "execution_count": 37,
     "metadata": {},
     "output_type": "execute_result"
    }
   ],
   "source": [
    "# 단어단위 토큰화\n",
    "tok.fit_on_texts([text])\n",
    "tok.word_index"
   ]
  },
  {
   "cell_type": "code",
   "execution_count": 38,
   "metadata": {},
   "outputs": [],
   "source": [
    "test = 'Regret for wasted hour is more wasted hour'\n",
    "seq = tok.texts_to_sequences([test])"
   ]
  },
  {
   "cell_type": "code",
   "execution_count": 46,
   "metadata": {},
   "outputs": [
    {
     "data": {
      "text/plain": [
       "array([[1, 2, 3],\n",
       "       [3, 4, 5],\n",
       "       [6, 7, 0]])"
      ]
     },
     "execution_count": 46,
     "metadata": {},
     "output_type": "execute_result"
    }
   ],
   "source": [
    "from keras.preprocessing.sequence import pad_sequences\n",
    "# pad_sequeces : 샘플의 길이를 동일하게 해주는 함수\n",
    "pad_sequences([[1,2,3],[2,3,4,5],[6,7]], maxlen=3, padding='post')\n",
    "# padding='post' => 0이 뒤에 / 'pre' =? 0이 앞에"
   ]
  },
  {
   "cell_type": "markdown",
   "metadata": {},
   "source": [
    "# 워드 임베딩"
   ]
  },
  {
   "cell_type": "code",
   "execution_count": null,
   "metadata": {},
   "outputs": [],
   "source": [
    "# 워드 임베딩 : 문장 내의 단어들을 밀집벡터로 만드는 작업\n",
    "# 원핫벡터(희소벡터 - 고차원,기억장소낭비)  ex> 001000...00000 (tiger)\n",
    "# 밀집벡터 (저차원, 실수값)        ex> [0.1, -1.5, 1.9, 2,4] (tiger)\n",
    "\n",
    "# ex> text = [[0,1,2,3],[3,4,1,5]]\n",
    "#   => Embedding(6,2,4)  # 단어개수:6, 벡터크기:2, 시퀀스길이:4\n",
    "#   => 0:[1.3,1.5], 1:[2.5,4.1] .. "
   ]
  },
  {
   "cell_type": "code",
   "execution_count": 54,
   "metadata": {},
   "outputs": [],
   "source": [
    "# functional API를 이용한 모델 설계\n",
    "from keras.layers import Input, Dense, LSTM\n",
    "from keras.models import  Model\n",
    "\n",
    "# 신경망 생성\n",
    "inp = Input(shape=(10,))  # 10개 입력, 입력층\n",
    "h1 = Dense(32, activation='relu')(inp)\n",
    "h2 = Dense(16, activation='relu')(h1)\n",
    "outp = Dense(1, activation='relu')(h2)\n",
    "\n",
    "# 모델 생성\n",
    "model = Model(inputs=inp, outputs=outp)\n",
    "\n",
    "model.compile(loss='categorical_crossentropy', optimizer='rmsprop', metrics=['accuracy'])\n",
    "\n",
    "# model.fit(xdata, ydata, epochs=10, batch_size=10)"
   ]
  },
  {
   "cell_type": "code",
   "execution_count": 56,
   "metadata": {},
   "outputs": [],
   "source": [
    "# RNN 구조를 api 형식으로\n",
    "inp = Input(shape=(50,1))\n",
    "h1 = LSTM(10)(inp)\n",
    "h2 = Dense(10, activation='relu')(h1)\n",
    "outp = Dense(1, activation='sigmoid')(h2)\n",
    "\n",
    "model = Model(inputs=inp, outputs=outp)"
   ]
  },
  {
   "cell_type": "code",
   "execution_count": 138,
   "metadata": {},
   "outputs": [
    {
     "name": "stdout",
     "output_type": "stream",
     "text": [
      "{'바나나': 1, '먹고': 2, '싶은': 3, '길고': 4, '저는': 5, '사과': 6, '과일이': 7, '좋아요': 8}\n"
     ]
    },
    {
     "data": {
      "text/plain": [
       "array([[0., 0., 1.],\n",
       "       [0., 1., 1.],\n",
       "       [0., 1., 0.],\n",
       "       [0., 0., 0.]])"
      ]
     },
     "execution_count": 138,
     "metadata": {},
     "output_type": "execute_result"
    }
   ],
   "source": [
    "texts = ['먹고 싶은 사과','먹고 싶은 바나나','길고 길고 바나나 바나나','저는 저는 과일이 좋아요']\n",
    "\n",
    "# 토큰화\n",
    "tok = Tokenizer(num_words=3)\n",
    "tok.fit_on_texts(texts) # 단어사전 생성\n",
    "\n",
    "print(tok.word_index)  \n",
    "\n",
    "tok.texts_to_matrix(texts, mode='binary')"
   ]
  },
  {
   "cell_type": "code",
   "execution_count": 81,
   "metadata": {},
   "outputs": [
    {
     "name": "stdout",
     "output_type": "stream",
     "text": [
      "{'바나나': 1, '먹고': 2, '싶은': 3, '사과': 4, '길고': 5, '노란': 6, '저는': 7, '과일이': 8, '좋아요': 9}\n"
     ]
    },
    {
     "data": {
      "text/plain": [
       "array([[0., 0., 1., 1., 1., 0., 0., 0., 0., 0.],\n",
       "       [0., 1., 1., 1., 0., 0., 0., 0., 0., 0.],\n",
       "       [0., 1., 0., 0., 0., 1., 1., 0., 0., 0.],\n",
       "       [0., 0., 0., 0., 0., 0., 0., 1., 1., 1.]])"
      ]
     },
     "execution_count": 81,
     "metadata": {},
     "output_type": "execute_result"
    }
   ],
   "source": [
    "# MLP로 텍스트 분류\n",
    "from keras.preprocessing.text import Tokenizer\n",
    "import numpy as np\n",
    "\n",
    "texts = ['먹고 싶은 사과','먹고 싶은 바나나','길고 노란 바나나 바나나','저는 과일이 좋아요']\n",
    "\n",
    "# 토큰화\n",
    "tok = Tokenizer()\n",
    "tok.fit_on_texts(texts) # 단어사전 생성\n",
    "\n",
    "print(tok.word_index)  \n",
    "# {'바나나': 1, '먹고': 2, '싶은': 3, '사과': 4, '길고': 5, '노란': 6, '저는': 7, '과일이': 8, '좋아요': 9}\n",
    "\n",
    "tok.texts_to_matrix(texts, mode='binary')  #  mode: \"binary\", \"count\", \"tfidf\", \"freq\""
   ]
  },
  {
   "cell_type": "code",
   "execution_count": 82,
   "metadata": {},
   "outputs": [],
   "source": [
    "# 실습 \n",
    "import pandas as pd\n",
    "from sklearn.datasets import fetch_20newsgroups\n",
    "from keras.utils import to_categorical\n",
    "import matplotlib.pyplot as plt"
   ]
  },
  {
   "cell_type": "code",
   "execution_count": 84,
   "metadata": {},
   "outputs": [],
   "source": [
    "# 뉴스 데이터 불러오기\n",
    "newsData = fetch_20newsgroups(subset='train')  # subset = train, test, all"
   ]
  },
  {
   "cell_type": "code",
   "execution_count": 92,
   "metadata": {},
   "outputs": [
    {
     "name": "stdout",
     "output_type": "stream",
     "text": [
      "dict_keys(['data', 'filenames', 'target_names', 'target', 'DESCR'])\n",
      "[7 4 4 ... 3 1 8]\n",
      "['alt.atheism', 'comp.graphics', 'comp.os.ms-windows.misc', 'comp.sys.ibm.pc.hardware', 'comp.sys.mac.hardware', 'comp.windows.x', 'misc.forsale', 'rec.autos', 'rec.motorcycles', 'rec.sport.baseball', 'rec.sport.hockey', 'sci.crypt', 'sci.electronics', 'sci.med', 'sci.space', 'soc.religion.christian', 'talk.politics.guns', 'talk.politics.mideast', 'talk.politics.misc', 'talk.religion.misc']\n"
     ]
    }
   ],
   "source": [
    "print(newsData.keys())\n",
    "print(newsData.target)\n",
    "print(newsData.target_names)"
   ]
  },
  {
   "cell_type": "code",
   "execution_count": 99,
   "metadata": {},
   "outputs": [
    {
     "data": {
      "text/html": [
       "<div>\n",
       "<style scoped>\n",
       "    .dataframe tbody tr th:only-of-type {\n",
       "        vertical-align: middle;\n",
       "    }\n",
       "\n",
       "    .dataframe tbody tr th {\n",
       "        vertical-align: top;\n",
       "    }\n",
       "\n",
       "    .dataframe thead th {\n",
       "        text-align: right;\n",
       "    }\n",
       "</style>\n",
       "<table border=\"1\" class=\"dataframe\">\n",
       "  <thead>\n",
       "    <tr style=\"text-align: right;\">\n",
       "      <th></th>\n",
       "      <th>email</th>\n",
       "      <th>target</th>\n",
       "    </tr>\n",
       "  </thead>\n",
       "  <tbody>\n",
       "    <tr>\n",
       "      <td>0</td>\n",
       "      <td>From: lerxst@wam.umd.edu (where's my thing)\\nS...</td>\n",
       "      <td>7</td>\n",
       "    </tr>\n",
       "    <tr>\n",
       "      <td>1</td>\n",
       "      <td>From: guykuo@carson.u.washington.edu (Guy Kuo)...</td>\n",
       "      <td>4</td>\n",
       "    </tr>\n",
       "    <tr>\n",
       "      <td>2</td>\n",
       "      <td>From: twillis@ec.ecn.purdue.edu (Thomas E Will...</td>\n",
       "      <td>4</td>\n",
       "    </tr>\n",
       "    <tr>\n",
       "      <td>3</td>\n",
       "      <td>From: jgreen@amber (Joe Green)\\nSubject: Re: W...</td>\n",
       "      <td>1</td>\n",
       "    </tr>\n",
       "    <tr>\n",
       "      <td>4</td>\n",
       "      <td>From: jcm@head-cfa.harvard.edu (Jonathan McDow...</td>\n",
       "      <td>14</td>\n",
       "    </tr>\n",
       "    <tr>\n",
       "      <td>...</td>\n",
       "      <td>...</td>\n",
       "      <td>...</td>\n",
       "    </tr>\n",
       "    <tr>\n",
       "      <td>11309</td>\n",
       "      <td>From: jim.zisfein@factory.com (Jim Zisfein) \\n...</td>\n",
       "      <td>13</td>\n",
       "    </tr>\n",
       "    <tr>\n",
       "      <td>11310</td>\n",
       "      <td>From: ebodin@pearl.tufts.edu\\nSubject: Screen ...</td>\n",
       "      <td>4</td>\n",
       "    </tr>\n",
       "    <tr>\n",
       "      <td>11311</td>\n",
       "      <td>From: westes@netcom.com (Will Estes)\\nSubject:...</td>\n",
       "      <td>3</td>\n",
       "    </tr>\n",
       "    <tr>\n",
       "      <td>11312</td>\n",
       "      <td>From: steve@hcrlgw (Steven Collins)\\nSubject: ...</td>\n",
       "      <td>1</td>\n",
       "    </tr>\n",
       "    <tr>\n",
       "      <td>11313</td>\n",
       "      <td>From: gunning@cco.caltech.edu (Kevin J. Gunnin...</td>\n",
       "      <td>8</td>\n",
       "    </tr>\n",
       "  </tbody>\n",
       "</table>\n",
       "<p>11314 rows × 2 columns</p>\n",
       "</div>"
      ],
      "text/plain": [
       "                                                   email  target\n",
       "0      From: lerxst@wam.umd.edu (where's my thing)\\nS...       7\n",
       "1      From: guykuo@carson.u.washington.edu (Guy Kuo)...       4\n",
       "2      From: twillis@ec.ecn.purdue.edu (Thomas E Will...       4\n",
       "3      From: jgreen@amber (Joe Green)\\nSubject: Re: W...       1\n",
       "4      From: jcm@head-cfa.harvard.edu (Jonathan McDow...      14\n",
       "...                                                  ...     ...\n",
       "11309  From: jim.zisfein@factory.com (Jim Zisfein) \\n...      13\n",
       "11310  From: ebodin@pearl.tufts.edu\\nSubject: Screen ...       4\n",
       "11311  From: westes@netcom.com (Will Estes)\\nSubject:...       3\n",
       "11312  From: steve@hcrlgw (Steven Collins)\\nSubject: ...       1\n",
       "11313  From: gunning@cco.caltech.edu (Kevin J. Gunnin...       8\n",
       "\n",
       "[11314 rows x 2 columns]"
      ]
     },
     "execution_count": 99,
     "metadata": {},
     "output_type": "execute_result"
    }
   ],
   "source": [
    "df = pd.DataFrame(newsData.data, columns=['email'])\n",
    "df['target'] = newsData.target\n",
    "df"
   ]
  },
  {
   "cell_type": "code",
   "execution_count": 117,
   "metadata": {
    "scrolled": true
   },
   "outputs": [
    {
     "name": "stdout",
     "output_type": "stream",
     "text": [
      "<class 'pandas.core.frame.DataFrame'>\n",
      "RangeIndex: 11314 entries, 0 to 11313\n",
      "Data columns (total 2 columns):\n",
      "email     11314 non-null object\n",
      "target    11314 non-null int32\n",
      "dtypes: int32(1), object(1)\n",
      "memory usage: 132.7+ KB\n"
     ]
    },
    {
     "data": {
      "text/plain": [
       "target\n",
       "0     480\n",
       "1     584\n",
       "2     591\n",
       "3     590\n",
       "4     578\n",
       "5     593\n",
       "6     585\n",
       "7     594\n",
       "8     598\n",
       "9     597\n",
       "10    600\n",
       "11    595\n",
       "12    591\n",
       "13    594\n",
       "14    593\n",
       "15    599\n",
       "16    546\n",
       "17    564\n",
       "18    465\n",
       "19    377\n",
       "dtype: int64"
      ]
     },
     "execution_count": 117,
     "metadata": {},
     "output_type": "execute_result"
    },
    {
     "data": {
      "image/png": "[encoded data removed]",
      "text/plain": [
       "<Figure size 432x288 with 1 Axes>"
      ]
     },
     "metadata": {
      "needs_background": "light"
     },
     "output_type": "display_data"
    }
   ],
   "source": [
    "df.info()\n",
    "# null 조사\n",
    "df.isnull().values.any()\n",
    "\n",
    "df['email'].nunique()  # 11314개 샘플\n",
    "df['target'].nunique()  # 20가지 주제\n",
    "\n",
    "# target별 샘플 수 조사\n",
    "df['target'].value_counts().plot.bar()\n",
    "\n",
    "df.groupby('target').size()"
   ]
  },
  {
   "cell_type": "code",
   "execution_count": 119,
   "metadata": {},
   "outputs": [],
   "source": [
    "# test데이터 불러오기\n",
    "newsDataTest = fetch_20newsgroups(subset='test', shuffle=True)"
   ]
  },
  {
   "cell_type": "code",
   "execution_count": 122,
   "metadata": {},
   "outputs": [],
   "source": [
    "# train 데이터 저장\n",
    "trainEmail = df['email']\n",
    "trainLabel = df['target']\n",
    "\n",
    "# test 데이터 저장\n",
    "testEmail = newsDataTest.data  # test 본문\n",
    "testLabel = newsDataTest.target  # test target"
   ]
  },
  {
   "cell_type": "code",
   "execution_count": 131,
   "metadata": {},
   "outputs": [],
   "source": [
    "def preData(trainData, testData, mode) : # 전처리함수\n",
    "    \n",
    "    tok = Tokenizer(num_words=10000)  # 빈도수가 가장 높은 상위 10000개의 단어를 사용하여 토크나이저 구성\n",
    "    tok.fit_on_texts(trainData)\n",
    "    \n",
    "    xTrain = tok.texts_to_matrix(trainData, mode=mode)\n",
    "    xTest = tok.texts_to_matrix(testData, mode=mode)\n",
    "    \n",
    "    return xTrain, xTest, tok.index_word\n",
    "\n",
    "xTrain, xTest, index_word = preData(trainEmail, testEmail, 'binary')"
   ]
  },
  {
   "cell_type": "code",
   "execution_count": 136,
   "metadata": {},
   "outputs": [],
   "source": [
    "# label 데이터 원핫인코딩\n",
    "yTrain = to_categorical(trainLabel, num_classes=20)\n",
    "yTest = to_categorical(testLabel, num_classes=20)"
   ]
  },
  {
   "cell_type": "code",
   "execution_count": 145,
   "metadata": {},
   "outputs": [
    {
     "data": {
      "text/plain": [
       "'proportion'"
      ]
     },
     "execution_count": 145,
     "metadata": {},
     "output_type": "execute_result"
    }
   ],
   "source": [
    "index_word[10000]"
   ]
  },
  {
   "cell_type": "code",
   "execution_count": 151,
   "metadata": {},
   "outputs": [],
   "source": [
    "# MLP 기반 텍스트 분류 모델\n",
    "from keras.layers import Dropout\n",
    "from keras.models import Sequential"
   ]
  },
  {
   "cell_type": "code",
   "execution_count": 236,
   "metadata": {},
   "outputs": [],
   "source": [
    "def fitEval(xTrain, yTrain, xTest, yTest) : # fit & evaluate 수행 함수\n",
    "    # 모델 구성\n",
    "    model = Sequential()                                 # (10000,)\n",
    "    model.add(Dense(256, activation='relu', input_shape=[10000]))\n",
    "    model.add(Dropout(0.5))\n",
    "    \n",
    "    model.add(Dense(128, activation='relu'))\n",
    "    model.add(Dropout(0.5))\n",
    "    \n",
    "    model.add(Dense(20, activation='softmax'))\n",
    "    \n",
    "    # 모델 환경 설정\n",
    "    model.compile(loss='categorical_crossentropy', optimizer='adam', metrics=['accuracy'])\n",
    "    # 모델 학습\n",
    "    model.fit(xTrain, yTrain, epochs=3, batch_size=128, validation_split=0.1, verbose=1)\n",
    "    # 모델 평가\n",
    "    score = model.evaluate(xTest, yTest, batch_size=128)\n",
    "    \n",
    "    return score[1], model"
   ]
  },
  {
   "cell_type": "code",
   "execution_count": 199,
   "metadata": {},
   "outputs": [
    {
     "name": "stdout",
     "output_type": "stream",
     "text": [
      "Train on 10182 samples, validate on 1132 samples\n",
      "Epoch 1/1\n",
      "10182/10182 [==============================] - 5s 459us/step - loss: 2.2091 - accuracy: 0.3655 - val_loss: 0.7618 - val_accuracy: 0.8436\n",
      "7532/7532 [==============================] - 1s 135us/step\n"
     ]
    },
    {
     "data": {
      "text/plain": [
       "(0.7727031111717224, None)"
      ]
     },
     "execution_count": 199,
     "metadata": {},
     "output_type": "execute_result"
    }
   ],
   "source": [
    "# 모델 훈련 및 평가\n",
    "# score : 모델 정확도\n",
    "score = fitEval(xTrain, yTrain, xTest, yTest)\n",
    "score"
   ]
  },
  {
   "cell_type": "code",
   "execution_count": 164,
   "metadata": {},
   "outputs": [
    {
     "name": "stdout",
     "output_type": "stream",
     "text": [
      "Train on 10182 samples, validate on 1132 samples\n",
      "Epoch 1/1\n",
      "10182/10182 [==============================] - 5s 453us/step - loss: 2.2348 - accuracy: 0.3573 - val_loss: 0.7807 - val_accuracy: 0.8445\n",
      "7532/7532 [==============================] - 1s 137us/step\n"
     ]
    },
    {
     "data": {
      "text/plain": [
       "0.7784121036529541"
      ]
     },
     "execution_count": 164,
     "metadata": {},
     "output_type": "execute_result"
    }
   ],
   "source": [
    "xTrain, xTest, _ = preData(trainEmail, testEmail, 'tfidf')\n",
    "score = fitEval(xTrain, yTrain, xTest, yTest)\n",
    "score"
   ]
  },
  {
   "cell_type": "code",
   "execution_count": 230,
   "metadata": {},
   "outputs": [],
   "source": [
    "news = ['''\n",
    "By Kim Hyun-bin\n",
    "SK Telecom, the country's leading mobile carrier, plans to expand its 5G subscriber base along with newly developing innovative services this year.\n",
    "\"We have acquired 2.65 million subscribers as of the end of the first quarter, which resulted in an increase of MNO (mobile network operator) sales,\" SKT said during a conference call to investors, Thursday. \"This year's goal is to expand our 5G subscriber base as well as create new services.\"\n",
    "The company aims to increase its presence in the global game market in cooperation with foreign gaming firms including Singtel of Singapore and AIS of Thailand.\n",
    "\"As part of our contactless business, in cooperation with Singtel of Singapore and AIS of Thailand, we have acquired an 800 million consumer base in the Southeast Asia game market,\" SKT said.\n",
    "SK Telecom Logo. Courtesy of SKT\n",
    "The leading mobile carrier also plans to excel in the over-the-top (OTT) platform by investing 60 billion won and through partnerships with global content powerhouses.\n",
    "\"We plan to invest 60 billion won in original content for our OTT Wavve platform,\" the company said. \"Through a partnership with NBC Universal, we plan to increase the value of our Wavve platform.\"\n",
    "SKT's net income dropped 17.9 percent from a year earlier due to reduced equity gains and investments related to its 5G service.\n",
    "In a regulatory filing Thursday, SKT reported net income of 306.8 billion won (US$250 million) in the January-March period, on a consolidated basis, down from 373.6 billion won a year ago.\n",
    "The company said operating profit for the first three months of the year fell 6.4 percent year-on-year to 302 billion won, although its annual revenue increased 2.7 percent year-on-year to 4.45 trillion won.\n",
    "The country's leading mobile carrier attributed its profit decline to equity ties with chip-making affiliate SK hynix Inc.\n",
    "SKT has a 20 percent stake in SK hynix, which reported a 41 percent drop in net profit in the first quarter.\n",
    "Increased marketing expenses for the 5G service and depreciation costs also dragged down the bottom line, according to the mobile carrier.\n",
    "However, total sales rose 3.9 percent to 2.92 trillion won year-on-year. Although there was a reduction in roaming sales, it was offset by the increase in 5G subscribers, which has shown a steady increase since the second quarter of last year.\n",
    "SKT has ranked first for 23 consecutive years on the National Customer Satisfaction Index (NCSI) and has acquired 2.65 million 5G subscribers, topping the telecommunications market.\n",
    "The company plans to create technological advancements and differentiate its product lines in cloud gaming, AR/VR services and customer benefits, as well as enhancing 5G Cluster-based marketing.\n",
    "SK Broadband's first-quarter sales increased 8.2 percent compared to the previous year, recording 823.5 billion won, mostly attributed to the growth in the IPTV (internet protocol television) sector.\n",
    "Through the successful merger with T Broad last April, the company was able to acquire 8.21 million pay-per-view and 6.48 million internet subscribers.\n",
    "\"For continuous long-term growth in the last year, we have established a diverse portfolio regarding MNO, media, security and commerce,\" Yoon Poong-young, head of the Corp 1 Center at SKT, said. \"Through sustainable growth in four key business sectors we will strategically overcome the crisis.\"\n",
    "''']"
   ]
  },
  {
   "cell_type": "code",
   "execution_count": 231,
   "metadata": {},
   "outputs": [],
   "source": [
    "_,news, _ = preData(trainEmail, news, 'tfidf')"
   ]
  },
  {
   "cell_type": "code",
   "execution_count": 238,
   "metadata": {},
   "outputs": [
    {
     "name": "stdout",
     "output_type": "stream",
     "text": [
      "Train on 10182 samples, validate on 1132 samples\n",
      "Epoch 1/3\n",
      "10182/10182 [==============================] - 5s 507us/step - loss: 2.2690 - accuracy: 0.3492 - val_loss: 0.8176 - val_accuracy: 0.8419\n",
      "Epoch 2/3\n",
      "10182/10182 [==============================] - 4s 434us/step - loss: 0.8289 - accuracy: 0.7675 - val_loss: 0.4083 - val_accuracy: 0.8993\n",
      "Epoch 3/3\n",
      "10182/10182 [==============================] - 4s 439us/step - loss: 0.4598 - accuracy: 0.8834 - val_loss: 0.3770 - val_accuracy: 0.9055\n",
      "7532/7532 [==============================] - 1s 151us/step\n"
     ]
    },
    {
     "data": {
      "text/plain": [
       "0.8204991817474365"
      ]
     },
     "execution_count": 238,
     "metadata": {},
     "output_type": "execute_result"
    }
   ],
   "source": [
    "# 모델 훈련 및 평가 / 모델 저장\n",
    "score, model = fitEval(xTrain, yTrain, xTest, yTest)\n",
    "score"
   ]
  },
  {
   "cell_type": "code",
   "execution_count": 244,
   "metadata": {},
   "outputs": [],
   "source": [
    "pred_idx = np.argmax(model.predict(news))\n",
    "newsData.target_names[pred_idx]"
   ]
  },
  {
   "cell_type": "code",
   "execution_count": null,
   "metadata": {},
   "outputs": [],
   "source": []
  },
  {
   "cell_type": "code",
   "execution_count": null,
   "metadata": {},
   "outputs": [],
   "source": []
  },
  {
   "cell_type": "code",
   "execution_count": null,
   "metadata": {},
   "outputs": [],
   "source": []
  },
  {
   "cell_type": "code",
   "execution_count": null,
   "metadata": {},
   "outputs": [],
   "source": []
  },
  {
   "cell_type": "code",
   "execution_count": null,
   "metadata": {},
   "outputs": [],
   "source": []
  },
  {
   "cell_type": "code",
   "execution_count": null,
   "metadata": {},
   "outputs": [],
   "source": []
  },
  {
   "cell_type": "code",
   "execution_count": null,
   "metadata": {},
   "outputs": [],
   "source": []
  },
  {
   "cell_type": "code",
   "execution_count": null,
   "metadata": {},
   "outputs": [],
   "source": []
  },
  {
   "cell_type": "code",
   "execution_count": null,
   "metadata": {},
   "outputs": [],
   "source": []
  },
  {
   "cell_type": "code",
   "execution_count": null,
   "metadata": {},
   "outputs": [],
   "source": []
  },
  {
   "cell_type": "code",
   "execution_count": null,
   "metadata": {},
   "outputs": [],
   "source": []
  },
  {
   "cell_type": "code",
   "execution_count": null,
   "metadata": {},
   "outputs": [],
   "source": []
  },
  {
   "cell_type": "code",
   "execution_count": null,
   "metadata": {},
   "outputs": [],
   "source": []
  },
  {
   "cell_type": "code",
   "execution_count": null,
   "metadata": {},
   "outputs": [],
   "source": []
  },
  {
   "cell_type": "code",
   "execution_count": null,
   "metadata": {},
   "outputs": [],
   "source": []
  },
  {
   "cell_type": "code",
   "execution_count": null,
   "metadata": {},
   "outputs": [],
   "source": []
  },
  {
   "cell_type": "code",
   "execution_count": null,
   "metadata": {},
   "outputs": [],
   "source": []
  },
  {
   "cell_type": "code",
   "execution_count": null,
   "metadata": {},
   "outputs": [],
   "source": []
  },
  {
   "cell_type": "code",
   "execution_count": null,
   "metadata": {},
   "outputs": [],
   "source": []
  },
  {
   "cell_type": "code",
   "execution_count": null,
   "metadata": {},
   "outputs": [],
   "source": []
  },
  {
   "cell_type": "code",
   "execution_count": null,
   "metadata": {},
   "outputs": [],
   "source": []
  },
  {
   "cell_type": "code",
   "execution_count": null,
   "metadata": {},
   "outputs": [],
   "source": []
  },
  {
   "cell_type": "code",
   "execution_count": null,
   "metadata": {},
   "outputs": [],
   "source": []
  },
  {
   "cell_type": "code",
   "execution_count": null,
   "metadata": {},
   "outputs": [],
   "source": []
  },
  {
   "cell_type": "code",
   "execution_count": null,
   "metadata": {},
   "outputs": [],
   "source": []
  },
  {
   "cell_type": "code",
   "execution_count": null,
   "metadata": {},
   "outputs": [],
   "source": []
  },
  {
   "cell_type": "code",
   "execution_count": null,
   "metadata": {},
   "outputs": [],
   "source": []
  },
  {
   "cell_type": "code",
   "execution_count": null,
   "metadata": {},
   "outputs": [],
   "source": []
  }
 ],
 "metadata": {
  "kernelspec": {
   "display_name": "Python 3",
   "language": "python",
   "name": "python3"
  },
  "language_info": {
   "codemirror_mode": {
    "name": "ipython",
    "version": 3
   },
   "file_extension": ".py",
   "mimetype": "text/x-python",
   "name": "python",
   "nbconvert_exporter": "python",
   "pygments_lexer": "ipython3",
   "version": "3.7.4"
  }
 },
 "nbformat": 4,
 "nbformat_minor": 2
}
