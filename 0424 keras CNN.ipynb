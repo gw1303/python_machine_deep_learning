{
 "cells": [
  {
   "cell_type": "code",
   "execution_count": null,
   "metadata": {},
   "outputs": [],
   "source": [
    "# ImageGenrator을 이용한 CNN 블로그\n",
    "# https://tykimos.github.io/2017/03/08/CNN_Getting_Started/"
   ]
  },
  {
   "cell_type": "code",
   "execution_count": 5,
   "metadata": {},
   "outputs": [],
   "source": [
    "from keras.datasets import mnist\n",
    "from keras.utils import np_utils\n",
    "import numpy as np\n",
    "import sys\n",
    "import tensorflow as tf"
   ]
  },
  {
   "cell_type": "code",
   "execution_count": 87,
   "metadata": {},
   "outputs": [
    {
     "name": "stdout",
     "output_type": "stream",
     "text": [
      "(60000, 28, 28)\n",
      "(10000, 28, 28)\n",
      "(60000,)\n",
      "(10000,)\n"
     ]
    }
   ],
   "source": [
    "# keras에서 mnist 데이터셋 불러오기\n",
    "(xTrain, yTrain), (xTest, yTest) = mnist.load_data()\n",
    "\n",
    "print(xTrain.shape)\n",
    "print(xTest.shape)\n",
    "print(yTrain.shape)\n",
    "print(yTest.shape)"
   ]
  },
  {
   "cell_type": "code",
   "execution_count": 11,
   "metadata": {},
   "outputs": [],
   "source": [
    "import matplotlib.pyplot as plt"
   ]
  },
  {
   "cell_type": "code",
   "execution_count": 14,
   "metadata": {},
   "outputs": [
    {
     "data": {
      "image/png": "[encoded data removed]",
      "text/plain": [
       "<Figure size 432x288 with 1 Axes>"
      ]
     },
     "metadata": {
      "needs_background": "light"
     },
     "output_type": "display_data"
    }
   ],
   "source": [
    "plt.imshow(xTrain[0], cmap='Greys')\n",
    "plt.show()"
   ]
  },
  {
   "cell_type": "code",
   "execution_count": 15,
   "metadata": {
    "scrolled": true
   },
   "outputs": [
    {
     "name": "stdout",
     "output_type": "stream",
     "text": [
      "0\t0\t0\t0\t0\t0\t0\t0\t0\t0\t0\t0\t0\t0\t0\t0\t0\t0\t0\t0\t0\t0\t0\t0\t0\t0\t0\t0\t\n",
      "0\t0\t0\t0\t0\t0\t0\t0\t0\t0\t0\t0\t0\t0\t0\t0\t0\t0\t0\t0\t0\t0\t0\t0\t0\t0\t0\t0\t\n",
      "0\t0\t0\t0\t0\t0\t0\t0\t0\t0\t0\t0\t0\t0\t0\t0\t0\t0\t0\t0\t0\t0\t0\t0\t0\t0\t0\t0\t\n",
      "0\t0\t0\t0\t0\t0\t0\t0\t0\t0\t0\t0\t0\t0\t0\t0\t0\t0\t0\t0\t0\t0\t0\t0\t0\t0\t0\t0\t\n",
      "0\t0\t0\t0\t0\t0\t0\t0\t0\t0\t0\t0\t0\t0\t0\t0\t0\t0\t0\t0\t0\t0\t0\t0\t0\t0\t0\t0\t\n",
      "0\t0\t0\t0\t0\t0\t0\t0\t0\t0\t0\t0\t3\t18\t18\t18\t126\t136\t175\t26\t166\t255\t247\t127\t0\t0\t0\t0\t\n",
      "0\t0\t0\t0\t0\t0\t0\t0\t30\t36\t94\t154\t170\t253\t253\t253\t253\t253\t225\t172\t253\t242\t195\t64\t0\t0\t0\t0\t\n",
      "0\t0\t0\t0\t0\t0\t0\t49\t238\t253\t253\t253\t253\t253\t253\t253\t253\t251\t93\t82\t82\t56\t39\t0\t0\t0\t0\t0\t\n",
      "0\t0\t0\t0\t0\t0\t0\t18\t219\t253\t253\t253\t253\t253\t198\t182\t247\t241\t0\t0\t0\t0\t0\t0\t0\t0\t0\t0\t\n",
      "0\t0\t0\t0\t0\t0\t0\t0\t80\t156\t107\t253\t253\t205\t11\t0\t43\t154\t0\t0\t0\t0\t0\t0\t0\t0\t0\t0\t\n",
      "0\t0\t0\t0\t0\t0\t0\t0\t0\t14\t1\t154\t253\t90\t0\t0\t0\t0\t0\t0\t0\t0\t0\t0\t0\t0\t0\t0\t\n",
      "0\t0\t0\t0\t0\t0\t0\t0\t0\t0\t0\t139\t253\t190\t2\t0\t0\t0\t0\t0\t0\t0\t0\t0\t0\t0\t0\t0\t\n",
      "0\t0\t0\t0\t0\t0\t0\t0\t0\t0\t0\t11\t190\t253\t70\t0\t0\t0\t0\t0\t0\t0\t0\t0\t0\t0\t0\t0\t\n",
      "0\t0\t0\t0\t0\t0\t0\t0\t0\t0\t0\t0\t35\t241\t225\t160\t108\t1\t0\t0\t0\t0\t0\t0\t0\t0\t0\t0\t\n",
      "0\t0\t0\t0\t0\t0\t0\t0\t0\t0\t0\t0\t0\t81\t240\t253\t253\t119\t25\t0\t0\t0\t0\t0\t0\t0\t0\t0\t\n",
      "0\t0\t0\t0\t0\t0\t0\t0\t0\t0\t0\t0\t0\t0\t45\t186\t253\t253\t150\t27\t0\t0\t0\t0\t0\t0\t0\t0\t\n",
      "0\t0\t0\t0\t0\t0\t0\t0\t0\t0\t0\t0\t0\t0\t0\t16\t93\t252\t253\t187\t0\t0\t0\t0\t0\t0\t0\t0\t\n",
      "0\t0\t0\t0\t0\t0\t0\t0\t0\t0\t0\t0\t0\t0\t0\t0\t0\t249\t253\t249\t64\t0\t0\t0\t0\t0\t0\t0\t\n",
      "0\t0\t0\t0\t0\t0\t0\t0\t0\t0\t0\t0\t0\t0\t46\t130\t183\t253\t253\t207\t2\t0\t0\t0\t0\t0\t0\t0\t\n",
      "0\t0\t0\t0\t0\t0\t0\t0\t0\t0\t0\t0\t39\t148\t229\t253\t253\t253\t250\t182\t0\t0\t0\t0\t0\t0\t0\t0\t\n",
      "0\t0\t0\t0\t0\t0\t0\t0\t0\t0\t24\t114\t221\t253\t253\t253\t253\t201\t78\t0\t0\t0\t0\t0\t0\t0\t0\t0\t\n",
      "0\t0\t0\t0\t0\t0\t0\t0\t23\t66\t213\t253\t253\t253\t253\t198\t81\t2\t0\t0\t0\t0\t0\t0\t0\t0\t0\t0\t\n",
      "0\t0\t0\t0\t0\t0\t18\t171\t219\t253\t253\t253\t253\t195\t80\t9\t0\t0\t0\t0\t0\t0\t0\t0\t0\t0\t0\t0\t\n",
      "0\t0\t0\t0\t55\t172\t226\t253\t253\t253\t253\t244\t133\t11\t0\t0\t0\t0\t0\t0\t0\t0\t0\t0\t0\t0\t0\t0\t\n",
      "0\t0\t0\t0\t136\t253\t253\t253\t212\t135\t132\t16\t0\t0\t0\t0\t0\t0\t0\t0\t0\t0\t0\t0\t0\t0\t0\t0\t\n",
      "0\t0\t0\t0\t0\t0\t0\t0\t0\t0\t0\t0\t0\t0\t0\t0\t0\t0\t0\t0\t0\t0\t0\t0\t0\t0\t0\t0\t\n",
      "0\t0\t0\t0\t0\t0\t0\t0\t0\t0\t0\t0\t0\t0\t0\t0\t0\t0\t0\t0\t0\t0\t0\t0\t0\t0\t0\t0\t\n",
      "0\t0\t0\t0\t0\t0\t0\t0\t0\t0\t0\t0\t0\t0\t0\t0\t0\t0\t0\t0\t0\t0\t0\t0\t0\t0\t0\t0\t\n"
     ]
    }
   ],
   "source": [
    "for x in xTrain[0] :\n",
    "    for i in x :\n",
    "        sys.stdout.write('%d\\t' %i)\n",
    "    sys.stdout.write('\\n')"
   ]
  },
  {
   "cell_type": "code",
   "execution_count": 26,
   "metadata": {},
   "outputs": [],
   "source": [
    "# shape를 None, 28*28로 바꾸기 \n",
    "xTrain = xTrain.reshape(xTrain.shape[0], xTrain.shape[1]*xTrain.shape[2])\n",
    "xTrain = xTrain.astype('float64')  # float32보다 더 정교한 버전\n",
    "xTrain = xTrain / 255\n",
    "# 한 줄로 작성\n",
    "xTest = xTest.reshape(xTest.shape[0], xTest.shape[1]*xTest.shape[2]).astype('float64')/ 255"
   ]
  },
  {
   "cell_type": "code",
   "execution_count": 93,
   "metadata": {},
   "outputs": [],
   "source": [
    "# label 원핫인코딩\n",
    "yTrain = np_utils.to_categorical(yTrain, 10)\n",
    "yTest = np_utils.to_categorical(yTest, 10)\n",
    "\n",
    "# yTrain[0]\n",
    "# array([0., 0., 0., 0., 0., 1., 0., 0., 0., 0.], dtype=float32)"
   ]
  },
  {
   "cell_type": "code",
   "execution_count": 37,
   "metadata": {},
   "outputs": [],
   "source": [
    "\n",
    "from keras.models import Sequential\n",
    "from keras.layers import Dense, Activation\n",
    "\n",
    "from keras.callbacks import ModelCheckpoint, EarlyStopping\n",
    "\n",
    "import os\n",
    "\n",
    "import warnings\n",
    "warnings.filterwarnings('ignore')"
   ]
  },
  {
   "cell_type": "code",
   "execution_count": 69,
   "metadata": {},
   "outputs": [],
   "source": [
    "# 모델 구성\n",
    "model = Sequential()\n",
    "\n",
    "model.add(Dense(512 ,activation='relu', input_dim=784))\n",
    "model.add(Dense(10 ,activation='softmax'))"
   ]
  },
  {
   "cell_type": "code",
   "execution_count": 70,
   "metadata": {},
   "outputs": [],
   "source": [
    "# 모델 환결 설정\n",
    "model.compile(loss='categorical_crossentropy', optimizer='adam' ,metrics=['accuracy'] )"
   ]
  },
  {
   "cell_type": "code",
   "execution_count": 71,
   "metadata": {},
   "outputs": [],
   "source": [
    "# Early Stopping\n",
    "# 모델 최적화\n",
    "modelDir = './myModel/'\n",
    "\n",
    "# 만약 myModel 디렉토리가 존재하지 않는다면\n",
    "if not os.path.exists(modelDir) :\n",
    "    os.mkdir(modelDir)\n",
    "    modelPath = './myModel/{epoch:02d}-{val_loss:.4f}.hdf5'\n",
    "\n",
    "# callback함수 : keras함수에서 모델을 학습할 때 중간중간에 monitor에 정한 상황에 닥치면 자동으로 호출됨\n",
    "# verbose:중간중간 진행 상황을 볼 것인가 ? / save_best_only : 모델 성능이 최고일 때만 저장하겠냐?\n",
    "checkpointer = ModelCheckpoint(filepath=modelPath, monitor='val_loss', verbose=1, save_best_only=True)\n",
    "\n",
    "es = EarlyStopping(monitor='val_loss', patience=10)"
   ]
  },
  {
   "cell_type": "code",
   "execution_count": 72,
   "metadata": {
    "scrolled": true
   },
   "outputs": [
    {
     "name": "stdout",
     "output_type": "stream",
     "text": [
      "Train on 60000 samples, validate on 10000 samples\n",
      "Epoch 1/30\n",
      "60000/60000 [==============================] - 3s 54us/step - loss: 0.3078 - accuracy: 0.9128 - val_loss: 0.1589 - val_accuracy: 0.9547\n",
      "\n",
      "Epoch 00001: val_loss improved from inf to 0.15895, saving model to ./myModel/01-0.1589.hdf5\n",
      "Epoch 2/30\n",
      "60000/60000 [==============================] - 3s 51us/step - loss: 0.1255 - accuracy: 0.9643 - val_loss: 0.1158 - val_accuracy: 0.9655\n",
      "\n",
      "Epoch 00002: val_loss improved from 0.15895 to 0.11581, saving model to ./myModel/02-0.1158.hdf5\n",
      "Epoch 3/30\n",
      "60000/60000 [==============================] - 3s 50us/step - loss: 0.0847 - accuracy: 0.9754 - val_loss: 0.0944 - val_accuracy: 0.9711\n",
      "\n",
      "Epoch 00003: val_loss improved from 0.11581 to 0.09439, saving model to ./myModel/03-0.0944.hdf5\n",
      "Epoch 4/30\n",
      "60000/60000 [==============================] - 3s 50us/step - loss: 0.0616 - accuracy: 0.9822 - val_loss: 0.0735 - val_accuracy: 0.9776\n",
      "\n",
      "Epoch 00004: val_loss improved from 0.09439 to 0.07349, saving model to ./myModel/04-0.0735.hdf5\n",
      "Epoch 5/30\n",
      "60000/60000 [==============================] - 3s 50us/step - loss: 0.0464 - accuracy: 0.9869 - val_loss: 0.0706 - val_accuracy: 0.9777\n",
      "\n",
      "Epoch 00005: val_loss improved from 0.07349 to 0.07062, saving model to ./myModel/05-0.0706.hdf5\n",
      "Epoch 6/30\n",
      "60000/60000 [==============================] - 3s 50us/step - loss: 0.0355 - accuracy: 0.9901 - val_loss: 0.0639 - val_accuracy: 0.9790\n",
      "\n",
      "Epoch 00006: val_loss improved from 0.07062 to 0.06389, saving model to ./myModel/06-0.0639.hdf5\n",
      "Epoch 7/30\n",
      "60000/60000 [==============================] - 3s 50us/step - loss: 0.0264 - accuracy: 0.9933 - val_loss: 0.0610 - val_accuracy: 0.9804\n",
      "\n",
      "Epoch 00007: val_loss improved from 0.06389 to 0.06098, saving model to ./myModel/07-0.0610.hdf5\n",
      "Epoch 8/30\n",
      "60000/60000 [==============================] - 3s 49us/step - loss: 0.0211 - accuracy: 0.9947 - val_loss: 0.0626 - val_accuracy: 0.9802\n",
      "\n",
      "Epoch 00008: val_loss did not improve from 0.06098\n",
      "Epoch 9/30\n",
      "60000/60000 [==============================] - 3s 50us/step - loss: 0.0159 - accuracy: 0.9965 - val_loss: 0.0618 - val_accuracy: 0.9801\n",
      "\n",
      "Epoch 00009: val_loss did not improve from 0.06098\n",
      "Epoch 10/30\n",
      "60000/60000 [==============================] - 3s 49us/step - loss: 0.0124 - accuracy: 0.9975 - val_loss: 0.0568 - val_accuracy: 0.9825\n",
      "\n",
      "Epoch 00010: val_loss improved from 0.06098 to 0.05678, saving model to ./myModel/10-0.0568.hdf5\n",
      "Epoch 11/30\n",
      "60000/60000 [==============================] - 3s 50us/step - loss: 0.0100 - accuracy: 0.9980 - val_loss: 0.0621 - val_accuracy: 0.9813\n",
      "\n",
      "Epoch 00011: val_loss did not improve from 0.05678\n",
      "Epoch 12/30\n",
      "60000/60000 [==============================] - 3s 49us/step - loss: 0.0084 - accuracy: 0.9984 - val_loss: 0.0596 - val_accuracy: 0.9818\n",
      "\n",
      "Epoch 00012: val_loss did not improve from 0.05678\n",
      "Epoch 13/30\n",
      "60000/60000 [==============================] - 3s 50us/step - loss: 0.0056 - accuracy: 0.9991 - val_loss: 0.0652 - val_accuracy: 0.9808\n",
      "\n",
      "Epoch 00013: val_loss did not improve from 0.05678\n",
      "Epoch 14/30\n",
      "60000/60000 [==============================] - 3s 51us/step - loss: 0.0043 - accuracy: 0.9995 - val_loss: 0.0676 - val_accuracy: 0.9812\n",
      "\n",
      "Epoch 00014: val_loss did not improve from 0.05678\n",
      "Epoch 15/30\n",
      "60000/60000 [==============================] - 3s 52us/step - loss: 0.0029 - accuracy: 0.9998 - val_loss: 0.0651 - val_accuracy: 0.9822\n",
      "\n",
      "Epoch 00015: val_loss did not improve from 0.05678\n",
      "Epoch 16/30\n",
      "60000/60000 [==============================] - 3s 50us/step - loss: 0.0021 - accuracy: 0.9999 - val_loss: 0.0634 - val_accuracy: 0.9821\n",
      "\n",
      "Epoch 00016: val_loss did not improve from 0.05678\n",
      "Epoch 17/30\n",
      "60000/60000 [==============================] - 3s 51us/step - loss: 0.0019 - accuracy: 0.9999 - val_loss: 0.0669 - val_accuracy: 0.9811\n",
      "\n",
      "Epoch 00017: val_loss did not improve from 0.05678\n",
      "Epoch 18/30\n",
      "60000/60000 [==============================] - 3s 50us/step - loss: 0.0033 - accuracy: 0.9994 - val_loss: 0.0734 - val_accuracy: 0.9796\n",
      "\n",
      "Epoch 00018: val_loss did not improve from 0.05678\n",
      "Epoch 19/30\n",
      "60000/60000 [==============================] - 3s 52us/step - loss: 0.0149 - accuracy: 0.9952 - val_loss: 0.0771 - val_accuracy: 0.9792\n",
      "\n",
      "Epoch 00019: val_loss did not improve from 0.05678\n",
      "Epoch 20/30\n",
      "60000/60000 [==============================] - 3s 54us/step - loss: 0.0075 - accuracy: 0.9978 - val_loss: 0.0724 - val_accuracy: 0.9805\n",
      "\n",
      "Epoch 00020: val_loss did not improve from 0.05678\n"
     ]
    }
   ],
   "source": [
    "# 모델 학습\n",
    "history = model.fit(xTrain, yTrain, validation_data=(xTest, yTest), epochs=30, batch_size=200, callbacks=[es, checkpointer])"
   ]
  },
  {
   "cell_type": "code",
   "execution_count": 73,
   "metadata": {},
   "outputs": [
    {
     "name": "stdout",
     "output_type": "stream",
     "text": [
      "10000/10000 [==============================] - 1s 51us/step\n",
      "테스트 정확도 0.9805\n"
     ]
    }
   ],
   "source": [
    "print('테스트 정확도 %.4f'%(model.evaluate(xTest, yTest)[1]))"
   ]
  },
  {
   "cell_type": "code",
   "execution_count": 74,
   "metadata": {},
   "outputs": [],
   "source": [
    "# 테스트셋의 오차\n",
    "yVloss = history.history['val_loss']\n",
    "# 학습셋의 오차\n",
    "yLoss = history.history['loss']"
   ]
  },
  {
   "cell_type": "code",
   "execution_count": 75,
   "metadata": {},
   "outputs": [
    {
     "data": {
      "image/png": "[encoded data removed]",
      "text/plain": [
       "<Figure size 432x288 with 1 Axes>"
      ]
     },
     "metadata": {
      "needs_background": "light"
     },
     "output_type": "display_data"
    }
   ],
   "source": [
    "xLen = np.arange(len(yLoss))\n",
    "plt.plot(xLen, yVloss, marker='.', c='r', label='testset_loss')\n",
    "plt.plot(xLen, yLoss, marker='.', c='b', label='trainset_loss')\n",
    "plt.legend()\n",
    "plt.grid()\n",
    "plt.xlabel('epoch')\n",
    "plt.ylabel('loss')\n",
    "plt.show()"
   ]
  },
  {
   "cell_type": "markdown",
   "metadata": {},
   "source": [
    "# Conv2D \n",
    ": keras에서 컨볼루션 계층을 추가하는 함수"
   ]
  },
  {
   "cell_type": "markdown",
   "metadata": {},
   "source": [
    "# 드랍아웃 (drop out)\n",
    "오버피팅 감소\n",
    "히든계층의 노드 중 일부를 선택하여 학습하는 기법\n",
    " \n",
    "    : 중간중간 가중치를 제거하면서 학습데이터에 지나치게 치우쳐서 학습되는 과적합을 방지"
   ]
  },
  {
   "cell_type": "code",
   "execution_count": 80,
   "metadata": {},
   "outputs": [],
   "source": [
    "from keras.layers import Conv2D, MaxPooling2D, Dropout, Flatten"
   ]
  },
  {
   "cell_type": "code",
   "execution_count": 89,
   "metadata": {},
   "outputs": [],
   "source": [
    "# CNN으로 모델 구성\n",
    "model = Sequential()\n",
    "\n",
    "# Conv2D(필터 개수, 필터 크기, 입력값(행,열,색상), 활성화함수)\n",
    "model.add(Conv2D(32, kernel_size=(3,3), input_shape=(28,28,1), activation='relu'))\n",
    "model.add(Conv2D(64, (3,3), activation='relu'))\n",
    "\n",
    "# MaxPooling2D(풀링사이즈, )\n",
    "model.add(MaxPooling2D(pool_size=2))\n",
    "\n",
    "# Dropout(드롭아웃비율)\n",
    "model.add(Dropout(0.25))  # 25%\n",
    "\n",
    "# Flatten() : 1차원으로 변경하는 함수\n",
    "model.add(Flatten())\n",
    "\n",
    "model.add(Dense(128 ,activation='relu'))\n",
    "model.add(Dropout(0.5))\n",
    "model.add(Dense(10, activation='softmax'))"
   ]
  },
  {
   "cell_type": "code",
   "execution_count": 90,
   "metadata": {},
   "outputs": [],
   "source": [
    "# 모델 환결 설정\n",
    "model.compile(loss='categorical_crossentropy', optimizer='adam' ,metrics=['accuracy'] )"
   ]
  },
  {
   "cell_type": "code",
   "execution_count": 91,
   "metadata": {},
   "outputs": [],
   "source": [
    "# Early Stopping\n",
    "# 모델 최적화\n",
    "modelDir = './myCnnModel/'\n",
    "\n",
    "# 만약 myModel 디렉토리가 존재하지 않는다면\n",
    "if not os.path.exists(modelDir) :\n",
    "    os.mkdir(modelDir)\n",
    "    modelPath = './myModel/{epoch:02d}-{val_loss:.4f}.hdf5'\n",
    "\n",
    "# callback함수 : keras함수에서 모델을 학습할 때 중간중간에 monitor에 정한 상황에 닥치면 자동으로 호출됨\n",
    "# verbose:중간중간 진행 상황을 볼 것인가 ? / save_best_only : 모델 성능이 최고일 때만 저장하겠냐?\n",
    "checkpointer = ModelCheckpoint(filepath=modelPath, monitor='val_loss', verbose=1, save_best_only=True)\n",
    "\n",
    "es = EarlyStopping(monitor='val_loss', patience=10)"
   ]
  },
  {
   "cell_type": "code",
   "execution_count": 98,
   "metadata": {},
   "outputs": [],
   "source": [
    "# keras에서 mnist 데이터셋 불러오기\n",
    "(xTrain, yTrain), (xTest, yTest) = mnist.load_data()\n",
    "\n",
    "# 4차원으로 변경\n",
    "xTrain = xTrain.reshape(xTrain.shape[0],28,28,1).astype('float32')/255\n",
    "xTest = xTest.reshape(xTest.shape[0],28,28,1).astype('float32')/255\n",
    "\n",
    "# 원핫인코딩\n",
    "yTrain = np_utils.to_categorical(yTrain)\n",
    "yTest = np_utils.to_categorical(yTest)"
   ]
  },
  {
   "cell_type": "code",
   "execution_count": 99,
   "metadata": {},
   "outputs": [
    {
     "name": "stdout",
     "output_type": "stream",
     "text": [
      "Train on 60000 samples, validate on 10000 samples\n",
      "Epoch 1/30\n",
      "60000/60000 [==============================] - 72s 1ms/step - loss: 0.2869 - accuracy: 0.9117 - val_loss: 0.0653 - val_accuracy: 0.9798\n",
      "\n",
      "Epoch 00001: val_loss improved from inf to 0.06528, saving model to ./myModel/01-0.0653.hdf5\n",
      "Epoch 2/30\n",
      "60000/60000 [==============================] - 72s 1ms/step - loss: 0.0967 - accuracy: 0.9710 - val_loss: 0.0407 - val_accuracy: 0.9860\n",
      "\n",
      "Epoch 00002: val_loss improved from 0.06528 to 0.04066, saving model to ./myModel/02-0.0407.hdf5\n",
      "Epoch 3/30\n",
      "60000/60000 [==============================] - 72s 1ms/step - loss: 0.0705 - accuracy: 0.9782 - val_loss: 0.0377 - val_accuracy: 0.9868\n",
      "\n",
      "Epoch 00003: val_loss improved from 0.04066 to 0.03773, saving model to ./myModel/03-0.0377.hdf5\n",
      "Epoch 4/30\n",
      "60000/60000 [==============================] - 74s 1ms/step - loss: 0.0581 - accuracy: 0.9822 - val_loss: 0.0319 - val_accuracy: 0.9896\n",
      "\n",
      "Epoch 00004: val_loss improved from 0.03773 to 0.03186, saving model to ./myModel/04-0.0319.hdf5\n",
      "Epoch 5/30\n",
      "60000/60000 [==============================] - 72s 1ms/step - loss: 0.0479 - accuracy: 0.9853 - val_loss: 0.0344 - val_accuracy: 0.9889\n",
      "\n",
      "Epoch 00005: val_loss did not improve from 0.03186\n",
      "Epoch 6/30\n",
      "60000/60000 [==============================] - 72s 1ms/step - loss: 0.0430 - accuracy: 0.9865 - val_loss: 0.0296 - val_accuracy: 0.9894\n",
      "\n",
      "Epoch 00006: val_loss improved from 0.03186 to 0.02962, saving model to ./myModel/06-0.0296.hdf5\n",
      "Epoch 7/30\n",
      "60000/60000 [==============================] - 71s 1ms/step - loss: 0.0384 - accuracy: 0.9883 - val_loss: 0.0270 - val_accuracy: 0.9911\n",
      "\n",
      "Epoch 00007: val_loss improved from 0.02962 to 0.02695, saving model to ./myModel/07-0.0270.hdf5\n",
      "Epoch 8/30\n",
      "60000/60000 [==============================] - 71s 1ms/step - loss: 0.0344 - accuracy: 0.9890 - val_loss: 0.0270 - val_accuracy: 0.9914\n",
      "\n",
      "Epoch 00008: val_loss did not improve from 0.02695\n",
      "Epoch 9/30\n",
      "60000/60000 [==============================] - 70s 1ms/step - loss: 0.0325 - accuracy: 0.9898 - val_loss: 0.0276 - val_accuracy: 0.9915\n",
      "\n",
      "Epoch 00009: val_loss did not improve from 0.02695\n",
      "Epoch 10/30\n",
      "60000/60000 [==============================] - 73s 1ms/step - loss: 0.0317 - accuracy: 0.9901 - val_loss: 0.0233 - val_accuracy: 0.9929\n",
      "\n",
      "Epoch 00010: val_loss improved from 0.02695 to 0.02334, saving model to ./myModel/10-0.0233.hdf5\n",
      "Epoch 11/30\n",
      "60000/60000 [==============================] - 83s 1ms/step - loss: 0.0262 - accuracy: 0.9915 - val_loss: 0.0274 - val_accuracy: 0.9922\n",
      "\n",
      "Epoch 00011: val_loss did not improve from 0.02334\n",
      "Epoch 12/30\n",
      "60000/60000 [==============================] - 78s 1ms/step - loss: 0.0242 - accuracy: 0.9923 - val_loss: 0.0292 - val_accuracy: 0.9911\n",
      "\n",
      "Epoch 00012: val_loss did not improve from 0.02334\n",
      "Epoch 13/30\n",
      "60000/60000 [==============================] - 71s 1ms/step - loss: 0.0238 - accuracy: 0.9923 - val_loss: 0.0260 - val_accuracy: 0.9921\n",
      "\n",
      "Epoch 00013: val_loss did not improve from 0.02334\n",
      "Epoch 14/30\n",
      "60000/60000 [==============================] - 69s 1ms/step - loss: 0.0219 - accuracy: 0.9931 - val_loss: 0.0271 - val_accuracy: 0.9921\n",
      "\n",
      "Epoch 00014: val_loss did not improve from 0.02334\n",
      "Epoch 15/30\n",
      "60000/60000 [==============================] - 69s 1ms/step - loss: 0.0192 - accuracy: 0.9936 - val_loss: 0.0282 - val_accuracy: 0.9931\n",
      "\n",
      "Epoch 00015: val_loss did not improve from 0.02334\n",
      "Epoch 16/30\n",
      "60000/60000 [==============================] - 77s 1ms/step - loss: 0.0187 - accuracy: 0.9937 - val_loss: 0.0275 - val_accuracy: 0.9932\n",
      "\n",
      "Epoch 00016: val_loss did not improve from 0.02334\n",
      "Epoch 17/30\n",
      "60000/60000 [==============================] - 76s 1ms/step - loss: 0.0181 - accuracy: 0.9939 - val_loss: 0.0284 - val_accuracy: 0.9927\n",
      "\n",
      "Epoch 00017: val_loss did not improve from 0.02334\n",
      "Epoch 18/30\n",
      "60000/60000 [==============================] - 76s 1ms/step - loss: 0.0185 - accuracy: 0.9940 - val_loss: 0.0278 - val_accuracy: 0.9927\n",
      "\n",
      "Epoch 00018: val_loss did not improve from 0.02334\n",
      "Epoch 19/30\n",
      "60000/60000 [==============================] - 73s 1ms/step - loss: 0.0157 - accuracy: 0.9947 - val_loss: 0.0254 - val_accuracy: 0.9935\n",
      "\n",
      "Epoch 00019: val_loss did not improve from 0.02334\n",
      "Epoch 20/30\n",
      "60000/60000 [==============================] - 73s 1ms/step - loss: 0.0147 - accuracy: 0.9947 - val_loss: 0.0275 - val_accuracy: 0.9928\n",
      "\n",
      "Epoch 00020: val_loss did not improve from 0.02334\n"
     ]
    }
   ],
   "source": [
    "# 모델 학습\n",
    "history = model.fit(xTrain, yTrain, validation_data=(xTest, yTest), epochs=30, batch_size=200, callbacks=[es, checkpointer])"
   ]
  },
  {
   "cell_type": "code",
   "execution_count": null,
   "metadata": {},
   "outputs": [],
   "source": [
    "# from keras.models import load_model\n",
    "# model = load_model('모델파일명.hdf5')\n",
    "# model.summary\n",
    "\n",
    "# 분류결과 = model.predict_classes(테스트 데이터)"
   ]
  },
  {
   "cell_type": "code",
   "execution_count": null,
   "metadata": {},
   "outputs": [],
   "source": [
    "# 예측이 틀린 이미지를 8개 출력\n",
    "label : 9, pred : 4   ...   label : 1, pred : 7\n",
    "    9이미지                       1이미지\n",
    "label : 9, pred : 4   ...   label : 1, pred : 7\n",
    "    9이미지                       1이미지\n",
    "# 2*4 형태로 틀린 예측 결과 출력"
   ]
  },
  {
   "cell_type": "code",
   "execution_count": 100,
   "metadata": {},
   "outputs": [
    {
     "name": "stdout",
     "output_type": "stream",
     "text": [
      "10000/10000 [==============================] - 3s 301us/step\n"
     ]
    },
    {
     "data": {
      "text/plain": [
       "[0.02749941685355835, 0.9927999973297119]"
      ]
     },
     "execution_count": 100,
     "metadata": {},
     "output_type": "execute_result"
    }
   ],
   "source": [
    "model.evaluate(xTest,yTest)"
   ]
  },
  {
   "cell_type": "code",
   "execution_count": 104,
   "metadata": {},
   "outputs": [],
   "source": [
    "xPred = model.predict_classes(xTest)"
   ]
  },
  {
   "cell_type": "code",
   "execution_count": 108,
   "metadata": {},
   "outputs": [
    {
     "data": {
      "text/plain": [
       "(10000,)"
      ]
     },
     "execution_count": 108,
     "metadata": {},
     "output_type": "execute_result"
    }
   ],
   "source": [
    "xPred.shape"
   ]
  },
  {
   "cell_type": "code",
   "execution_count": 116,
   "metadata": {},
   "outputs": [],
   "source": [
    "with tf.Session() as sess :\n",
    "    label = sess.run(tf.argmax(yTest,1))"
   ]
  },
  {
   "cell_type": "code",
   "execution_count": 119,
   "metadata": {},
   "outputs": [
    {
     "data": {
      "text/html": [
       "<div>\n",
       "<style scoped>\n",
       "    .dataframe tbody tr th:only-of-type {\n",
       "        vertical-align: middle;\n",
       "    }\n",
       "\n",
       "    .dataframe tbody tr th {\n",
       "        vertical-align: top;\n",
       "    }\n",
       "\n",
       "    .dataframe thead th {\n",
       "        text-align: right;\n",
       "    }\n",
       "</style>\n",
       "<table border=\"1\" class=\"dataframe\">\n",
       "  <thead>\n",
       "    <tr style=\"text-align: right;\">\n",
       "      <th></th>\n",
       "      <th>pred</th>\n",
       "      <th>label</th>\n",
       "    </tr>\n",
       "  </thead>\n",
       "  <tbody>\n",
       "    <tr>\n",
       "      <td>0</td>\n",
       "      <td>7</td>\n",
       "      <td>7</td>\n",
       "    </tr>\n",
       "    <tr>\n",
       "      <td>1</td>\n",
       "      <td>2</td>\n",
       "      <td>2</td>\n",
       "    </tr>\n",
       "    <tr>\n",
       "      <td>2</td>\n",
       "      <td>1</td>\n",
       "      <td>1</td>\n",
       "    </tr>\n",
       "    <tr>\n",
       "      <td>3</td>\n",
       "      <td>0</td>\n",
       "      <td>0</td>\n",
       "    </tr>\n",
       "    <tr>\n",
       "      <td>4</td>\n",
       "      <td>4</td>\n",
       "      <td>4</td>\n",
       "    </tr>\n",
       "    <tr>\n",
       "      <td>...</td>\n",
       "      <td>...</td>\n",
       "      <td>...</td>\n",
       "    </tr>\n",
       "    <tr>\n",
       "      <td>9995</td>\n",
       "      <td>2</td>\n",
       "      <td>2</td>\n",
       "    </tr>\n",
       "    <tr>\n",
       "      <td>9996</td>\n",
       "      <td>3</td>\n",
       "      <td>3</td>\n",
       "    </tr>\n",
       "    <tr>\n",
       "      <td>9997</td>\n",
       "      <td>4</td>\n",
       "      <td>4</td>\n",
       "    </tr>\n",
       "    <tr>\n",
       "      <td>9998</td>\n",
       "      <td>5</td>\n",
       "      <td>5</td>\n",
       "    </tr>\n",
       "    <tr>\n",
       "      <td>9999</td>\n",
       "      <td>6</td>\n",
       "      <td>6</td>\n",
       "    </tr>\n",
       "  </tbody>\n",
       "</table>\n",
       "<p>10000 rows × 2 columns</p>\n",
       "</div>"
      ],
      "text/plain": [
       "      pred  label\n",
       "0        7      7\n",
       "1        2      2\n",
       "2        1      1\n",
       "3        0      0\n",
       "4        4      4\n",
       "...    ...    ...\n",
       "9995     2      2\n",
       "9996     3      3\n",
       "9997     4      4\n",
       "9998     5      5\n",
       "9999     6      6\n",
       "\n",
       "[10000 rows x 2 columns]"
      ]
     },
     "execution_count": 119,
     "metadata": {},
     "output_type": "execute_result"
    }
   ],
   "source": [
    "import pandas as pd\n",
    "res = pd.DataFrame({'pred':xPred, 'label':label}, index=range(len(xPred)))\n",
    "res"
   ]
  },
  {
   "cell_type": "code",
   "execution_count": 123,
   "metadata": {},
   "outputs": [
    {
     "data": {
      "text/html": [
       "<div>\n",
       "<style scoped>\n",
       "    .dataframe tbody tr th:only-of-type {\n",
       "        vertical-align: middle;\n",
       "    }\n",
       "\n",
       "    .dataframe tbody tr th {\n",
       "        vertical-align: top;\n",
       "    }\n",
       "\n",
       "    .dataframe thead th {\n",
       "        text-align: right;\n",
       "    }\n",
       "</style>\n",
       "<table border=\"1\" class=\"dataframe\">\n",
       "  <thead>\n",
       "    <tr style=\"text-align: right;\">\n",
       "      <th></th>\n",
       "      <th>pred</th>\n",
       "      <th>label</th>\n",
       "    </tr>\n",
       "  </thead>\n",
       "  <tbody>\n",
       "    <tr>\n",
       "      <td>115</td>\n",
       "      <td>9</td>\n",
       "      <td>4</td>\n",
       "    </tr>\n",
       "    <tr>\n",
       "      <td>247</td>\n",
       "      <td>2</td>\n",
       "      <td>4</td>\n",
       "    </tr>\n",
       "    <tr>\n",
       "      <td>321</td>\n",
       "      <td>7</td>\n",
       "      <td>2</td>\n",
       "    </tr>\n",
       "    <tr>\n",
       "      <td>340</td>\n",
       "      <td>3</td>\n",
       "      <td>5</td>\n",
       "    </tr>\n",
       "    <tr>\n",
       "      <td>449</td>\n",
       "      <td>5</td>\n",
       "      <td>3</td>\n",
       "    </tr>\n",
       "    <tr>\n",
       "      <td>...</td>\n",
       "      <td>...</td>\n",
       "      <td>...</td>\n",
       "    </tr>\n",
       "    <tr>\n",
       "      <td>9019</td>\n",
       "      <td>2</td>\n",
       "      <td>7</td>\n",
       "    </tr>\n",
       "    <tr>\n",
       "      <td>9664</td>\n",
       "      <td>7</td>\n",
       "      <td>2</td>\n",
       "    </tr>\n",
       "    <tr>\n",
       "      <td>9692</td>\n",
       "      <td>7</td>\n",
       "      <td>9</td>\n",
       "    </tr>\n",
       "    <tr>\n",
       "      <td>9729</td>\n",
       "      <td>6</td>\n",
       "      <td>5</td>\n",
       "    </tr>\n",
       "    <tr>\n",
       "      <td>9839</td>\n",
       "      <td>7</td>\n",
       "      <td>2</td>\n",
       "    </tr>\n",
       "  </tbody>\n",
       "</table>\n",
       "<p>72 rows × 2 columns</p>\n",
       "</div>"
      ],
      "text/plain": [
       "      pred  label\n",
       "115      9      4\n",
       "247      2      4\n",
       "321      7      2\n",
       "340      3      5\n",
       "449      5      3\n",
       "...    ...    ...\n",
       "9019     2      7\n",
       "9664     7      2\n",
       "9692     7      9\n",
       "9729     6      5\n",
       "9839     7      2\n",
       "\n",
       "[72 rows x 2 columns]"
      ]
     },
     "execution_count": 123,
     "metadata": {},
     "output_type": "execute_result"
    }
   ],
   "source": [
    "# 예측이 틀린 것만 저장\n",
    "res = res[res['pred'] != res['label']]\n",
    "res"
   ]
  },
  {
   "cell_type": "code",
   "execution_count": 125,
   "metadata": {},
   "outputs": [
    {
     "data": {
      "image/png": "[encoded data removed]",
      "text/plain": [
       "<Figure size 864x432 with 1 Axes>"
      ]
     },
     "metadata": {
      "needs_background": "light"
     },
     "output_type": "display_data"
    }
   ],
   "source": [
    "plt.figure(figsize=(12,6))\n",
    "plt.hist(res['pred'], bins=10)\n",
    "plt.xlabel('fault prediction')\n",
    "plt.xticks(range(10))\n",
    "plt.grid()\n",
    "plt.show()"
   ]
  },
  {
   "cell_type": "code",
   "execution_count": 127,
   "metadata": {},
   "outputs": [
    {
     "data": {
      "text/plain": [
       "Int64Index([1901, 2293, 1709, 4078, 2129, 6560, 1247, 2414], dtype='int64')"
      ]
     },
     "execution_count": 127,
     "metadata": {},
     "output_type": "execute_result"
    }
   ],
   "source": [
    "ver = res.query('label==9').sample(n=8).index\n",
    "ver"
   ]
  },
  {
   "cell_type": "code",
   "execution_count": 137,
   "metadata": {},
   "outputs": [
    {
     "data": {
      "image/png": "[encoded data removed]",
      "text/plain": [
       "<Figure size 432x288 with 8 Axes>"
      ]
     },
     "metadata": {
      "needs_background": "light"
     },
     "output_type": "display_data"
    },
    {
     "data": {
      "text/plain": [
       "<Figure size 1080x576 with 0 Axes>"
      ]
     },
     "metadata": {},
     "output_type": "display_data"
    }
   ],
   "source": [
    "cnt = 0\n",
    "for n in ver :\n",
    "    cnt += 1\n",
    "    plt.subplot(4, 4, cnt)\n",
    "    plt.imshow(xTest[n].reshape(28,28), cmap='Greys')\n",
    "    t = 'label:'+str(res['label'][n]) + 'pred :'+str(res['pred'][n])\n",
    "    plt.title(t)\n",
    "\n",
    "\n",
    "plt.tight_layout()\n",
    "plt.figure(figsize=(15,8))\n",
    "plt.show()"
   ]
  },
  {
   "cell_type": "code",
   "execution_count": null,
   "metadata": {},
   "outputs": [],
   "source": []
  },
  {
   "cell_type": "markdown",
   "metadata": {},
   "source": [
    "# 이터레이터 / 제너레이터"
   ]
  },
  {
   "cell_type": "code",
   "execution_count": 144,
   "metadata": {},
   "outputs": [
    {
     "data": {
      "text/plain": [
       "2"
      ]
     },
     "execution_count": 144,
     "metadata": {},
     "output_type": "execute_result"
    }
   ],
   "source": [
    "dir([1,2,3])\n",
    "\n",
    "it = [1,2,3].__iter__()\n",
    "it.__next__()\n",
    "it.__next__()"
   ]
  },
  {
   "cell_type": "code",
   "execution_count": 146,
   "metadata": {},
   "outputs": [
    {
     "data": {
      "text/plain": [
       "<range_iterator at 0x21a57bec150>"
      ]
     },
     "execution_count": 146,
     "metadata": {},
     "output_type": "execute_result"
    }
   ],
   "source": [
    "range(3).__iter__()"
   ]
  },
  {
   "cell_type": "code",
   "execution_count": 147,
   "metadata": {},
   "outputs": [
    {
     "name": "stdout",
     "output_type": "stream",
     "text": [
      "0\n",
      "1\n",
      "2\n"
     ]
    }
   ],
   "source": [
    "for i in range(3) :\n",
    "    print(i)\n",
    "    \n",
    "# 1. range에서 __iter__로 이터레이터 객체 생성\n",
    "# 2. 반복할 때마다 이터레이터에서 __next__를 호출해서 숫자를 꺼내고 i에 저장"
   ]
  },
  {
   "cell_type": "code",
   "execution_count": 166,
   "metadata": {},
   "outputs": [],
   "source": [
    "class MyCounter :\n",
    "    def __getitem__(self, index) :\n",
    "        if index < self.stop :\n",
    "            return index\n",
    "        else :\n",
    "            raise StopIteration\n",
    "    \n",
    "    def __init__(self, stop):\n",
    "        self.current = 0\n",
    "        self.stop = stop\n",
    "    \n",
    "#     def __iter__(self) :\n",
    "#         return self\n",
    "    \n",
    "#     def __next__(self) :\n",
    "#         if self.current < self.stop :\n",
    "#             r = self.current\n",
    "#             self.current += 1\n",
    "#             return r\n",
    "#         else :\n",
    "#             raise StopIteration\n",
    "\n",
    "# a,b,c = MyCounter(3)\n",
    "# print(a,b,c)"
   ]
  },
  {
   "cell_type": "code",
   "execution_count": 169,
   "metadata": {},
   "outputs": [
    {
     "name": "stdout",
     "output_type": "stream",
     "text": [
      "0\n",
      "1\n",
      "2\n"
     ]
    }
   ],
   "source": [
    "for i in MyCounter(3) :\n",
    "    print(i)"
   ]
  },
  {
   "cell_type": "code",
   "execution_count": 188,
   "metadata": {},
   "outputs": [],
   "source": [
    "# 파이썬 iter함수 : 객체의 __iter__메서드를 호출\n",
    "# 파이썬 next함수 : 객체의 __next__메서드를 호출\n",
    "it = iter(range(3))\n"
   ]
  },
  {
   "cell_type": "code",
   "execution_count": 189,
   "metadata": {},
   "outputs": [],
   "source": [
    "import random"
   ]
  },
  {
   "cell_type": "code",
   "execution_count": 228,
   "metadata": {},
   "outputs": [
    {
     "data": {
      "text/plain": [
       "0"
      ]
     },
     "execution_count": 228,
     "metadata": {},
     "output_type": "execute_result"
    }
   ],
   "source": [
    "it = iter(lambda : random.randint(0,5), 2)\n",
    "next(it)\n",
    "next(it)\n",
    "next(it)\n",
    "next(it)\n",
    "next(it)\n"
   ]
  },
  {
   "cell_type": "code",
   "execution_count": 234,
   "metadata": {},
   "outputs": [],
   "source": [
    "# 제너레이터 : 이터레이터를 생성하는 함수\n",
    "# 함수 내부에 yield 키워드를 주면 이터레이터 생성됨\n",
    "def myGen() :\n",
    "    yield 0\n",
    "    yield 1\n",
    "    yield 2"
   ]
  },
  {
   "cell_type": "code",
   "execution_count": 235,
   "metadata": {},
   "outputs": [
    {
     "name": "stdout",
     "output_type": "stream",
     "text": [
      "0\n",
      "1\n",
      "2\n"
     ]
    }
   ],
   "source": [
    "for i in myGen():\n",
    "    print(i)"
   ]
  },
  {
   "cell_type": "code",
   "execution_count": 236,
   "metadata": {
    "scrolled": true
   },
   "outputs": [
    {
     "data": {
      "text/plain": [
       "['__class__',\n",
       " '__del__',\n",
       " '__delattr__',\n",
       " '__dir__',\n",
       " '__doc__',\n",
       " '__eq__',\n",
       " '__format__',\n",
       " '__ge__',\n",
       " '__getattribute__',\n",
       " '__gt__',\n",
       " '__hash__',\n",
       " '__init__',\n",
       " '__init_subclass__',\n",
       " '__iter__',\n",
       " '__le__',\n",
       " '__lt__',\n",
       " '__name__',\n",
       " '__ne__',\n",
       " '__new__',\n",
       " '__next__',\n",
       " '__qualname__',\n",
       " '__reduce__',\n",
       " '__reduce_ex__',\n",
       " '__repr__',\n",
       " '__setattr__',\n",
       " '__sizeof__',\n",
       " '__str__',\n",
       " '__subclasshook__',\n",
       " 'close',\n",
       " 'gi_code',\n",
       " 'gi_frame',\n",
       " 'gi_running',\n",
       " 'gi_yieldfrom',\n",
       " 'send',\n",
       " 'throw']"
      ]
     },
     "execution_count": 236,
     "metadata": {},
     "output_type": "execute_result"
    }
   ],
   "source": [
    "mg = myGen()\n",
    "dir(mg)"
   ]
  },
  {
   "cell_type": "markdown",
   "metadata": {},
   "source": [
    "# 이미지 제너레이터\n",
    "1. 이미지 제너레이터 클래스 객체 생성\n",
    "2. flow_from_directory()호출 -> 제너레이터 생성\n",
    "\n",
    "flow_from_directory(directory, target_size=(256, 256), color_mode='rgb', classes=None, class_mode='categorical', batch_size=32, shuffle=True, seed=None, save_to_dir=None, save_prefix='', save_format='png', follow_links=False, subset=None, interpolation='nearest')"
   ]
  },
  {
   "cell_type": "code",
   "execution_count": 273,
   "metadata": {},
   "outputs": [],
   "source": [
    "from keras.preprocessing.image import ImageDataGenerator"
   ]
  },
  {
   "cell_type": "code",
   "execution_count": 274,
   "metadata": {},
   "outputs": [],
   "source": [
    "trainDataGen = ImageDataGenerator(rescale=1./255)"
   ]
  },
  {
   "cell_type": "code",
   "execution_count": 275,
   "metadata": {},
   "outputs": [
    {
     "name": "stdout",
     "output_type": "stream",
     "text": [
      "Found 45 images belonging to 3 classes.\n"
     ]
    }
   ],
   "source": [
    "trainGenerator = trainDataGen.flow_from_directory('./do/train', target_size=(24,24), batch_size=3, class_mode='categorical')"
   ]
  },
  {
   "cell_type": "code",
   "execution_count": 276,
   "metadata": {},
   "outputs": [
    {
     "name": "stdout",
     "output_type": "stream",
     "text": [
      "Found 15 images belonging to 3 classes.\n"
     ]
    }
   ],
   "source": [
    "testDataGen = ImageDataGenerator(rescale=1./255)\n",
    "testGenerator = testDataGen.flow_from_directory('./do/test', target_size=(24,24), batch_size=3, class_mode='categorical')"
   ]
  },
  {
   "cell_type": "code",
   "execution_count": 277,
   "metadata": {},
   "outputs": [],
   "source": [
    "model = Sequential()\n",
    "# 입력이미지 크기 : 24*24 / 채널 : 3 / 필터 : 3*3 / 필터개수 : 32 / 활성화함수 : relu\n",
    "model.add(Conv2D(32, kernel_size=(3,3), activation='relu', input_shape=(24,24,3)))\n",
    "#                       / 채널 : 3 / 필터 : 3*3 / 필터개수 : 64 / 활성화함수 : relu\n",
    "model.add(Conv2D(64, kernel_size=(3,3), activation='relu'))\n",
    "# maxpool : 2*2\n",
    "model.add(MaxPooling2D(pool_size=(2,2)))\n",
    "# faltten() -> Dense(128개 뉴련) -> Dense(softmax)\n",
    "model.add(Flatten())\n",
    "          \n",
    "model.add(Dense(128, activation='relu'))\n",
    "model.add(Dense(3, activation='softmax'))"
   ]
  },
  {
   "cell_type": "code",
   "execution_count": 278,
   "metadata": {
    "scrolled": true
   },
   "outputs": [
    {
     "name": "stdout",
     "output_type": "stream",
     "text": [
      "Model: \"sequential_10\"\n",
      "_________________________________________________________________\n",
      "Layer (type)                 Output Shape              Param #   \n",
      "=================================================================\n",
      "conv2d_13 (Conv2D)           (None, 22, 22, 32)        896       \n",
      "_________________________________________________________________\n",
      "conv2d_14 (Conv2D)           (None, 20, 20, 64)        18496     \n",
      "_________________________________________________________________\n",
      "max_pooling2d_6 (MaxPooling2 (None, 10, 10, 64)        0         \n",
      "_________________________________________________________________\n",
      "flatten_6 (Flatten)          (None, 6400)              0         \n",
      "_________________________________________________________________\n",
      "dense_17 (Dense)             (None, 128)               819328    \n",
      "_________________________________________________________________\n",
      "dense_18 (Dense)             (None, 3)                 387       \n",
      "=================================================================\n",
      "Total params: 839,107\n",
      "Trainable params: 839,107\n",
      "Non-trainable params: 0\n",
      "_________________________________________________________________\n"
     ]
    }
   ],
   "source": [
    "model.summary()"
   ]
  },
  {
   "cell_type": "code",
   "execution_count": 279,
   "metadata": {},
   "outputs": [],
   "source": [
    "# 모델 학습 설정\n",
    "model.compile(loss='categorical_crossentropy', optimizer='adam', metrics=['accuracy'])"
   ]
  },
  {
   "cell_type": "code",
   "execution_count": 281,
   "metadata": {
    "scrolled": true
   },
   "outputs": [
    {
     "name": "stdout",
     "output_type": "stream",
     "text": [
      "Epoch 1/50\n",
      "15/15 [==============================] - 1s 37ms/step - loss: 1.1877 - accuracy: 0.5333 - val_loss: 0.7561 - val_accuracy: 0.6667\n",
      "Epoch 2/50\n",
      "15/15 [==============================] - 0s 17ms/step - loss: 0.4007 - accuracy: 0.8889 - val_loss: 0.2524 - val_accuracy: 1.0000\n",
      "Epoch 3/50\n",
      "15/15 [==============================] - 0s 22ms/step - loss: 0.0701 - accuracy: 1.0000 - val_loss: 0.0051 - val_accuracy: 0.9333\n",
      "Epoch 4/50\n",
      "15/15 [==============================] - 0s 20ms/step - loss: 0.0235 - accuracy: 1.0000 - val_loss: 6.8543e-04 - val_accuracy: 0.9333\n",
      "Epoch 5/50\n",
      "15/15 [==============================] - 0s 20ms/step - loss: 0.0075 - accuracy: 1.0000 - val_loss: 0.0104 - val_accuracy: 0.9333\n",
      "Epoch 6/50\n",
      "15/15 [==============================] - 0s 17ms/step - loss: 0.0039 - accuracy: 1.0000 - val_loss: 0.2368 - val_accuracy: 1.0000\n",
      "Epoch 7/50\n",
      "15/15 [==============================] - 0s 19ms/step - loss: 5.9890e-04 - accuracy: 1.0000 - val_loss: 2.0056e-04 - val_accuracy: 0.9333\n",
      "Epoch 8/50\n",
      "15/15 [==============================] - 0s 19ms/step - loss: 2.8556e-04 - accuracy: 1.0000 - val_loss: 0.0030 - val_accuracy: 0.9333\n",
      "Epoch 9/50\n",
      "15/15 [==============================] - 0s 19ms/step - loss: 2.4130e-04 - accuracy: 1.0000 - val_loss: 7.0608e-05 - val_accuracy: 0.9333\n",
      "Epoch 10/50\n",
      "15/15 [==============================] - 0s 18ms/step - loss: 1.9814e-04 - accuracy: 1.0000 - val_loss: 5.1378e-05 - val_accuracy: 1.0000\n",
      "Epoch 11/50\n",
      "15/15 [==============================] - 0s 19ms/step - loss: 1.0035e-04 - accuracy: 1.0000 - val_loss: 2.4835e-05 - val_accuracy: 0.9333\n",
      "Epoch 12/50\n",
      "15/15 [==============================] - 0s 19ms/step - loss: 7.6614e-05 - accuracy: 1.0000 - val_loss: 0.1915 - val_accuracy: 1.0000\n",
      "Epoch 13/50\n",
      "15/15 [==============================] - 0s 19ms/step - loss: 6.7253e-05 - accuracy: 1.0000 - val_loss: 1.6212e-05 - val_accuracy: 1.0000\n",
      "Epoch 14/50\n",
      "15/15 [==============================] - 0s 19ms/step - loss: 5.4291e-05 - accuracy: 1.0000 - val_loss: 3.4371e-05 - val_accuracy: 1.0000\n",
      "Epoch 15/50\n",
      "15/15 [==============================] - 0s 19ms/step - loss: 4.4674e-05 - accuracy: 1.0000 - val_loss: 0.0029 - val_accuracy: 0.9333\n",
      "Epoch 16/50\n",
      "15/15 [==============================] - 0s 20ms/step - loss: 3.6796e-05 - accuracy: 1.0000 - val_loss: 0.3024 - val_accuracy: 0.9333\n",
      "Epoch 17/50\n",
      "15/15 [==============================] - 0s 18ms/step - loss: 3.2431e-05 - accuracy: 1.0000 - val_loss: 0.2931 - val_accuracy: 0.9333\n",
      "Epoch 18/50\n",
      "15/15 [==============================] - 0s 19ms/step - loss: 2.6008e-05 - accuracy: 1.0000 - val_loss: 7.0250e-05 - val_accuracy: 0.9333\n",
      "Epoch 19/50\n",
      "15/15 [==============================] - 0s 18ms/step - loss: 2.2222e-05 - accuracy: 1.0000 - val_loss: 4.8674e-05 - val_accuracy: 0.9333\n",
      "Epoch 20/50\n",
      "15/15 [==============================] - 0s 19ms/step - loss: 1.8490e-05 - accuracy: 1.0000 - val_loss: 0.0309 - val_accuracy: 0.9333\n",
      "Epoch 21/50\n",
      "15/15 [==============================] - 0s 20ms/step - loss: 1.5333e-05 - accuracy: 1.0000 - val_loss: 0.0315 - val_accuracy: 0.9333\n",
      "Epoch 22/50\n",
      "15/15 [==============================] - 0s 19ms/step - loss: 1.3584e-05 - accuracy: 1.0000 - val_loss: 0.0022 - val_accuracy: 0.9333\n",
      "Epoch 23/50\n",
      "15/15 [==============================] - 0s 18ms/step - loss: 1.1282e-05 - accuracy: 1.0000 - val_loss: 0.3848 - val_accuracy: 0.9333\n",
      "Epoch 24/50\n",
      "15/15 [==============================] - 0s 19ms/step - loss: 1.0114e-05 - accuracy: 1.0000 - val_loss: 0.0016 - val_accuracy: 0.9333\n",
      "Epoch 25/50\n",
      "15/15 [==============================] - 0s 19ms/step - loss: 9.9101e-06 - accuracy: 1.0000 - val_loss: 0.0016 - val_accuracy: 0.9333\n",
      "Epoch 26/50\n",
      "15/15 [==============================] - 0s 19ms/step - loss: 7.7564e-06 - accuracy: 1.0000 - val_loss: 2.1537e-05 - val_accuracy: 0.9333\n",
      "Epoch 27/50\n",
      "15/15 [==============================] - 0s 19ms/step - loss: 5.9657e-06 - accuracy: 1.0000 - val_loss: 3.1789e-06 - val_accuracy: 0.9333\n",
      "Epoch 28/50\n",
      "15/15 [==============================] - 0s 18ms/step - loss: 4.4743e-06 - accuracy: 1.0000 - val_loss: 7.1922e-06 - val_accuracy: 0.9333\n",
      "Epoch 29/50\n",
      "15/15 [==============================] - 0s 19ms/step - loss: 3.8279e-06 - accuracy: 1.0000 - val_loss: 2.0146e-05 - val_accuracy: 0.9333\n",
      "Epoch 30/50\n",
      "15/15 [==============================] - 0s 18ms/step - loss: 3.0650e-06 - accuracy: 1.0000 - val_loss: 2.6583e-05 - val_accuracy: 0.9333\n",
      "Epoch 31/50\n",
      "15/15 [==============================] - 0s 18ms/step - loss: 2.7286e-06 - accuracy: 1.0000 - val_loss: 7.0498e-04 - val_accuracy: 0.9333\n",
      "Epoch 32/50\n",
      "15/15 [==============================] - 0s 19ms/step - loss: 2.1961e-06 - accuracy: 1.0000 - val_loss: 7.2057e-04 - val_accuracy: 0.9333\n",
      "Epoch 33/50\n",
      "15/15 [==============================] - 0s 19ms/step - loss: 1.9338e-06 - accuracy: 1.0000 - val_loss: 6.6960e-04 - val_accuracy: 0.9333\n",
      "Epoch 34/50\n",
      "15/15 [==============================] - 0s 19ms/step - loss: 1.7908e-06 - accuracy: 1.0000 - val_loss: 0.0095 - val_accuracy: 0.9333\n",
      "Epoch 35/50\n",
      "15/15 [==============================] - 0s 19ms/step - loss: 1.5126e-06 - accuracy: 1.0000 - val_loss: 0.0089 - val_accuracy: 0.9333\n",
      "Epoch 36/50\n",
      "15/15 [==============================] - 0s 19ms/step - loss: 1.3590e-06 - accuracy: 1.0000 - val_loss: 5.7509e-04 - val_accuracy: 0.9333\n",
      "Epoch 37/50\n",
      "15/15 [==============================] - 0s 19ms/step - loss: 1.2133e-06 - accuracy: 1.0000 - val_loss: 0.0081 - val_accuracy: 0.9333\n",
      "Epoch 38/50\n",
      "15/15 [==============================] - 0s 20ms/step - loss: 1.0994e-06 - accuracy: 1.0000 - val_loss: 3.2981e-06 - val_accuracy: 0.9333\n",
      "Epoch 39/50\n",
      "15/15 [==============================] - 0s 18ms/step - loss: 1.0173e-06 - accuracy: 1.0000 - val_loss: 5.5631e-07 - val_accuracy: 0.9333\n",
      "Epoch 40/50\n",
      "15/15 [==============================] - 0s 19ms/step - loss: 9.1129e-07 - accuracy: 1.0000 - val_loss: 0.3735 - val_accuracy: 0.9333\n",
      "Epoch 41/50\n",
      "15/15 [==============================] - 0s 19ms/step - loss: 8.3711e-07 - accuracy: 1.0000 - val_loss: 3.5763e-07 - val_accuracy: 0.9333\n",
      "Epoch 42/50\n",
      "15/15 [==============================] - 0s 17ms/step - loss: 7.7354e-07 - accuracy: 1.0000 - val_loss: 0.0062 - val_accuracy: 0.9333\n",
      "Epoch 43/50\n",
      "15/15 [==============================] - 0s 19ms/step - loss: 7.2320e-07 - accuracy: 1.0000 - val_loss: 0.3798 - val_accuracy: 0.9333\n",
      "Epoch 44/50\n",
      "15/15 [==============================] - 0s 19ms/step - loss: 6.5433e-07 - accuracy: 1.0000 - val_loss: 0.0060 - val_accuracy: 0.9333\n",
      "Epoch 45/50\n",
      "15/15 [==============================] - 0s 19ms/step - loss: 6.1194e-07 - accuracy: 1.0000 - val_loss: 0.3731 - val_accuracy: 0.9333\n",
      "Epoch 46/50\n",
      "15/15 [==============================] - 0s 18ms/step - loss: 5.7750e-07 - accuracy: 1.0000 - val_loss: 3.8050e-04 - val_accuracy: 0.9333\n",
      "Epoch 47/50\n",
      "15/15 [==============================] - 0s 19ms/step - loss: 5.4306e-07 - accuracy: 1.0000 - val_loss: 0.0053 - val_accuracy: 0.9333\n",
      "Epoch 48/50\n",
      "15/15 [==============================] - 0s 18ms/step - loss: 5.0598e-07 - accuracy: 1.0000 - val_loss: 5.1657e-07 - val_accuracy: 0.9333\n",
      "Epoch 49/50\n",
      "15/15 [==============================] - 0s 20ms/step - loss: 4.7419e-07 - accuracy: 1.0000 - val_loss: 0.3692 - val_accuracy: 0.9333\n",
      "Epoch 50/50\n",
      "15/15 [==============================] - 0s 18ms/step - loss: 4.3975e-07 - accuracy: 1.0000 - val_loss: 5.7116e-04 - val_accuracy: 0.9333\n"
     ]
    },
    {
     "data": {
      "text/plain": [
       "<keras.callbacks.callbacks.History at 0x21a631a3b08>"
      ]
     },
     "execution_count": 281,
     "metadata": {},
     "output_type": "execute_result"
    }
   ],
   "source": [
    "# 모델 학습\n",
    "# fit_generator() : 제너레이터로 생성된 데이터를 학습하는 함수\n",
    "model.fit_generator(trainGenerator, steps_per_epoch=15, epochs=50, validation_data=testGenerator, validation_steps=5)"
   ]
  },
  {
   "cell_type": "code",
   "execution_count": 282,
   "metadata": {},
   "outputs": [
    {
     "name": "stdout",
     "output_type": "stream",
     "text": [
      "[0.0005711587728001177, 0.9333333373069763]\n"
     ]
    }
   ],
   "source": [
    "scores = model.evaluate_generator(testGenerator, steps=5)\n",
    "print(scores)"
   ]
  },
  {
   "cell_type": "code",
   "execution_count": 284,
   "metadata": {},
   "outputs": [
    {
     "name": "stdout",
     "output_type": "stream",
     "text": [
      "[[9.9999952e-01 9.5664291e-08 3.3475374e-07]\n",
      " [5.5615932e-01 3.2994524e-01 1.1389544e-01]\n",
      " [2.1254884e-07 9.9999976e-01 3.7322945e-09]\n",
      " [1.0906176e-06 1.0015899e-03 9.9899727e-01]\n",
      " [3.5214805e-07 9.9999964e-01 4.5085002e-10]\n",
      " [2.2040787e-08 1.0000000e+00 1.4579982e-10]\n",
      " [6.3162496e-08 3.9516524e-07 9.9999952e-01]\n",
      " [9.9999893e-01 6.5078177e-07 4.5049237e-07]\n",
      " [9.9996555e-01 5.9961485e-06 2.8507220e-05]\n",
      " [9.9999452e-01 7.0534747e-07 4.7367867e-06]\n",
      " [4.2660718e-05 1.4012908e-02 9.8594439e-01]\n",
      " [1.7617653e-08 1.0000000e+00 1.6416266e-11]\n",
      " [2.9621809e-08 6.9939845e-09 1.0000000e+00]\n",
      " [3.5197683e-09 1.8079569e-07 9.9999976e-01]\n",
      " [9.9828821e-01 1.5191214e-06 1.7102305e-03]]\n"
     ]
    }
   ],
   "source": [
    "res = model.predict_generator(testGenerator, steps=5)\n",
    "print(res)"
   ]
  },
  {
   "cell_type": "code",
   "execution_count": null,
   "metadata": {},
   "outputs": [],
   "source": [
    "'''\n",
    "ImageDataGenerator()의 속성\n",
    "    rotation_range : 회전, 90(0~90도 사이 랜덤)\n",
    "    width_shift_range = 0~1사이의 비율, 0.1(이미지 너비의 10% 좌/우 이동)\n",
    "    height_shift_range = 0~1사이의 비율, 0.1(이미지 너비의 10% 상/하 이동)\n",
    "    shear_range : 변형, 라디안, 0.5(반시계빵향 밀어서 변형)\n",
    "    zoom_range() : 축소, 0.3(0.7 ~ 1.3 사이의 크기로 )\n",
    "    horizontal_flip : 수평축으로 뒤집기\n",
    "    vertical_flip : 수직축으로 뒤집기\n",
    "'''"
   ]
  },
  {
   "cell_type": "code",
   "execution_count": 286,
   "metadata": {},
   "outputs": [],
   "source": [
    "from keras.preprocessing.image import array_to_img, img_to_array, load_img"
   ]
  },
  {
   "cell_type": "code",
   "execution_count": 287,
   "metadata": {},
   "outputs": [],
   "source": [
    "augGen = ImageDataGenerator(rescale=1./255,\n",
    "                  rotation_range=15,\n",
    "                  width_shift_range=0.1,\n",
    "                  height_shift_range=0.1,\n",
    "                  shear_range=0.5,\n",
    "                  zoom_range=[0.8,2.0],\n",
    "                  horizontal_flip=True,\n",
    "                  vertical_flip=True,\n",
    "                  fill_mode='nearest')"
   ]
  },
  {
   "cell_type": "code",
   "execution_count": 307,
   "metadata": {},
   "outputs": [
    {
     "data": {
      "image/png": "[encoded data removed]",
      "text/plain": [
       "<PIL.JpegImagePlugin.JpegImageFile image mode=RGB size=320x384 at 0x21A6A8ECEC8>"
      ]
     },
     "execution_count": 307,
     "metadata": {},
     "output_type": "execute_result"
    }
   ],
   "source": [
    "# img = load_img('do/train/triangle/triangle001.png')\n",
    "img = load_img('moon.png')\n",
    "img"
   ]
  },
  {
   "cell_type": "code",
   "execution_count": 308,
   "metadata": {},
   "outputs": [
    {
     "data": {
      "text/plain": [
       "(1, 384, 320, 3)"
      ]
     },
     "execution_count": 308,
     "metadata": {},
     "output_type": "execute_result"
    }
   ],
   "source": [
    "x = img_to_array(img)\n",
    "x.shape  # 24, 24, 3\n",
    "\n",
    "x = x.reshape((1,)+x.shape)\n",
    "x.shape"
   ]
  },
  {
   "cell_type": "code",
   "execution_count": 310,
   "metadata": {},
   "outputs": [],
   "source": [
    "i = 0\n",
    "\n",
    "for batch in augGen.flow(x, batch_size=1, save_to_dir='store', save_prefix='tri', save_format='png') :\n",
    "    i += 1\n",
    "    if i > 50 :\n",
    "        break"
   ]
  },
  {
   "cell_type": "code",
   "execution_count": null,
   "metadata": {},
   "outputs": [],
   "source": []
  },
  {
   "cell_type": "code",
   "execution_count": 360,
   "metadata": {},
   "outputs": [
    {
     "data": {
      "text/html": [
       "<div>\n",
       "<style scoped>\n",
       "    .dataframe tbody tr th:only-of-type {\n",
       "        vertical-align: middle;\n",
       "    }\n",
       "\n",
       "    .dataframe tbody tr th {\n",
       "        vertical-align: top;\n",
       "    }\n",
       "\n",
       "    .dataframe thead th {\n",
       "        text-align: right;\n",
       "    }\n",
       "</style>\n",
       "<table border=\"1\" class=\"dataframe\">\n",
       "  <thead>\n",
       "    <tr style=\"text-align: right;\">\n",
       "      <th></th>\n",
       "      <th>0</th>\n",
       "      <th>1</th>\n",
       "      <th>2</th>\n",
       "      <th>3</th>\n",
       "      <th>4</th>\n",
       "      <th>5</th>\n",
       "      <th>6</th>\n",
       "      <th>7</th>\n",
       "      <th>8</th>\n",
       "      <th>9</th>\n",
       "      <th>10</th>\n",
       "      <th>11</th>\n",
       "      <th>12</th>\n",
       "      <th>13</th>\n",
       "    </tr>\n",
       "  </thead>\n",
       "  <tbody>\n",
       "    <tr>\n",
       "      <td>0</td>\n",
       "      <td>1.0</td>\n",
       "      <td>14.23</td>\n",
       "      <td>1.71</td>\n",
       "      <td>2.43</td>\n",
       "      <td>15.6</td>\n",
       "      <td>127.0</td>\n",
       "      <td>2.80</td>\n",
       "      <td>3.06</td>\n",
       "      <td>0.28</td>\n",
       "      <td>2.29</td>\n",
       "      <td>5.64</td>\n",
       "      <td>1.04</td>\n",
       "      <td>3.92</td>\n",
       "      <td>1065.0</td>\n",
       "    </tr>\n",
       "    <tr>\n",
       "      <td>1</td>\n",
       "      <td>1.0</td>\n",
       "      <td>13.20</td>\n",
       "      <td>1.78</td>\n",
       "      <td>2.14</td>\n",
       "      <td>11.2</td>\n",
       "      <td>100.0</td>\n",
       "      <td>2.65</td>\n",
       "      <td>2.76</td>\n",
       "      <td>0.26</td>\n",
       "      <td>1.28</td>\n",
       "      <td>4.38</td>\n",
       "      <td>1.05</td>\n",
       "      <td>3.40</td>\n",
       "      <td>1050.0</td>\n",
       "    </tr>\n",
       "    <tr>\n",
       "      <td>2</td>\n",
       "      <td>1.0</td>\n",
       "      <td>13.16</td>\n",
       "      <td>2.36</td>\n",
       "      <td>2.67</td>\n",
       "      <td>18.6</td>\n",
       "      <td>101.0</td>\n",
       "      <td>2.80</td>\n",
       "      <td>3.24</td>\n",
       "      <td>0.30</td>\n",
       "      <td>2.81</td>\n",
       "      <td>5.68</td>\n",
       "      <td>1.03</td>\n",
       "      <td>3.17</td>\n",
       "      <td>1185.0</td>\n",
       "    </tr>\n",
       "    <tr>\n",
       "      <td>3</td>\n",
       "      <td>1.0</td>\n",
       "      <td>14.37</td>\n",
       "      <td>1.95</td>\n",
       "      <td>2.50</td>\n",
       "      <td>16.8</td>\n",
       "      <td>113.0</td>\n",
       "      <td>3.85</td>\n",
       "      <td>3.49</td>\n",
       "      <td>0.24</td>\n",
       "      <td>2.18</td>\n",
       "      <td>7.80</td>\n",
       "      <td>0.86</td>\n",
       "      <td>3.45</td>\n",
       "      <td>1480.0</td>\n",
       "    </tr>\n",
       "    <tr>\n",
       "      <td>4</td>\n",
       "      <td>1.0</td>\n",
       "      <td>13.24</td>\n",
       "      <td>2.59</td>\n",
       "      <td>2.87</td>\n",
       "      <td>21.0</td>\n",
       "      <td>118.0</td>\n",
       "      <td>2.80</td>\n",
       "      <td>2.69</td>\n",
       "      <td>0.39</td>\n",
       "      <td>1.82</td>\n",
       "      <td>4.32</td>\n",
       "      <td>1.04</td>\n",
       "      <td>2.93</td>\n",
       "      <td>735.0</td>\n",
       "    </tr>\n",
       "    <tr>\n",
       "      <td>...</td>\n",
       "      <td>...</td>\n",
       "      <td>...</td>\n",
       "      <td>...</td>\n",
       "      <td>...</td>\n",
       "      <td>...</td>\n",
       "      <td>...</td>\n",
       "      <td>...</td>\n",
       "      <td>...</td>\n",
       "      <td>...</td>\n",
       "      <td>...</td>\n",
       "      <td>...</td>\n",
       "      <td>...</td>\n",
       "      <td>...</td>\n",
       "      <td>...</td>\n",
       "    </tr>\n",
       "    <tr>\n",
       "      <td>173</td>\n",
       "      <td>3.0</td>\n",
       "      <td>13.71</td>\n",
       "      <td>5.65</td>\n",
       "      <td>2.45</td>\n",
       "      <td>20.5</td>\n",
       "      <td>95.0</td>\n",
       "      <td>1.68</td>\n",
       "      <td>0.61</td>\n",
       "      <td>0.52</td>\n",
       "      <td>1.06</td>\n",
       "      <td>7.70</td>\n",
       "      <td>0.64</td>\n",
       "      <td>1.74</td>\n",
       "      <td>740.0</td>\n",
       "    </tr>\n",
       "    <tr>\n",
       "      <td>174</td>\n",
       "      <td>3.0</td>\n",
       "      <td>13.40</td>\n",
       "      <td>3.91</td>\n",
       "      <td>2.48</td>\n",
       "      <td>23.0</td>\n",
       "      <td>102.0</td>\n",
       "      <td>1.80</td>\n",
       "      <td>0.75</td>\n",
       "      <td>0.43</td>\n",
       "      <td>1.41</td>\n",
       "      <td>7.30</td>\n",
       "      <td>0.70</td>\n",
       "      <td>1.56</td>\n",
       "      <td>750.0</td>\n",
       "    </tr>\n",
       "    <tr>\n",
       "      <td>175</td>\n",
       "      <td>3.0</td>\n",
       "      <td>13.27</td>\n",
       "      <td>4.28</td>\n",
       "      <td>2.26</td>\n",
       "      <td>20.0</td>\n",
       "      <td>120.0</td>\n",
       "      <td>1.59</td>\n",
       "      <td>0.69</td>\n",
       "      <td>0.43</td>\n",
       "      <td>1.35</td>\n",
       "      <td>10.20</td>\n",
       "      <td>0.59</td>\n",
       "      <td>1.56</td>\n",
       "      <td>835.0</td>\n",
       "    </tr>\n",
       "    <tr>\n",
       "      <td>176</td>\n",
       "      <td>3.0</td>\n",
       "      <td>13.17</td>\n",
       "      <td>2.59</td>\n",
       "      <td>2.37</td>\n",
       "      <td>20.0</td>\n",
       "      <td>120.0</td>\n",
       "      <td>1.65</td>\n",
       "      <td>0.68</td>\n",
       "      <td>0.53</td>\n",
       "      <td>1.46</td>\n",
       "      <td>9.30</td>\n",
       "      <td>0.60</td>\n",
       "      <td>1.62</td>\n",
       "      <td>840.0</td>\n",
       "    </tr>\n",
       "    <tr>\n",
       "      <td>177</td>\n",
       "      <td>3.0</td>\n",
       "      <td>14.13</td>\n",
       "      <td>4.10</td>\n",
       "      <td>2.74</td>\n",
       "      <td>24.5</td>\n",
       "      <td>96.0</td>\n",
       "      <td>2.05</td>\n",
       "      <td>0.76</td>\n",
       "      <td>0.56</td>\n",
       "      <td>1.35</td>\n",
       "      <td>9.20</td>\n",
       "      <td>0.61</td>\n",
       "      <td>1.60</td>\n",
       "      <td>560.0</td>\n",
       "    </tr>\n",
       "  </tbody>\n",
       "</table>\n",
       "<p>178 rows × 14 columns</p>\n",
       "</div>"
      ],
      "text/plain": [
       "       0      1     2     3     4      5     6     7     8     9     10    11    12      13\n",
       "0    1.0  14.23  1.71  2.43  15.6  127.0  2.80  3.06  0.28  2.29   5.64  1.04  3.92  1065.0\n",
       "1    1.0  13.20  1.78  2.14  11.2  100.0  2.65  2.76  0.26  1.28   4.38  1.05  3.40  1050.0\n",
       "2    1.0  13.16  2.36  2.67  18.6  101.0  2.80  3.24  0.30  2.81   5.68  1.03  3.17  1185.0\n",
       "3    1.0  14.37  1.95  2.50  16.8  113.0  3.85  3.49  0.24  2.18   7.80  0.86  3.45  1480.0\n",
       "4    1.0  13.24  2.59  2.87  21.0  118.0  2.80  2.69  0.39  1.82   4.32  1.04  2.93   735.0\n",
       "..   ...    ...   ...   ...   ...    ...   ...   ...   ...   ...    ...   ...   ...     ...\n",
       "173  3.0  13.71  5.65  2.45  20.5   95.0  1.68  0.61  0.52  1.06   7.70  0.64  1.74   740.0\n",
       "174  3.0  13.40  3.91  2.48  23.0  102.0  1.80  0.75  0.43  1.41   7.30  0.70  1.56   750.0\n",
       "175  3.0  13.27  4.28  2.26  20.0  120.0  1.59  0.69  0.43  1.35  10.20  0.59  1.56   835.0\n",
       "176  3.0  13.17  2.59  2.37  20.0  120.0  1.65  0.68  0.53  1.46   9.30  0.60  1.62   840.0\n",
       "177  3.0  14.13  4.10  2.74  24.5   96.0  2.05  0.76  0.56  1.35   9.20  0.61  1.60   560.0\n",
       "\n",
       "[178 rows x 14 columns]"
      ]
     },
     "execution_count": 360,
     "metadata": {},
     "output_type": "execute_result"
    }
   ],
   "source": [
    "# 데이터 읽기\n",
    "data = np.loadtxt('data/wine.data', delimiter=',')\n",
    "pd.DataFrame(data)"
   ]
  },
  {
   "cell_type": "code",
   "execution_count": 361,
   "metadata": {},
   "outputs": [],
   "source": [
    "# 데이터 나누기\n",
    "y = data[:,[0]]\n",
    "x = data[:,1:]"
   ]
  },
  {
   "cell_type": "code",
   "execution_count": 363,
   "metadata": {},
   "outputs": [
    {
     "data": {
      "text/plain": [
       "(178, 13)"
      ]
     },
     "execution_count": 363,
     "metadata": {},
     "output_type": "execute_result"
    }
   ],
   "source": [
    "# 데이터 정규화\n",
    "from sklearn.preprocessing import MinMaxScaler\n",
    "scaler = MinMaxScaler()\n",
    "x = scaler.fit_transform(x)\n",
    "x.shape"
   ]
  },
  {
   "cell_type": "code",
   "execution_count": 364,
   "metadata": {},
   "outputs": [
    {
     "data": {
      "text/plain": [
       "array([[0., 1., 0., 0.],\n",
       "       [0., 1., 0., 0.],\n",
       "       [0., 1., 0., 0.],\n",
       "       [0., 1., 0., 0.],\n",
       "       [0., 1., 0., 0.],\n",
       "       [0., 1., 0., 0.],\n",
       "       [0., 1., 0., 0.],\n",
       "       [0., 1., 0., 0.],\n",
       "       [0., 1., 0., 0.],\n",
       "       [0., 1., 0., 0.],\n",
       "       [0., 1., 0., 0.],\n",
       "       [0., 1., 0., 0.],\n",
       "       [0., 1., 0., 0.],\n",
       "       [0., 1., 0., 0.],\n",
       "       [0., 1., 0., 0.],\n",
       "       [0., 1., 0., 0.],\n",
       "       [0., 1., 0., 0.],\n",
       "       [0., 1., 0., 0.],\n",
       "       [0., 1., 0., 0.],\n",
       "       [0., 1., 0., 0.],\n",
       "       [0., 1., 0., 0.],\n",
       "       [0., 1., 0., 0.],\n",
       "       [0., 1., 0., 0.],\n",
       "       [0., 1., 0., 0.],\n",
       "       [0., 1., 0., 0.],\n",
       "       [0., 1., 0., 0.],\n",
       "       [0., 1., 0., 0.],\n",
       "       [0., 1., 0., 0.],\n",
       "       [0., 1., 0., 0.],\n",
       "       [0., 1., 0., 0.],\n",
       "       [0., 1., 0., 0.],\n",
       "       [0., 1., 0., 0.],\n",
       "       [0., 1., 0., 0.],\n",
       "       [0., 1., 0., 0.],\n",
       "       [0., 1., 0., 0.],\n",
       "       [0., 1., 0., 0.],\n",
       "       [0., 1., 0., 0.],\n",
       "       [0., 1., 0., 0.],\n",
       "       [0., 1., 0., 0.],\n",
       "       [0., 1., 0., 0.],\n",
       "       [0., 1., 0., 0.],\n",
       "       [0., 1., 0., 0.],\n",
       "       [0., 1., 0., 0.],\n",
       "       [0., 1., 0., 0.],\n",
       "       [0., 1., 0., 0.],\n",
       "       [0., 1., 0., 0.],\n",
       "       [0., 1., 0., 0.],\n",
       "       [0., 1., 0., 0.],\n",
       "       [0., 1., 0., 0.],\n",
       "       [0., 1., 0., 0.],\n",
       "       [0., 1., 0., 0.],\n",
       "       [0., 1., 0., 0.],\n",
       "       [0., 1., 0., 0.],\n",
       "       [0., 1., 0., 0.],\n",
       "       [0., 1., 0., 0.],\n",
       "       [0., 1., 0., 0.],\n",
       "       [0., 1., 0., 0.],\n",
       "       [0., 1., 0., 0.],\n",
       "       [0., 1., 0., 0.],\n",
       "       [0., 0., 1., 0.],\n",
       "       [0., 0., 1., 0.],\n",
       "       [0., 0., 1., 0.],\n",
       "       [0., 0., 1., 0.],\n",
       "       [0., 0., 1., 0.],\n",
       "       [0., 0., 1., 0.],\n",
       "       [0., 0., 1., 0.],\n",
       "       [0., 0., 1., 0.],\n",
       "       [0., 0., 1., 0.],\n",
       "       [0., 0., 1., 0.],\n",
       "       [0., 0., 1., 0.],\n",
       "       [0., 0., 1., 0.],\n",
       "       [0., 0., 1., 0.],\n",
       "       [0., 0., 1., 0.],\n",
       "       [0., 0., 1., 0.],\n",
       "       [0., 0., 1., 0.],\n",
       "       [0., 0., 1., 0.],\n",
       "       [0., 0., 1., 0.],\n",
       "       [0., 0., 1., 0.],\n",
       "       [0., 0., 1., 0.],\n",
       "       [0., 0., 1., 0.],\n",
       "       [0., 0., 1., 0.],\n",
       "       [0., 0., 1., 0.],\n",
       "       [0., 0., 1., 0.],\n",
       "       [0., 0., 1., 0.],\n",
       "       [0., 0., 1., 0.],\n",
       "       [0., 0., 1., 0.],\n",
       "       [0., 0., 1., 0.],\n",
       "       [0., 0., 1., 0.],\n",
       "       [0., 0., 1., 0.],\n",
       "       [0., 0., 1., 0.],\n",
       "       [0., 0., 1., 0.],\n",
       "       [0., 0., 1., 0.],\n",
       "       [0., 0., 1., 0.],\n",
       "       [0., 0., 1., 0.],\n",
       "       [0., 0., 1., 0.],\n",
       "       [0., 0., 1., 0.],\n",
       "       [0., 0., 1., 0.],\n",
       "       [0., 0., 1., 0.],\n",
       "       [0., 0., 1., 0.],\n",
       "       [0., 0., 1., 0.],\n",
       "       [0., 0., 1., 0.],\n",
       "       [0., 0., 1., 0.],\n",
       "       [0., 0., 1., 0.],\n",
       "       [0., 0., 1., 0.],\n",
       "       [0., 0., 1., 0.],\n",
       "       [0., 0., 1., 0.],\n",
       "       [0., 0., 1., 0.],\n",
       "       [0., 0., 1., 0.],\n",
       "       [0., 0., 1., 0.],\n",
       "       [0., 0., 1., 0.],\n",
       "       [0., 0., 1., 0.],\n",
       "       [0., 0., 1., 0.],\n",
       "       [0., 0., 1., 0.],\n",
       "       [0., 0., 1., 0.],\n",
       "       [0., 0., 1., 0.],\n",
       "       [0., 0., 1., 0.],\n",
       "       [0., 0., 1., 0.],\n",
       "       [0., 0., 1., 0.],\n",
       "       [0., 0., 1., 0.],\n",
       "       [0., 0., 1., 0.],\n",
       "       [0., 0., 1., 0.],\n",
       "       [0., 0., 1., 0.],\n",
       "       [0., 0., 1., 0.],\n",
       "       [0., 0., 1., 0.],\n",
       "       [0., 0., 1., 0.],\n",
       "       [0., 0., 1., 0.],\n",
       "       [0., 0., 1., 0.],\n",
       "       [0., 0., 1., 0.],\n",
       "       [0., 0., 1., 0.],\n",
       "       [0., 0., 1., 0.],\n",
       "       [0., 0., 0., 1.],\n",
       "       [0., 0., 0., 1.],\n",
       "       [0., 0., 0., 1.],\n",
       "       [0., 0., 0., 1.],\n",
       "       [0., 0., 0., 1.],\n",
       "       [0., 0., 0., 1.],\n",
       "       [0., 0., 0., 1.],\n",
       "       [0., 0., 0., 1.],\n",
       "       [0., 0., 0., 1.],\n",
       "       [0., 0., 0., 1.],\n",
       "       [0., 0., 0., 1.],\n",
       "       [0., 0., 0., 1.],\n",
       "       [0., 0., 0., 1.],\n",
       "       [0., 0., 0., 1.],\n",
       "       [0., 0., 0., 1.],\n",
       "       [0., 0., 0., 1.],\n",
       "       [0., 0., 0., 1.],\n",
       "       [0., 0., 0., 1.],\n",
       "       [0., 0., 0., 1.],\n",
       "       [0., 0., 0., 1.],\n",
       "       [0., 0., 0., 1.],\n",
       "       [0., 0., 0., 1.],\n",
       "       [0., 0., 0., 1.],\n",
       "       [0., 0., 0., 1.],\n",
       "       [0., 0., 0., 1.],\n",
       "       [0., 0., 0., 1.],\n",
       "       [0., 0., 0., 1.],\n",
       "       [0., 0., 0., 1.],\n",
       "       [0., 0., 0., 1.],\n",
       "       [0., 0., 0., 1.],\n",
       "       [0., 0., 0., 1.],\n",
       "       [0., 0., 0., 1.],\n",
       "       [0., 0., 0., 1.],\n",
       "       [0., 0., 0., 1.],\n",
       "       [0., 0., 0., 1.],\n",
       "       [0., 0., 0., 1.],\n",
       "       [0., 0., 0., 1.],\n",
       "       [0., 0., 0., 1.],\n",
       "       [0., 0., 0., 1.],\n",
       "       [0., 0., 0., 1.],\n",
       "       [0., 0., 0., 1.],\n",
       "       [0., 0., 0., 1.],\n",
       "       [0., 0., 0., 1.],\n",
       "       [0., 0., 0., 1.],\n",
       "       [0., 0., 0., 1.],\n",
       "       [0., 0., 0., 1.],\n",
       "       [0., 0., 0., 1.],\n",
       "       [0., 0., 0., 1.]], dtype=float32)"
      ]
     },
     "execution_count": 364,
     "metadata": {},
     "output_type": "execute_result"
    }
   ],
   "source": [
    "# 원핫인코딩\n",
    "y = np_utils.to_categorical(y,4, dtype='float32')  # 종류는 3개인데 이상하게 4개로 변화이 됨\n",
    "y"
   ]
  },
  {
   "cell_type": "code",
   "execution_count": 378,
   "metadata": {},
   "outputs": [],
   "source": [
    "# 첫번째 열을 날림\n",
    "y = np.array([i[1:] for i in y])"
   ]
  },
  {
   "cell_type": "code",
   "execution_count": 409,
   "metadata": {},
   "outputs": [],
   "source": [
    "from sklearn.model_selection import train_test_split\n",
    "xTrain, xTest, yTrain, yTest = train_test_split(x,y, test_size=0.3, random_state=777)"
   ]
  },
  {
   "cell_type": "code",
   "execution_count": 423,
   "metadata": {},
   "outputs": [
    {
     "name": "stdout",
     "output_type": "stream",
     "text": [
      "Train on 124 samples, validate on 54 samples\n",
      "Epoch 1/500\n",
      "124/124 [==============================] - 1s 4ms/step - loss: 1.0647 - accuracy: 0.4355 - val_loss: 1.0949 - val_accuracy: 0.3148\n",
      "Epoch 2/500\n",
      "124/124 [==============================] - 0s 73us/step - loss: 1.0569 - accuracy: 0.4355 - val_loss: 1.0906 - val_accuracy: 0.3148\n",
      "Epoch 3/500\n",
      "124/124 [==============================] - 0s 72us/step - loss: 1.0491 - accuracy: 0.4355 - val_loss: 1.0856 - val_accuracy: 0.3148\n",
      "Epoch 4/500\n",
      "124/124 [==============================] - 0s 73us/step - loss: 1.0413 - accuracy: 0.4355 - val_loss: 1.0800 - val_accuracy: 0.3148\n",
      "Epoch 5/500\n",
      "124/124 [==============================] - 0s 81us/step - loss: 1.0330 - accuracy: 0.4355 - val_loss: 1.0742 - val_accuracy: 0.2963\n",
      "Epoch 6/500\n",
      "124/124 [==============================] - 0s 73us/step - loss: 1.0250 - accuracy: 0.4355 - val_loss: 1.0689 - val_accuracy: 0.2963\n",
      "Epoch 7/500\n",
      "124/124 [==============================] - 0s 81us/step - loss: 1.0167 - accuracy: 0.4355 - val_loss: 1.0637 - val_accuracy: 0.2963\n",
      "Epoch 8/500\n",
      "124/124 [==============================] - 0s 89us/step - loss: 1.0092 - accuracy: 0.4355 - val_loss: 1.0590 - val_accuracy: 0.2963\n",
      "Epoch 9/500\n",
      "124/124 [==============================] - 0s 89us/step - loss: 1.0018 - accuracy: 0.4355 - val_loss: 1.0543 - val_accuracy: 0.2963\n",
      "Epoch 10/500\n",
      "124/124 [==============================] - 0s 65us/step - loss: 0.9945 - accuracy: 0.4355 - val_loss: 1.0496 - val_accuracy: 0.2963\n",
      "Epoch 11/500\n",
      "124/124 [==============================] - 0s 81us/step - loss: 0.9868 - accuracy: 0.4355 - val_loss: 1.0453 - val_accuracy: 0.3148\n",
      "Epoch 12/500\n",
      "124/124 [==============================] - 0s 73us/step - loss: 0.9798 - accuracy: 0.4355 - val_loss: 1.0410 - val_accuracy: 0.3148\n",
      "Epoch 13/500\n",
      "124/124 [==============================] - 0s 89us/step - loss: 0.9722 - accuracy: 0.4355 - val_loss: 1.0358 - val_accuracy: 0.3148\n",
      "Epoch 14/500\n",
      "124/124 [==============================] - 0s 81us/step - loss: 0.9639 - accuracy: 0.4355 - val_loss: 1.0294 - val_accuracy: 0.3519\n",
      "Epoch 15/500\n",
      "124/124 [==============================] - 0s 81us/step - loss: 0.9555 - accuracy: 0.4435 - val_loss: 1.0222 - val_accuracy: 0.4074\n",
      "Epoch 16/500\n",
      "124/124 [==============================] - 0s 81us/step - loss: 0.9469 - accuracy: 0.4758 - val_loss: 1.0149 - val_accuracy: 0.4259\n",
      "Epoch 17/500\n",
      "124/124 [==============================] - 0s 81us/step - loss: 0.9385 - accuracy: 0.5161 - val_loss: 1.0074 - val_accuracy: 0.5000\n",
      "Epoch 18/500\n",
      "124/124 [==============================] - 0s 73us/step - loss: 0.9306 - accuracy: 0.5484 - val_loss: 1.0000 - val_accuracy: 0.5370\n",
      "Epoch 19/500\n",
      "124/124 [==============================] - 0s 73us/step - loss: 0.9225 - accuracy: 0.6048 - val_loss: 0.9932 - val_accuracy: 0.5556\n",
      "Epoch 20/500\n",
      "124/124 [==============================] - 0s 81us/step - loss: 0.9145 - accuracy: 0.6371 - val_loss: 0.9867 - val_accuracy: 0.5741\n",
      "Epoch 21/500\n",
      "124/124 [==============================] - 0s 81us/step - loss: 0.9074 - accuracy: 0.7016 - val_loss: 0.9809 - val_accuracy: 0.5926\n",
      "Epoch 22/500\n",
      "124/124 [==============================] - 0s 81us/step - loss: 0.8997 - accuracy: 0.7339 - val_loss: 0.9748 - val_accuracy: 0.5926\n",
      "Epoch 23/500\n",
      "124/124 [==============================] - 0s 73us/step - loss: 0.8926 - accuracy: 0.7419 - val_loss: 0.9693 - val_accuracy: 0.5926\n",
      "Epoch 24/500\n",
      "124/124 [==============================] - 0s 65us/step - loss: 0.8852 - accuracy: 0.7581 - val_loss: 0.9635 - val_accuracy: 0.6296\n",
      "Epoch 25/500\n",
      "124/124 [==============================] - 0s 73us/step - loss: 0.8782 - accuracy: 0.7661 - val_loss: 0.9574 - val_accuracy: 0.6481\n",
      "Epoch 26/500\n",
      "124/124 [==============================] - 0s 81us/step - loss: 0.8709 - accuracy: 0.7661 - val_loss: 0.9515 - val_accuracy: 0.6481\n",
      "Epoch 27/500\n",
      "124/124 [==============================] - 0s 81us/step - loss: 0.8638 - accuracy: 0.7742 - val_loss: 0.9460 - val_accuracy: 0.6481\n",
      "Epoch 28/500\n",
      "124/124 [==============================] - 0s 81us/step - loss: 0.8563 - accuracy: 0.7823 - val_loss: 0.9397 - val_accuracy: 0.6296\n",
      "Epoch 29/500\n",
      "124/124 [==============================] - 0s 65us/step - loss: 0.8490 - accuracy: 0.7984 - val_loss: 0.9333 - val_accuracy: 0.6852\n",
      "Epoch 30/500\n",
      "124/124 [==============================] - 0s 81us/step - loss: 0.8418 - accuracy: 0.7984 - val_loss: 0.9273 - val_accuracy: 0.6852\n",
      "Epoch 31/500\n",
      "124/124 [==============================] - 0s 81us/step - loss: 0.8340 - accuracy: 0.7984 - val_loss: 0.9209 - val_accuracy: 0.6852\n",
      "Epoch 32/500\n",
      "124/124 [==============================] - 0s 89us/step - loss: 0.8268 - accuracy: 0.8226 - val_loss: 0.9148 - val_accuracy: 0.6852\n",
      "Epoch 33/500\n",
      "124/124 [==============================] - 0s 73us/step - loss: 0.8191 - accuracy: 0.8306 - val_loss: 0.9084 - val_accuracy: 0.7037\n",
      "Epoch 34/500\n",
      "124/124 [==============================] - 0s 73us/step - loss: 0.8115 - accuracy: 0.8387 - val_loss: 0.9020 - val_accuracy: 0.7222\n",
      "Epoch 35/500\n",
      "124/124 [==============================] - 0s 73us/step - loss: 0.8038 - accuracy: 0.8468 - val_loss: 0.8951 - val_accuracy: 0.7407\n",
      "Epoch 36/500\n",
      "124/124 [==============================] - 0s 73us/step - loss: 0.7961 - accuracy: 0.8629 - val_loss: 0.8883 - val_accuracy: 0.7407\n",
      "Epoch 37/500\n",
      "124/124 [==============================] - 0s 89us/step - loss: 0.7883 - accuracy: 0.8629 - val_loss: 0.8813 - val_accuracy: 0.7407\n",
      "Epoch 38/500\n",
      "124/124 [==============================] - 0s 73us/step - loss: 0.7804 - accuracy: 0.8629 - val_loss: 0.8742 - val_accuracy: 0.7593\n",
      "Epoch 39/500\n",
      "124/124 [==============================] - 0s 73us/step - loss: 0.7727 - accuracy: 0.8629 - val_loss: 0.8674 - val_accuracy: 0.7593\n",
      "Epoch 40/500\n",
      "124/124 [==============================] - 0s 73us/step - loss: 0.7647 - accuracy: 0.8710 - val_loss: 0.8604 - val_accuracy: 0.7778\n",
      "Epoch 41/500\n",
      "124/124 [==============================] - 0s 73us/step - loss: 0.7566 - accuracy: 0.8790 - val_loss: 0.8530 - val_accuracy: 0.7963\n",
      "Epoch 42/500\n",
      "124/124 [==============================] - 0s 81us/step - loss: 0.7488 - accuracy: 0.8790 - val_loss: 0.8454 - val_accuracy: 0.7963\n",
      "Epoch 43/500\n",
      "124/124 [==============================] - 0s 73us/step - loss: 0.7410 - accuracy: 0.8790 - val_loss: 0.8376 - val_accuracy: 0.7963\n",
      "Epoch 44/500\n",
      "124/124 [==============================] - 0s 81us/step - loss: 0.7330 - accuracy: 0.8871 - val_loss: 0.8307 - val_accuracy: 0.7963\n",
      "Epoch 45/500\n",
      "124/124 [==============================] - 0s 81us/step - loss: 0.7250 - accuracy: 0.8871 - val_loss: 0.8234 - val_accuracy: 0.7963\n",
      "Epoch 46/500\n",
      "124/124 [==============================] - 0s 89us/step - loss: 0.7175 - accuracy: 0.8871 - val_loss: 0.8168 - val_accuracy: 0.7963\n",
      "Epoch 47/500\n",
      "124/124 [==============================] - 0s 81us/step - loss: 0.7095 - accuracy: 0.8952 - val_loss: 0.8092 - val_accuracy: 0.7963\n",
      "Epoch 48/500\n",
      "124/124 [==============================] - 0s 73us/step - loss: 0.7016 - accuracy: 0.8952 - val_loss: 0.8013 - val_accuracy: 0.7963\n",
      "Epoch 49/500\n",
      "124/124 [==============================] - ETA: 0s - loss: 0.6778 - accuracy: 0.89 - 0s 81us/step - loss: 0.6938 - accuracy: 0.8952 - val_loss: 0.7937 - val_accuracy: 0.7963\n",
      "Epoch 50/500\n",
      "124/124 [==============================] - 0s 73us/step - loss: 0.6859 - accuracy: 0.9032 - val_loss: 0.7862 - val_accuracy: 0.7963\n",
      "Epoch 51/500\n",
      "124/124 [==============================] - 0s 81us/step - loss: 0.6781 - accuracy: 0.9032 - val_loss: 0.7787 - val_accuracy: 0.7963\n",
      "Epoch 52/500\n",
      "124/124 [==============================] - 0s 81us/step - loss: 0.6702 - accuracy: 0.9032 - val_loss: 0.7716 - val_accuracy: 0.7963\n",
      "Epoch 53/500\n",
      "124/124 [==============================] - 0s 73us/step - loss: 0.6623 - accuracy: 0.9032 - val_loss: 0.7640 - val_accuracy: 0.7963\n",
      "Epoch 54/500\n",
      "124/124 [==============================] - 0s 73us/step - loss: 0.6543 - accuracy: 0.9032 - val_loss: 0.7567 - val_accuracy: 0.7963\n",
      "Epoch 55/500\n",
      "124/124 [==============================] - 0s 81us/step - loss: 0.6462 - accuracy: 0.9032 - val_loss: 0.7496 - val_accuracy: 0.7963\n",
      "Epoch 56/500\n",
      "124/124 [==============================] - 0s 73us/step - loss: 0.6372 - accuracy: 0.9032 - val_loss: 0.7421 - val_accuracy: 0.7963\n"
     ]
    },
    {
     "name": "stdout",
     "output_type": "stream",
     "text": [
      "Epoch 57/500\n",
      "124/124 [==============================] - 0s 73us/step - loss: 0.6281 - accuracy: 0.8952 - val_loss: 0.7333 - val_accuracy: 0.7963\n",
      "Epoch 58/500\n",
      "124/124 [==============================] - 0s 81us/step - loss: 0.6190 - accuracy: 0.9032 - val_loss: 0.7240 - val_accuracy: 0.7963\n",
      "Epoch 59/500\n",
      "124/124 [==============================] - 0s 81us/step - loss: 0.6096 - accuracy: 0.9113 - val_loss: 0.7147 - val_accuracy: 0.8148\n",
      "Epoch 60/500\n",
      "124/124 [==============================] - 0s 73us/step - loss: 0.6000 - accuracy: 0.9113 - val_loss: 0.7048 - val_accuracy: 0.8333\n",
      "Epoch 61/500\n",
      "124/124 [==============================] - 0s 81us/step - loss: 0.5907 - accuracy: 0.9194 - val_loss: 0.6949 - val_accuracy: 0.8519\n",
      "Epoch 62/500\n",
      "124/124 [==============================] - 0s 81us/step - loss: 0.5808 - accuracy: 0.9274 - val_loss: 0.6836 - val_accuracy: 0.8704\n",
      "Epoch 63/500\n",
      "124/124 [==============================] - 0s 73us/step - loss: 0.5706 - accuracy: 0.9194 - val_loss: 0.6727 - val_accuracy: 0.8519\n",
      "Epoch 64/500\n",
      "124/124 [==============================] - 0s 81us/step - loss: 0.5611 - accuracy: 0.9113 - val_loss: 0.6617 - val_accuracy: 0.8519\n",
      "Epoch 65/500\n",
      "124/124 [==============================] - 0s 81us/step - loss: 0.5512 - accuracy: 0.9032 - val_loss: 0.6508 - val_accuracy: 0.8519\n",
      "Epoch 66/500\n",
      "124/124 [==============================] - 0s 73us/step - loss: 0.5415 - accuracy: 0.9032 - val_loss: 0.6408 - val_accuracy: 0.8704\n",
      "Epoch 67/500\n",
      "124/124 [==============================] - 0s 89us/step - loss: 0.5323 - accuracy: 0.9113 - val_loss: 0.6300 - val_accuracy: 0.8704\n",
      "Epoch 68/500\n",
      "124/124 [==============================] - 0s 202us/step - loss: 0.5221 - accuracy: 0.9113 - val_loss: 0.6198 - val_accuracy: 0.8704\n",
      "Epoch 69/500\n",
      "124/124 [==============================] - 0s 81us/step - loss: 0.5121 - accuracy: 0.9194 - val_loss: 0.6096 - val_accuracy: 0.8704\n",
      "Epoch 70/500\n",
      "124/124 [==============================] - 0s 73us/step - loss: 0.5025 - accuracy: 0.9355 - val_loss: 0.6001 - val_accuracy: 0.8704\n",
      "Epoch 71/500\n",
      "124/124 [==============================] - 0s 81us/step - loss: 0.4931 - accuracy: 0.9435 - val_loss: 0.5908 - val_accuracy: 0.8704\n",
      "Epoch 72/500\n",
      "124/124 [==============================] - 0s 81us/step - loss: 0.4839 - accuracy: 0.9516 - val_loss: 0.5815 - val_accuracy: 0.8704\n",
      "Epoch 73/500\n",
      "124/124 [==============================] - 0s 81us/step - loss: 0.4747 - accuracy: 0.9516 - val_loss: 0.5719 - val_accuracy: 0.9074\n",
      "Epoch 74/500\n",
      "124/124 [==============================] - 0s 81us/step - loss: 0.4657 - accuracy: 0.9516 - val_loss: 0.5620 - val_accuracy: 0.8889\n",
      "Epoch 75/500\n",
      "124/124 [==============================] - 0s 89us/step - loss: 0.4570 - accuracy: 0.9516 - val_loss: 0.5526 - val_accuracy: 0.8889\n",
      "Epoch 76/500\n",
      "124/124 [==============================] - 0s 73us/step - loss: 0.4478 - accuracy: 0.9516 - val_loss: 0.5426 - val_accuracy: 0.9074\n",
      "Epoch 77/500\n",
      "124/124 [==============================] - 0s 73us/step - loss: 0.4393 - accuracy: 0.9516 - val_loss: 0.5330 - val_accuracy: 0.9074\n",
      "Epoch 78/500\n",
      "124/124 [==============================] - 0s 73us/step - loss: 0.4308 - accuracy: 0.9516 - val_loss: 0.5230 - val_accuracy: 0.9074\n",
      "Epoch 79/500\n",
      "124/124 [==============================] - 0s 81us/step - loss: 0.4220 - accuracy: 0.9597 - val_loss: 0.5136 - val_accuracy: 0.9074\n",
      "Epoch 80/500\n",
      "124/124 [==============================] - 0s 89us/step - loss: 0.4138 - accuracy: 0.9597 - val_loss: 0.5036 - val_accuracy: 0.9074\n",
      "Epoch 81/500\n",
      "124/124 [==============================] - 0s 89us/step - loss: 0.4054 - accuracy: 0.9597 - val_loss: 0.4945 - val_accuracy: 0.9074\n",
      "Epoch 82/500\n",
      "124/124 [==============================] - 0s 89us/step - loss: 0.3973 - accuracy: 0.9597 - val_loss: 0.4854 - val_accuracy: 0.9259\n",
      "Epoch 83/500\n",
      "124/124 [==============================] - 0s 97us/step - loss: 0.3892 - accuracy: 0.9597 - val_loss: 0.4767 - val_accuracy: 0.9259\n",
      "Epoch 84/500\n",
      "124/124 [==============================] - 0s 89us/step - loss: 0.3812 - accuracy: 0.9597 - val_loss: 0.4683 - val_accuracy: 0.9259\n",
      "Epoch 85/500\n",
      "124/124 [==============================] - 0s 81us/step - loss: 0.3733 - accuracy: 0.9597 - val_loss: 0.4596 - val_accuracy: 0.9259\n",
      "Epoch 86/500\n",
      "124/124 [==============================] - 0s 73us/step - loss: 0.3655 - accuracy: 0.9597 - val_loss: 0.4504 - val_accuracy: 0.9444\n",
      "Epoch 87/500\n",
      "124/124 [==============================] - 0s 73us/step - loss: 0.3584 - accuracy: 0.9597 - val_loss: 0.4421 - val_accuracy: 0.9444\n",
      "Epoch 88/500\n",
      "124/124 [==============================] - 0s 81us/step - loss: 0.3503 - accuracy: 0.9597 - val_loss: 0.4329 - val_accuracy: 0.9444\n",
      "Epoch 89/500\n",
      "124/124 [==============================] - 0s 89us/step - loss: 0.3431 - accuracy: 0.9677 - val_loss: 0.4241 - val_accuracy: 0.9444\n",
      "Epoch 90/500\n",
      "124/124 [==============================] - 0s 73us/step - loss: 0.3359 - accuracy: 0.9677 - val_loss: 0.4155 - val_accuracy: 0.9444\n",
      "Epoch 91/500\n",
      "124/124 [==============================] - 0s 89us/step - loss: 0.3283 - accuracy: 0.9677 - val_loss: 0.4076 - val_accuracy: 0.9444\n",
      "Epoch 92/500\n",
      "124/124 [==============================] - 0s 73us/step - loss: 0.3211 - accuracy: 0.9758 - val_loss: 0.3997 - val_accuracy: 0.9444\n",
      "Epoch 93/500\n",
      "124/124 [==============================] - 0s 73us/step - loss: 0.3140 - accuracy: 0.9758 - val_loss: 0.3921 - val_accuracy: 0.9444\n",
      "Epoch 94/500\n",
      "124/124 [==============================] - 0s 73us/step - loss: 0.3069 - accuracy: 0.9839 - val_loss: 0.3843 - val_accuracy: 0.9630\n",
      "Epoch 95/500\n",
      "124/124 [==============================] - 0s 81us/step - loss: 0.2999 - accuracy: 0.9919 - val_loss: 0.3766 - val_accuracy: 0.9630\n",
      "Epoch 96/500\n",
      "124/124 [==============================] - 0s 73us/step - loss: 0.2932 - accuracy: 0.9919 - val_loss: 0.3688 - val_accuracy: 0.9630\n",
      "Epoch 97/500\n",
      "124/124 [==============================] - 0s 81us/step - loss: 0.2863 - accuracy: 0.9919 - val_loss: 0.3610 - val_accuracy: 0.9630\n",
      "Epoch 98/500\n",
      "124/124 [==============================] - 0s 73us/step - loss: 0.2794 - accuracy: 0.9919 - val_loss: 0.3537 - val_accuracy: 0.9630\n",
      "Epoch 99/500\n",
      "124/124 [==============================] - 0s 73us/step - loss: 0.2734 - accuracy: 0.9919 - val_loss: 0.3459 - val_accuracy: 0.9630\n",
      "Epoch 100/500\n",
      "124/124 [==============================] - 0s 89us/step - loss: 0.2668 - accuracy: 0.9919 - val_loss: 0.3384 - val_accuracy: 0.9630\n",
      "Epoch 101/500\n",
      "124/124 [==============================] - 0s 89us/step - loss: 0.2602 - accuracy: 0.9919 - val_loss: 0.3316 - val_accuracy: 0.9630\n",
      "Epoch 102/500\n",
      "124/124 [==============================] - 0s 97us/step - loss: 0.2538 - accuracy: 0.9919 - val_loss: 0.3245 - val_accuracy: 0.9630\n",
      "Epoch 103/500\n",
      "124/124 [==============================] - 0s 105us/step - loss: 0.2475 - accuracy: 0.9919 - val_loss: 0.3175 - val_accuracy: 0.9630\n",
      "Epoch 104/500\n",
      "124/124 [==============================] - 0s 97us/step - loss: 0.2416 - accuracy: 0.9919 - val_loss: 0.3101 - val_accuracy: 0.9630\n",
      "Epoch 105/500\n",
      "124/124 [==============================] - 0s 97us/step - loss: 0.2357 - accuracy: 0.9919 - val_loss: 0.3038 - val_accuracy: 0.9630\n",
      "Epoch 106/500\n",
      "124/124 [==============================] - 0s 89us/step - loss: 0.2297 - accuracy: 0.9919 - val_loss: 0.2967 - val_accuracy: 0.9630\n",
      "Epoch 107/500\n",
      "124/124 [==============================] - 0s 89us/step - loss: 0.2240 - accuracy: 0.9919 - val_loss: 0.2898 - val_accuracy: 0.9630\n",
      "Epoch 108/500\n",
      "124/124 [==============================] - 0s 73us/step - loss: 0.2184 - accuracy: 0.9919 - val_loss: 0.2835 - val_accuracy: 0.9630\n",
      "Epoch 109/500\n",
      "124/124 [==============================] - 0s 81us/step - loss: 0.2128 - accuracy: 0.9919 - val_loss: 0.2772 - val_accuracy: 0.9630\n",
      "Epoch 110/500\n",
      "124/124 [==============================] - 0s 81us/step - loss: 0.2075 - accuracy: 0.9919 - val_loss: 0.2714 - val_accuracy: 0.9630\n",
      "Epoch 111/500\n",
      "124/124 [==============================] - 0s 73us/step - loss: 0.2021 - accuracy: 0.9919 - val_loss: 0.2657 - val_accuracy: 0.9630\n",
      "Epoch 112/500\n",
      "124/124 [==============================] - 0s 81us/step - loss: 0.1969 - accuracy: 0.9919 - val_loss: 0.2599 - val_accuracy: 0.9630\n",
      "Epoch 113/500\n"
     ]
    },
    {
     "name": "stdout",
     "output_type": "stream",
     "text": [
      "124/124 [==============================] - 0s 89us/step - loss: 0.1922 - accuracy: 0.9919 - val_loss: 0.2544 - val_accuracy: 0.9630\n",
      "Epoch 114/500\n",
      "124/124 [==============================] - 0s 73us/step - loss: 0.1871 - accuracy: 0.9919 - val_loss: 0.2492 - val_accuracy: 0.9630\n",
      "Epoch 115/500\n",
      "124/124 [==============================] - 0s 89us/step - loss: 0.1823 - accuracy: 0.9919 - val_loss: 0.2439 - val_accuracy: 0.9630\n",
      "Epoch 116/500\n",
      "124/124 [==============================] - 0s 72us/step - loss: 0.1777 - accuracy: 0.9919 - val_loss: 0.2384 - val_accuracy: 0.9630\n",
      "Epoch 117/500\n",
      "124/124 [==============================] - 0s 73us/step - loss: 0.1731 - accuracy: 0.9919 - val_loss: 0.2333 - val_accuracy: 0.9630\n",
      "Epoch 118/500\n",
      "124/124 [==============================] - 0s 89us/step - loss: 0.1687 - accuracy: 0.9919 - val_loss: 0.2284 - val_accuracy: 0.9630\n",
      "Epoch 119/500\n",
      "124/124 [==============================] - 0s 89us/step - loss: 0.1646 - accuracy: 0.9919 - val_loss: 0.2234 - val_accuracy: 0.9630\n",
      "Epoch 120/500\n",
      "124/124 [==============================] - 0s 89us/step - loss: 0.1607 - accuracy: 1.0000 - val_loss: 0.2184 - val_accuracy: 0.9630\n",
      "Epoch 121/500\n",
      "124/124 [==============================] - 0s 89us/step - loss: 0.1567 - accuracy: 1.0000 - val_loss: 0.2142 - val_accuracy: 0.9630\n",
      "Epoch 122/500\n",
      "124/124 [==============================] - 0s 81us/step - loss: 0.1526 - accuracy: 1.0000 - val_loss: 0.2105 - val_accuracy: 0.9630\n",
      "Epoch 123/500\n",
      "124/124 [==============================] - 0s 73us/step - loss: 0.1490 - accuracy: 1.0000 - val_loss: 0.2074 - val_accuracy: 0.9630\n",
      "Epoch 124/500\n",
      "124/124 [==============================] - 0s 73us/step - loss: 0.1454 - accuracy: 1.0000 - val_loss: 0.2039 - val_accuracy: 0.9630\n",
      "Epoch 125/500\n",
      "124/124 [==============================] - 0s 81us/step - loss: 0.1419 - accuracy: 1.0000 - val_loss: 0.2005 - val_accuracy: 0.9630\n",
      "Epoch 126/500\n",
      "124/124 [==============================] - 0s 89us/step - loss: 0.1391 - accuracy: 1.0000 - val_loss: 0.1974 - val_accuracy: 0.9630\n",
      "Epoch 127/500\n",
      "124/124 [==============================] - 0s 81us/step - loss: 0.1352 - accuracy: 1.0000 - val_loss: 0.1927 - val_accuracy: 0.9630\n",
      "Epoch 128/500\n",
      "124/124 [==============================] - 0s 89us/step - loss: 0.1321 - accuracy: 1.0000 - val_loss: 0.1884 - val_accuracy: 0.9630\n",
      "Epoch 129/500\n",
      "124/124 [==============================] - 0s 81us/step - loss: 0.1292 - accuracy: 1.0000 - val_loss: 0.1845 - val_accuracy: 0.9630\n",
      "Epoch 130/500\n",
      "124/124 [==============================] - 0s 73us/step - loss: 0.1264 - accuracy: 1.0000 - val_loss: 0.1819 - val_accuracy: 0.9630\n",
      "Epoch 131/500\n",
      "124/124 [==============================] - 0s 81us/step - loss: 0.1233 - accuracy: 1.0000 - val_loss: 0.1791 - val_accuracy: 0.9630\n",
      "Epoch 132/500\n",
      "124/124 [==============================] - 0s 89us/step - loss: 0.1206 - accuracy: 1.0000 - val_loss: 0.1763 - val_accuracy: 0.9630\n",
      "Epoch 133/500\n",
      "124/124 [==============================] - 0s 81us/step - loss: 0.1181 - accuracy: 1.0000 - val_loss: 0.1744 - val_accuracy: 0.9630\n",
      "Epoch 134/500\n",
      "124/124 [==============================] - 0s 73us/step - loss: 0.1153 - accuracy: 1.0000 - val_loss: 0.1719 - val_accuracy: 0.9630\n",
      "Epoch 135/500\n",
      "124/124 [==============================] - 0s 81us/step - loss: 0.1129 - accuracy: 1.0000 - val_loss: 0.1694 - val_accuracy: 0.9630\n",
      "Epoch 136/500\n",
      "124/124 [==============================] - 0s 81us/step - loss: 0.1105 - accuracy: 1.0000 - val_loss: 0.1666 - val_accuracy: 0.9630\n",
      "Epoch 137/500\n",
      "124/124 [==============================] - 0s 81us/step - loss: 0.1083 - accuracy: 1.0000 - val_loss: 0.1640 - val_accuracy: 0.9630\n",
      "Epoch 138/500\n",
      "124/124 [==============================] - 0s 81us/step - loss: 0.1062 - accuracy: 1.0000 - val_loss: 0.1607 - val_accuracy: 0.9630\n",
      "Epoch 139/500\n",
      "124/124 [==============================] - 0s 81us/step - loss: 0.1040 - accuracy: 1.0000 - val_loss: 0.1587 - val_accuracy: 0.9630\n",
      "Epoch 140/500\n",
      "124/124 [==============================] - 0s 89us/step - loss: 0.1017 - accuracy: 1.0000 - val_loss: 0.1565 - val_accuracy: 0.9630\n",
      "Epoch 141/500\n",
      "124/124 [==============================] - 0s 81us/step - loss: 0.1000 - accuracy: 1.0000 - val_loss: 0.1540 - val_accuracy: 0.9630\n",
      "Epoch 142/500\n",
      "124/124 [==============================] - 0s 89us/step - loss: 0.0977 - accuracy: 1.0000 - val_loss: 0.1526 - val_accuracy: 0.9630\n",
      "Epoch 143/500\n",
      "124/124 [==============================] - 0s 81us/step - loss: 0.0958 - accuracy: 1.0000 - val_loss: 0.1507 - val_accuracy: 0.9630\n",
      "Epoch 144/500\n",
      "124/124 [==============================] - 0s 73us/step - loss: 0.0940 - accuracy: 1.0000 - val_loss: 0.1491 - val_accuracy: 0.9630\n",
      "Epoch 145/500\n",
      "124/124 [==============================] - 0s 81us/step - loss: 0.0922 - accuracy: 1.0000 - val_loss: 0.1474 - val_accuracy: 0.9630\n",
      "Epoch 146/500\n",
      "124/124 [==============================] - 0s 81us/step - loss: 0.0906 - accuracy: 1.0000 - val_loss: 0.1455 - val_accuracy: 0.9630\n",
      "Epoch 147/500\n",
      "124/124 [==============================] - 0s 81us/step - loss: 0.0888 - accuracy: 1.0000 - val_loss: 0.1434 - val_accuracy: 0.9630\n",
      "Epoch 148/500\n",
      "124/124 [==============================] - 0s 89us/step - loss: 0.0871 - accuracy: 1.0000 - val_loss: 0.1417 - val_accuracy: 0.9630\n",
      "Epoch 149/500\n",
      "124/124 [==============================] - 0s 81us/step - loss: 0.0859 - accuracy: 1.0000 - val_loss: 0.1405 - val_accuracy: 0.9630\n",
      "Epoch 150/500\n",
      "124/124 [==============================] - 0s 81us/step - loss: 0.0841 - accuracy: 1.0000 - val_loss: 0.1386 - val_accuracy: 0.9630\n",
      "Epoch 151/500\n",
      "124/124 [==============================] - 0s 81us/step - loss: 0.0825 - accuracy: 1.0000 - val_loss: 0.1370 - val_accuracy: 0.9630\n",
      "Epoch 152/500\n",
      "124/124 [==============================] - 0s 73us/step - loss: 0.0812 - accuracy: 1.0000 - val_loss: 0.1350 - val_accuracy: 0.9630\n",
      "Epoch 153/500\n",
      "124/124 [==============================] - 0s 89us/step - loss: 0.0797 - accuracy: 1.0000 - val_loss: 0.1337 - val_accuracy: 0.9630\n",
      "Epoch 154/500\n",
      "124/124 [==============================] - 0s 81us/step - loss: 0.0783 - accuracy: 1.0000 - val_loss: 0.1326 - val_accuracy: 0.9630\n",
      "Epoch 155/500\n",
      "124/124 [==============================] - 0s 81us/step - loss: 0.0771 - accuracy: 1.0000 - val_loss: 0.1316 - val_accuracy: 0.9630\n",
      "Epoch 156/500\n",
      "124/124 [==============================] - 0s 73us/step - loss: 0.0758 - accuracy: 1.0000 - val_loss: 0.1300 - val_accuracy: 0.9630\n",
      "Epoch 157/500\n",
      "124/124 [==============================] - 0s 73us/step - loss: 0.0745 - accuracy: 1.0000 - val_loss: 0.1289 - val_accuracy: 0.9630\n",
      "Epoch 158/500\n",
      "124/124 [==============================] - 0s 89us/step - loss: 0.0734 - accuracy: 1.0000 - val_loss: 0.1273 - val_accuracy: 0.9630\n",
      "Epoch 159/500\n",
      "124/124 [==============================] - 0s 81us/step - loss: 0.0722 - accuracy: 1.0000 - val_loss: 0.1263 - val_accuracy: 0.9630\n",
      "Epoch 160/500\n",
      "124/124 [==============================] - 0s 73us/step - loss: 0.0709 - accuracy: 1.0000 - val_loss: 0.1248 - val_accuracy: 0.9630\n",
      "Epoch 161/500\n",
      "124/124 [==============================] - 0s 81us/step - loss: 0.0699 - accuracy: 1.0000 - val_loss: 0.1236 - val_accuracy: 0.9630\n",
      "Epoch 162/500\n",
      "124/124 [==============================] - 0s 81us/step - loss: 0.0687 - accuracy: 1.0000 - val_loss: 0.1226 - val_accuracy: 0.9630\n",
      "Epoch 163/500\n",
      "124/124 [==============================] - 0s 72us/step - loss: 0.0676 - accuracy: 1.0000 - val_loss: 0.1219 - val_accuracy: 0.9630\n",
      "Epoch 164/500\n",
      "124/124 [==============================] - 0s 73us/step - loss: 0.0667 - accuracy: 1.0000 - val_loss: 0.1206 - val_accuracy: 0.9630\n",
      "Epoch 165/500\n",
      "124/124 [==============================] - 0s 81us/step - loss: 0.0656 - accuracy: 1.0000 - val_loss: 0.1203 - val_accuracy: 0.9630\n",
      "Epoch 166/500\n",
      "124/124 [==============================] - 0s 81us/step - loss: 0.0646 - accuracy: 1.0000 - val_loss: 0.1196 - val_accuracy: 0.9630\n",
      "Epoch 167/500\n",
      "124/124 [==============================] - 0s 73us/step - loss: 0.0636 - accuracy: 1.0000 - val_loss: 0.1183 - val_accuracy: 0.9630\n",
      "Epoch 168/500\n",
      "124/124 [==============================] - 0s 81us/step - loss: 0.0627 - accuracy: 1.0000 - val_loss: 0.1169 - val_accuracy: 0.9630\n",
      "Epoch 169/500\n"
     ]
    },
    {
     "name": "stdout",
     "output_type": "stream",
     "text": [
      "124/124 [==============================] - 0s 81us/step - loss: 0.0617 - accuracy: 1.0000 - val_loss: 0.1163 - val_accuracy: 0.9630\n",
      "Epoch 170/500\n",
      "124/124 [==============================] - 0s 81us/step - loss: 0.0610 - accuracy: 1.0000 - val_loss: 0.1149 - val_accuracy: 0.9630\n",
      "Epoch 171/500\n",
      "124/124 [==============================] - 0s 73us/step - loss: 0.0599 - accuracy: 1.0000 - val_loss: 0.1141 - val_accuracy: 0.9630\n",
      "Epoch 172/500\n",
      "124/124 [==============================] - 0s 73us/step - loss: 0.0590 - accuracy: 1.0000 - val_loss: 0.1135 - val_accuracy: 0.9630\n",
      "Epoch 173/500\n",
      "124/124 [==============================] - 0s 73us/step - loss: 0.0582 - accuracy: 1.0000 - val_loss: 0.1126 - val_accuracy: 0.9630\n",
      "Epoch 174/500\n",
      "124/124 [==============================] - ETA: 0s - loss: 0.0512 - accuracy: 1.00 - 0s 81us/step - loss: 0.0574 - accuracy: 1.0000 - val_loss: 0.1121 - val_accuracy: 0.9630\n",
      "Epoch 175/500\n",
      "124/124 [==============================] - 0s 89us/step - loss: 0.0566 - accuracy: 1.0000 - val_loss: 0.1115 - val_accuracy: 0.9630\n",
      "Epoch 176/500\n",
      "124/124 [==============================] - 0s 89us/step - loss: 0.0558 - accuracy: 1.0000 - val_loss: 0.1107 - val_accuracy: 0.9630\n",
      "Epoch 177/500\n",
      "124/124 [==============================] - 0s 73us/step - loss: 0.0550 - accuracy: 1.0000 - val_loss: 0.1097 - val_accuracy: 0.9630\n",
      "Epoch 178/500\n",
      "124/124 [==============================] - 0s 73us/step - loss: 0.0543 - accuracy: 1.0000 - val_loss: 0.1087 - val_accuracy: 0.9630\n",
      "Epoch 179/500\n",
      "124/124 [==============================] - 0s 81us/step - loss: 0.0538 - accuracy: 1.0000 - val_loss: 0.1084 - val_accuracy: 0.9630\n",
      "Epoch 180/500\n",
      "124/124 [==============================] - 0s 81us/step - loss: 0.0528 - accuracy: 1.0000 - val_loss: 0.1076 - val_accuracy: 0.9630\n",
      "Epoch 181/500\n",
      "124/124 [==============================] - 0s 81us/step - loss: 0.0521 - accuracy: 1.0000 - val_loss: 0.1066 - val_accuracy: 0.9630\n",
      "Epoch 182/500\n",
      "124/124 [==============================] - 0s 89us/step - loss: 0.0515 - accuracy: 1.0000 - val_loss: 0.1058 - val_accuracy: 0.9630\n",
      "Epoch 183/500\n",
      "124/124 [==============================] - 0s 89us/step - loss: 0.0507 - accuracy: 1.0000 - val_loss: 0.1049 - val_accuracy: 0.9630\n",
      "Epoch 184/500\n",
      "124/124 [==============================] - 0s 81us/step - loss: 0.0501 - accuracy: 1.0000 - val_loss: 0.1041 - val_accuracy: 0.9630\n",
      "Epoch 185/500\n",
      "124/124 [==============================] - 0s 73us/step - loss: 0.0495 - accuracy: 1.0000 - val_loss: 0.1036 - val_accuracy: 0.9630\n",
      "Epoch 186/500\n",
      "124/124 [==============================] - 0s 81us/step - loss: 0.0491 - accuracy: 1.0000 - val_loss: 0.1037 - val_accuracy: 0.9630\n",
      "Epoch 187/500\n",
      "124/124 [==============================] - 0s 89us/step - loss: 0.0485 - accuracy: 1.0000 - val_loss: 0.1036 - val_accuracy: 0.9630\n",
      "Epoch 188/500\n",
      "124/124 [==============================] - 0s 89us/step - loss: 0.0476 - accuracy: 1.0000 - val_loss: 0.1028 - val_accuracy: 0.9630\n",
      "Epoch 189/500\n",
      "124/124 [==============================] - 0s 89us/step - loss: 0.0471 - accuracy: 1.0000 - val_loss: 0.1014 - val_accuracy: 0.9630\n",
      "Epoch 190/500\n",
      "124/124 [==============================] - 0s 81us/step - loss: 0.0464 - accuracy: 1.0000 - val_loss: 0.1008 - val_accuracy: 0.9630\n",
      "Epoch 191/500\n",
      "124/124 [==============================] - 0s 73us/step - loss: 0.0459 - accuracy: 1.0000 - val_loss: 0.1000 - val_accuracy: 0.9630\n",
      "Epoch 192/500\n",
      "124/124 [==============================] - 0s 73us/step - loss: 0.0454 - accuracy: 1.0000 - val_loss: 0.1001 - val_accuracy: 0.9630\n",
      "Epoch 193/500\n",
      "124/124 [==============================] - 0s 73us/step - loss: 0.0448 - accuracy: 1.0000 - val_loss: 0.0994 - val_accuracy: 0.9630\n",
      "Epoch 194/500\n",
      "124/124 [==============================] - 0s 81us/step - loss: 0.0443 - accuracy: 1.0000 - val_loss: 0.0996 - val_accuracy: 0.9630\n",
      "Epoch 195/500\n",
      "124/124 [==============================] - 0s 81us/step - loss: 0.0439 - accuracy: 1.0000 - val_loss: 0.0998 - val_accuracy: 0.9630\n",
      "Epoch 196/500\n",
      "124/124 [==============================] - 0s 81us/step - loss: 0.0431 - accuracy: 1.0000 - val_loss: 0.0990 - val_accuracy: 0.9630\n",
      "Epoch 197/500\n",
      "124/124 [==============================] - 0s 73us/step - loss: 0.0426 - accuracy: 1.0000 - val_loss: 0.0981 - val_accuracy: 0.9630\n",
      "Epoch 198/500\n",
      "124/124 [==============================] - 0s 81us/step - loss: 0.0423 - accuracy: 1.0000 - val_loss: 0.0970 - val_accuracy: 0.9630\n",
      "Epoch 199/500\n",
      "124/124 [==============================] - 0s 81us/step - loss: 0.0417 - accuracy: 1.0000 - val_loss: 0.0962 - val_accuracy: 0.9630\n",
      "Epoch 200/500\n",
      "124/124 [==============================] - 0s 65us/step - loss: 0.0412 - accuracy: 1.0000 - val_loss: 0.0958 - val_accuracy: 0.9630\n",
      "Epoch 201/500\n",
      "124/124 [==============================] - 0s 73us/step - loss: 0.0407 - accuracy: 1.0000 - val_loss: 0.0955 - val_accuracy: 0.9630\n",
      "Epoch 202/500\n",
      "124/124 [==============================] - 0s 81us/step - loss: 0.0404 - accuracy: 1.0000 - val_loss: 0.0961 - val_accuracy: 0.9630\n",
      "Epoch 203/500\n",
      "124/124 [==============================] - 0s 97us/step - loss: 0.0397 - accuracy: 1.0000 - val_loss: 0.0957 - val_accuracy: 0.9630\n",
      "Epoch 204/500\n",
      "124/124 [==============================] - 0s 81us/step - loss: 0.0394 - accuracy: 1.0000 - val_loss: 0.0950 - val_accuracy: 0.9630\n",
      "Epoch 205/500\n",
      "124/124 [==============================] - 0s 73us/step - loss: 0.0388 - accuracy: 1.0000 - val_loss: 0.0948 - val_accuracy: 0.9630\n",
      "Epoch 206/500\n",
      "124/124 [==============================] - 0s 73us/step - loss: 0.0384 - accuracy: 1.0000 - val_loss: 0.0942 - val_accuracy: 0.9630\n",
      "Epoch 207/500\n",
      "124/124 [==============================] - 0s 73us/step - loss: 0.0380 - accuracy: 1.0000 - val_loss: 0.0941 - val_accuracy: 0.9630\n",
      "Epoch 208/500\n",
      "124/124 [==============================] - 0s 81us/step - loss: 0.0376 - accuracy: 1.0000 - val_loss: 0.0933 - val_accuracy: 0.9630\n",
      "Epoch 209/500\n",
      "124/124 [==============================] - 0s 89us/step - loss: 0.0371 - accuracy: 1.0000 - val_loss: 0.0930 - val_accuracy: 0.9630\n",
      "Epoch 210/500\n",
      "124/124 [==============================] - 0s 81us/step - loss: 0.0368 - accuracy: 1.0000 - val_loss: 0.0926 - val_accuracy: 0.9630\n",
      "Epoch 211/500\n",
      "124/124 [==============================] - 0s 73us/step - loss: 0.0363 - accuracy: 1.0000 - val_loss: 0.0921 - val_accuracy: 0.9630\n",
      "Epoch 212/500\n",
      "124/124 [==============================] - 0s 65us/step - loss: 0.0359 - accuracy: 1.0000 - val_loss: 0.0918 - val_accuracy: 0.9630\n",
      "Epoch 213/500\n",
      "124/124 [==============================] - 0s 81us/step - loss: 0.0357 - accuracy: 1.0000 - val_loss: 0.0918 - val_accuracy: 0.9630\n",
      "Epoch 214/500\n",
      "124/124 [==============================] - 0s 73us/step - loss: 0.0352 - accuracy: 1.0000 - val_loss: 0.0915 - val_accuracy: 0.9630\n",
      "Epoch 215/500\n",
      "124/124 [==============================] - 0s 81us/step - loss: 0.0347 - accuracy: 1.0000 - val_loss: 0.0908 - val_accuracy: 0.9630\n",
      "Epoch 216/500\n",
      "124/124 [==============================] - 0s 73us/step - loss: 0.0344 - accuracy: 1.0000 - val_loss: 0.0900 - val_accuracy: 0.9630\n",
      "Epoch 217/500\n",
      "124/124 [==============================] - 0s 65us/step - loss: 0.0341 - accuracy: 1.0000 - val_loss: 0.0897 - val_accuracy: 0.9630\n",
      "Epoch 218/500\n",
      "124/124 [==============================] - 0s 89us/step - loss: 0.0337 - accuracy: 1.0000 - val_loss: 0.0892 - val_accuracy: 0.9630\n",
      "Epoch 219/500\n",
      "124/124 [==============================] - 0s 73us/step - loss: 0.0335 - accuracy: 1.0000 - val_loss: 0.0893 - val_accuracy: 0.9630\n",
      "Epoch 220/500\n",
      "124/124 [==============================] - 0s 73us/step - loss: 0.0330 - accuracy: 1.0000 - val_loss: 0.0889 - val_accuracy: 0.9630\n",
      "Epoch 221/500\n",
      "124/124 [==============================] - 0s 73us/step - loss: 0.0327 - accuracy: 1.0000 - val_loss: 0.0884 - val_accuracy: 0.9630\n",
      "Epoch 222/500\n",
      "124/124 [==============================] - 0s 81us/step - loss: 0.0324 - accuracy: 1.0000 - val_loss: 0.0879 - val_accuracy: 0.9630\n",
      "Epoch 223/500\n",
      "124/124 [==============================] - 0s 73us/step - loss: 0.0320 - accuracy: 1.0000 - val_loss: 0.0877 - val_accuracy: 0.9630\n",
      "Epoch 224/500\n",
      "124/124 [==============================] - 0s 81us/step - loss: 0.0318 - accuracy: 1.0000 - val_loss: 0.0881 - val_accuracy: 0.9630\n"
     ]
    },
    {
     "name": "stdout",
     "output_type": "stream",
     "text": [
      "Epoch 225/500\n",
      "124/124 [==============================] - 0s 89us/step - loss: 0.0313 - accuracy: 1.0000 - val_loss: 0.0879 - val_accuracy: 0.9630\n",
      "Epoch 226/500\n",
      "124/124 [==============================] - 0s 89us/step - loss: 0.0311 - accuracy: 1.0000 - val_loss: 0.0873 - val_accuracy: 0.9630\n",
      "Epoch 227/500\n",
      "124/124 [==============================] - 0s 81us/step - loss: 0.0309 - accuracy: 1.0000 - val_loss: 0.0877 - val_accuracy: 0.9630\n",
      "Epoch 228/500\n",
      "124/124 [==============================] - 0s 73us/step - loss: 0.0304 - accuracy: 1.0000 - val_loss: 0.0873 - val_accuracy: 0.9630\n",
      "Epoch 229/500\n",
      "124/124 [==============================] - 0s 73us/step - loss: 0.0302 - accuracy: 1.0000 - val_loss: 0.0864 - val_accuracy: 0.9630\n",
      "Epoch 230/500\n",
      "124/124 [==============================] - 0s 73us/step - loss: 0.0298 - accuracy: 1.0000 - val_loss: 0.0857 - val_accuracy: 0.9630\n",
      "Epoch 231/500\n",
      "124/124 [==============================] - 0s 81us/step - loss: 0.0295 - accuracy: 1.0000 - val_loss: 0.0855 - val_accuracy: 0.9630\n",
      "Epoch 232/500\n",
      "124/124 [==============================] - 0s 89us/step - loss: 0.0292 - accuracy: 1.0000 - val_loss: 0.0855 - val_accuracy: 0.9630\n",
      "Epoch 233/500\n",
      "124/124 [==============================] - 0s 73us/step - loss: 0.0289 - accuracy: 1.0000 - val_loss: 0.0857 - val_accuracy: 0.9630\n",
      "Epoch 234/500\n",
      "124/124 [==============================] - 0s 73us/step - loss: 0.0286 - accuracy: 1.0000 - val_loss: 0.0856 - val_accuracy: 0.9630\n",
      "Epoch 235/500\n",
      "124/124 [==============================] - 0s 81us/step - loss: 0.0284 - accuracy: 1.0000 - val_loss: 0.0855 - val_accuracy: 0.9630\n",
      "Epoch 236/500\n",
      "124/124 [==============================] - 0s 81us/step - loss: 0.0281 - accuracy: 1.0000 - val_loss: 0.0849 - val_accuracy: 0.9630\n",
      "Epoch 237/500\n",
      "124/124 [==============================] - 0s 73us/step - loss: 0.0278 - accuracy: 1.0000 - val_loss: 0.0846 - val_accuracy: 0.9630\n",
      "Epoch 238/500\n",
      "124/124 [==============================] - 0s 81us/step - loss: 0.0276 - accuracy: 1.0000 - val_loss: 0.0844 - val_accuracy: 0.9630\n",
      "Epoch 239/500\n",
      "124/124 [==============================] - 0s 73us/step - loss: 0.0273 - accuracy: 1.0000 - val_loss: 0.0840 - val_accuracy: 0.9630\n",
      "Epoch 240/500\n",
      "124/124 [==============================] - 0s 73us/step - loss: 0.0270 - accuracy: 1.0000 - val_loss: 0.0840 - val_accuracy: 0.9630\n",
      "Epoch 241/500\n",
      "124/124 [==============================] - 0s 81us/step - loss: 0.0268 - accuracy: 1.0000 - val_loss: 0.0834 - val_accuracy: 0.9630\n",
      "Epoch 242/500\n",
      "124/124 [==============================] - 0s 81us/step - loss: 0.0265 - accuracy: 1.0000 - val_loss: 0.0835 - val_accuracy: 0.9630\n",
      "Epoch 243/500\n",
      "124/124 [==============================] - 0s 89us/step - loss: 0.0263 - accuracy: 1.0000 - val_loss: 0.0831 - val_accuracy: 0.9630\n",
      "Epoch 244/500\n",
      "124/124 [==============================] - 0s 81us/step - loss: 0.0261 - accuracy: 1.0000 - val_loss: 0.0827 - val_accuracy: 0.9630\n",
      "Epoch 245/500\n",
      "124/124 [==============================] - 0s 73us/step - loss: 0.0258 - accuracy: 1.0000 - val_loss: 0.0827 - val_accuracy: 0.9630\n",
      "Epoch 246/500\n",
      "124/124 [==============================] - 0s 73us/step - loss: 0.0256 - accuracy: 1.0000 - val_loss: 0.0829 - val_accuracy: 0.9630\n",
      "Epoch 247/500\n",
      "124/124 [==============================] - 0s 73us/step - loss: 0.0253 - accuracy: 1.0000 - val_loss: 0.0828 - val_accuracy: 0.9630\n",
      "Epoch 248/500\n",
      "124/124 [==============================] - 0s 89us/step - loss: 0.0251 - accuracy: 1.0000 - val_loss: 0.0823 - val_accuracy: 0.9630\n",
      "Epoch 249/500\n",
      "124/124 [==============================] - 0s 81us/step - loss: 0.0249 - accuracy: 1.0000 - val_loss: 0.0820 - val_accuracy: 0.9630\n",
      "Epoch 250/500\n",
      "124/124 [==============================] - 0s 81us/step - loss: 0.0246 - accuracy: 1.0000 - val_loss: 0.0820 - val_accuracy: 0.9630\n",
      "Epoch 251/500\n",
      "124/124 [==============================] - 0s 81us/step - loss: 0.0244 - accuracy: 1.0000 - val_loss: 0.0820 - val_accuracy: 0.9630\n",
      "Epoch 252/500\n",
      "124/124 [==============================] - 0s 72us/step - loss: 0.0242 - accuracy: 1.0000 - val_loss: 0.0821 - val_accuracy: 0.9630\n",
      "Epoch 253/500\n",
      "124/124 [==============================] - 0s 81us/step - loss: 0.0240 - accuracy: 1.0000 - val_loss: 0.0821 - val_accuracy: 0.9630\n",
      "Epoch 254/500\n",
      "124/124 [==============================] - 0s 89us/step - loss: 0.0238 - accuracy: 1.0000 - val_loss: 0.0813 - val_accuracy: 0.9630\n",
      "Epoch 255/500\n",
      "124/124 [==============================] - 0s 81us/step - loss: 0.0235 - accuracy: 1.0000 - val_loss: 0.0808 - val_accuracy: 0.9630\n",
      "Epoch 256/500\n",
      "124/124 [==============================] - 0s 81us/step - loss: 0.0233 - accuracy: 1.0000 - val_loss: 0.0803 - val_accuracy: 0.9630\n",
      "Epoch 257/500\n",
      "124/124 [==============================] - 0s 73us/step - loss: 0.0231 - accuracy: 1.0000 - val_loss: 0.0802 - val_accuracy: 0.9630\n",
      "Epoch 258/500\n",
      "124/124 [==============================] - 0s 65us/step - loss: 0.0230 - accuracy: 1.0000 - val_loss: 0.0797 - val_accuracy: 0.9630\n",
      "Epoch 259/500\n",
      "124/124 [==============================] - 0s 81us/step - loss: 0.0227 - accuracy: 1.0000 - val_loss: 0.0800 - val_accuracy: 0.9630\n",
      "Epoch 260/500\n",
      "124/124 [==============================] - 0s 81us/step - loss: 0.0225 - accuracy: 1.0000 - val_loss: 0.0799 - val_accuracy: 0.9630\n",
      "Epoch 261/500\n",
      "124/124 [==============================] - 0s 89us/step - loss: 0.0223 - accuracy: 1.0000 - val_loss: 0.0802 - val_accuracy: 0.9630\n",
      "Epoch 262/500\n",
      "124/124 [==============================] - 0s 81us/step - loss: 0.0221 - accuracy: 1.0000 - val_loss: 0.0802 - val_accuracy: 0.9630\n",
      "Epoch 263/500\n",
      "124/124 [==============================] - 0s 73us/step - loss: 0.0221 - accuracy: 1.0000 - val_loss: 0.0807 - val_accuracy: 0.9630\n",
      "Epoch 264/500\n",
      "124/124 [==============================] - 0s 73us/step - loss: 0.0217 - accuracy: 1.0000 - val_loss: 0.0800 - val_accuracy: 0.9630\n",
      "Epoch 265/500\n",
      "124/124 [==============================] - 0s 73us/step - loss: 0.0215 - accuracy: 1.0000 - val_loss: 0.0796 - val_accuracy: 0.9630\n",
      "Epoch 266/500\n",
      "124/124 [==============================] - 0s 73us/step - loss: 0.0214 - accuracy: 1.0000 - val_loss: 0.0793 - val_accuracy: 0.9630\n",
      "Epoch 267/500\n",
      "124/124 [==============================] - 0s 73us/step - loss: 0.0212 - accuracy: 1.0000 - val_loss: 0.0788 - val_accuracy: 0.9630\n",
      "Epoch 268/500\n",
      "124/124 [==============================] - 0s 73us/step - loss: 0.0210 - accuracy: 1.0000 - val_loss: 0.0784 - val_accuracy: 0.9630\n",
      "Epoch 269/500\n",
      "124/124 [==============================] - 0s 81us/step - loss: 0.0208 - accuracy: 1.0000 - val_loss: 0.0782 - val_accuracy: 0.9630\n",
      "Epoch 270/500\n",
      "124/124 [==============================] - 0s 89us/step - loss: 0.0207 - accuracy: 1.0000 - val_loss: 0.0776 - val_accuracy: 0.9630\n",
      "Epoch 271/500\n",
      "124/124 [==============================] - 0s 81us/step - loss: 0.0205 - accuracy: 1.0000 - val_loss: 0.0776 - val_accuracy: 0.9630\n",
      "Epoch 272/500\n",
      "124/124 [==============================] - 0s 65us/step - loss: 0.0203 - accuracy: 1.0000 - val_loss: 0.0775 - val_accuracy: 0.9630\n",
      "Epoch 273/500\n",
      "124/124 [==============================] - 0s 73us/step - loss: 0.0201 - accuracy: 1.0000 - val_loss: 0.0779 - val_accuracy: 0.9630\n",
      "Epoch 274/500\n",
      "124/124 [==============================] - 0s 73us/step - loss: 0.0199 - accuracy: 1.0000 - val_loss: 0.0784 - val_accuracy: 0.9630\n",
      "Epoch 275/500\n",
      "124/124 [==============================] - 0s 73us/step - loss: 0.0198 - accuracy: 1.0000 - val_loss: 0.0785 - val_accuracy: 0.9630\n",
      "Epoch 276/500\n",
      "124/124 [==============================] - 0s 81us/step - loss: 0.0196 - accuracy: 1.0000 - val_loss: 0.0782 - val_accuracy: 0.9630\n",
      "Epoch 277/500\n",
      "124/124 [==============================] - 0s 65us/step - loss: 0.0195 - accuracy: 1.0000 - val_loss: 0.0778 - val_accuracy: 0.9630\n",
      "Epoch 278/500\n",
      "124/124 [==============================] - 0s 65us/step - loss: 0.0193 - accuracy: 1.0000 - val_loss: 0.0779 - val_accuracy: 0.9630\n",
      "Epoch 279/500\n",
      "124/124 [==============================] - 0s 73us/step - loss: 0.0191 - accuracy: 1.0000 - val_loss: 0.0775 - val_accuracy: 0.9630\n",
      "Epoch 280/500\n",
      "124/124 [==============================] - 0s 81us/step - loss: 0.0190 - accuracy: 1.0000 - val_loss: 0.0769 - val_accuracy: 0.9630\n",
      "Epoch 281/500\n"
     ]
    },
    {
     "name": "stdout",
     "output_type": "stream",
     "text": [
      "124/124 [==============================] - 0s 81us/step - loss: 0.0188 - accuracy: 1.0000 - val_loss: 0.0767 - val_accuracy: 0.9630\n",
      "Epoch 282/500\n",
      "124/124 [==============================] - 0s 89us/step - loss: 0.0187 - accuracy: 1.0000 - val_loss: 0.0767 - val_accuracy: 0.9630\n",
      "Epoch 283/500\n",
      "124/124 [==============================] - 0s 72us/step - loss: 0.0185 - accuracy: 1.0000 - val_loss: 0.0766 - val_accuracy: 0.9630\n",
      "Epoch 284/500\n",
      "124/124 [==============================] - 0s 73us/step - loss: 0.0184 - accuracy: 1.0000 - val_loss: 0.0772 - val_accuracy: 0.9630\n",
      "Epoch 285/500\n",
      "124/124 [==============================] - 0s 89us/step - loss: 0.0183 - accuracy: 1.0000 - val_loss: 0.0767 - val_accuracy: 0.9630\n",
      "Epoch 286/500\n",
      "124/124 [==============================] - 0s 81us/step - loss: 0.0181 - accuracy: 1.0000 - val_loss: 0.0769 - val_accuracy: 0.9630\n",
      "Epoch 287/500\n",
      "124/124 [==============================] - 0s 73us/step - loss: 0.0179 - accuracy: 1.0000 - val_loss: 0.0767 - val_accuracy: 0.9630\n",
      "Epoch 288/500\n",
      "124/124 [==============================] - 0s 73us/step - loss: 0.0178 - accuracy: 1.0000 - val_loss: 0.0767 - val_accuracy: 0.9630\n",
      "Epoch 289/500\n",
      "124/124 [==============================] - 0s 73us/step - loss: 0.0177 - accuracy: 1.0000 - val_loss: 0.0768 - val_accuracy: 0.9630\n",
      "Epoch 290/500\n",
      "124/124 [==============================] - 0s 73us/step - loss: 0.0175 - accuracy: 1.0000 - val_loss: 0.0765 - val_accuracy: 0.9630\n",
      "Epoch 291/500\n",
      "124/124 [==============================] - 0s 81us/step - loss: 0.0174 - accuracy: 1.0000 - val_loss: 0.0760 - val_accuracy: 0.9630\n",
      "Epoch 292/500\n",
      "124/124 [==============================] - 0s 81us/step - loss: 0.0172 - accuracy: 1.0000 - val_loss: 0.0756 - val_accuracy: 0.9630\n",
      "Epoch 293/500\n",
      "124/124 [==============================] - 0s 81us/step - loss: 0.0172 - accuracy: 1.0000 - val_loss: 0.0759 - val_accuracy: 0.9630\n",
      "Epoch 294/500\n",
      "124/124 [==============================] - 0s 73us/step - loss: 0.0169 - accuracy: 1.0000 - val_loss: 0.0756 - val_accuracy: 0.9630\n",
      "Epoch 295/500\n",
      "124/124 [==============================] - 0s 73us/step - loss: 0.0168 - accuracy: 1.0000 - val_loss: 0.0754 - val_accuracy: 0.9630\n",
      "Epoch 296/500\n",
      "124/124 [==============================] - 0s 81us/step - loss: 0.0167 - accuracy: 1.0000 - val_loss: 0.0748 - val_accuracy: 0.9630\n",
      "Epoch 297/500\n",
      "124/124 [==============================] - 0s 81us/step - loss: 0.0167 - accuracy: 1.0000 - val_loss: 0.0752 - val_accuracy: 0.9630\n",
      "Epoch 298/500\n",
      "124/124 [==============================] - 0s 89us/step - loss: 0.0165 - accuracy: 1.0000 - val_loss: 0.0745 - val_accuracy: 0.9630\n",
      "Epoch 299/500\n",
      "124/124 [==============================] - 0s 73us/step - loss: 0.0163 - accuracy: 1.0000 - val_loss: 0.0748 - val_accuracy: 0.9630\n",
      "Epoch 300/500\n",
      "124/124 [==============================] - 0s 81us/step - loss: 0.0162 - accuracy: 1.0000 - val_loss: 0.0748 - val_accuracy: 0.9630\n",
      "Epoch 301/500\n",
      "124/124 [==============================] - 0s 73us/step - loss: 0.0161 - accuracy: 1.0000 - val_loss: 0.0749 - val_accuracy: 0.9630\n",
      "Epoch 302/500\n",
      "124/124 [==============================] - 0s 89us/step - loss: 0.0159 - accuracy: 1.0000 - val_loss: 0.0746 - val_accuracy: 0.9630\n",
      "Epoch 303/500\n",
      "124/124 [==============================] - 0s 81us/step - loss: 0.0158 - accuracy: 1.0000 - val_loss: 0.0743 - val_accuracy: 0.9630\n",
      "Epoch 304/500\n",
      "124/124 [==============================] - 0s 89us/step - loss: 0.0157 - accuracy: 1.0000 - val_loss: 0.0742 - val_accuracy: 0.9630\n",
      "Epoch 305/500\n",
      "124/124 [==============================] - 0s 89us/step - loss: 0.0156 - accuracy: 1.0000 - val_loss: 0.0740 - val_accuracy: 0.9630\n",
      "Epoch 306/500\n",
      "124/124 [==============================] - 0s 73us/step - loss: 0.0154 - accuracy: 1.0000 - val_loss: 0.0742 - val_accuracy: 0.9630\n",
      "Epoch 307/500\n",
      "124/124 [==============================] - 0s 81us/step - loss: 0.0153 - accuracy: 1.0000 - val_loss: 0.0744 - val_accuracy: 0.9630\n",
      "Epoch 308/500\n",
      "124/124 [==============================] - 0s 81us/step - loss: 0.0152 - accuracy: 1.0000 - val_loss: 0.0746 - val_accuracy: 0.9630\n",
      "Epoch 309/500\n",
      "124/124 [==============================] - 0s 81us/step - loss: 0.0151 - accuracy: 1.0000 - val_loss: 0.0746 - val_accuracy: 0.9630\n",
      "Epoch 310/500\n",
      "124/124 [==============================] - 0s 81us/step - loss: 0.0149 - accuracy: 1.0000 - val_loss: 0.0741 - val_accuracy: 0.9630\n",
      "Epoch 311/500\n",
      "124/124 [==============================] - 0s 73us/step - loss: 0.0148 - accuracy: 1.0000 - val_loss: 0.0738 - val_accuracy: 0.9630\n",
      "Epoch 312/500\n",
      "124/124 [==============================] - 0s 73us/step - loss: 0.0148 - accuracy: 1.0000 - val_loss: 0.0732 - val_accuracy: 0.9630\n",
      "Epoch 313/500\n",
      "124/124 [==============================] - 0s 73us/step - loss: 0.0146 - accuracy: 1.0000 - val_loss: 0.0734 - val_accuracy: 0.9630\n",
      "Epoch 314/500\n",
      "124/124 [==============================] - 0s 81us/step - loss: 0.0145 - accuracy: 1.0000 - val_loss: 0.0732 - val_accuracy: 0.9630\n",
      "Epoch 315/500\n",
      "124/124 [==============================] - 0s 81us/step - loss: 0.0144 - accuracy: 1.0000 - val_loss: 0.0734 - val_accuracy: 0.9630\n",
      "Epoch 316/500\n",
      "124/124 [==============================] - 0s 81us/step - loss: 0.0143 - accuracy: 1.0000 - val_loss: 0.0735 - val_accuracy: 0.9630\n",
      "Epoch 317/500\n",
      "124/124 [==============================] - 0s 81us/step - loss: 0.0142 - accuracy: 1.0000 - val_loss: 0.0736 - val_accuracy: 0.9630\n",
      "Epoch 318/500\n",
      "124/124 [==============================] - 0s 81us/step - loss: 0.0141 - accuracy: 1.0000 - val_loss: 0.0738 - val_accuracy: 0.9630\n",
      "Epoch 319/500\n",
      "124/124 [==============================] - 0s 73us/step - loss: 0.0139 - accuracy: 1.0000 - val_loss: 0.0736 - val_accuracy: 0.9630\n",
      "Epoch 320/500\n",
      "124/124 [==============================] - 0s 89us/step - loss: 0.0139 - accuracy: 1.0000 - val_loss: 0.0732 - val_accuracy: 0.9630\n",
      "Epoch 321/500\n",
      "124/124 [==============================] - 0s 73us/step - loss: 0.0137 - accuracy: 1.0000 - val_loss: 0.0732 - val_accuracy: 0.9630\n",
      "Epoch 322/500\n",
      "124/124 [==============================] - 0s 81us/step - loss: 0.0136 - accuracy: 1.0000 - val_loss: 0.0733 - val_accuracy: 0.9630\n",
      "Epoch 323/500\n",
      "124/124 [==============================] - 0s 105us/step - loss: 0.0135 - accuracy: 1.0000 - val_loss: 0.0730 - val_accuracy: 0.9630\n",
      "Epoch 324/500\n",
      "124/124 [==============================] - 0s 89us/step - loss: 0.0134 - accuracy: 1.0000 - val_loss: 0.0731 - val_accuracy: 0.9630\n",
      "Epoch 325/500\n",
      "124/124 [==============================] - ETA: 0s - loss: 0.0161 - accuracy: 1.00 - 0s 73us/step - loss: 0.0133 - accuracy: 1.0000 - val_loss: 0.0729 - val_accuracy: 0.9630\n",
      "Epoch 326/500\n",
      "124/124 [==============================] - 0s 113us/step - loss: 0.0133 - accuracy: 1.0000 - val_loss: 0.0730 - val_accuracy: 0.9630\n",
      "Epoch 327/500\n",
      "124/124 [==============================] - 0s 97us/step - loss: 0.0131 - accuracy: 1.0000 - val_loss: 0.0726 - val_accuracy: 0.9630\n",
      "Epoch 328/500\n",
      "124/124 [==============================] - 0s 81us/step - loss: 0.0130 - accuracy: 1.0000 - val_loss: 0.0727 - val_accuracy: 0.9630\n",
      "Epoch 329/500\n",
      "124/124 [==============================] - 0s 81us/step - loss: 0.0129 - accuracy: 1.0000 - val_loss: 0.0725 - val_accuracy: 0.9630\n",
      "Epoch 330/500\n",
      "124/124 [==============================] - 0s 73us/step - loss: 0.0129 - accuracy: 1.0000 - val_loss: 0.0721 - val_accuracy: 0.9630\n",
      "Epoch 331/500\n",
      "124/124 [==============================] - ETA: 0s - loss: 0.0117 - accuracy: 1.00 - 0s 89us/step - loss: 0.0127 - accuracy: 1.0000 - val_loss: 0.0720 - val_accuracy: 0.9630\n",
      "Epoch 332/500\n",
      "124/124 [==============================] - 0s 81us/step - loss: 0.0127 - accuracy: 1.0000 - val_loss: 0.0721 - val_accuracy: 0.9630\n",
      "Epoch 333/500\n",
      "124/124 [==============================] - 0s 73us/step - loss: 0.0126 - accuracy: 1.0000 - val_loss: 0.0724 - val_accuracy: 0.9630\n",
      "Epoch 334/500\n",
      "124/124 [==============================] - 0s 73us/step - loss: 0.0125 - accuracy: 1.0000 - val_loss: 0.0718 - val_accuracy: 0.9630\n",
      "Epoch 335/500\n",
      "124/124 [==============================] - 0s 73us/step - loss: 0.0124 - accuracy: 1.0000 - val_loss: 0.0717 - val_accuracy: 0.9630\n",
      "Epoch 336/500\n"
     ]
    },
    {
     "name": "stdout",
     "output_type": "stream",
     "text": [
      "124/124 [==============================] - 0s 81us/step - loss: 0.0123 - accuracy: 1.0000 - val_loss: 0.0716 - val_accuracy: 0.9630\n",
      "Epoch 337/500\n",
      "124/124 [==============================] - 0s 89us/step - loss: 0.0122 - accuracy: 1.0000 - val_loss: 0.0720 - val_accuracy: 0.9630\n",
      "Epoch 338/500\n",
      "124/124 [==============================] - 0s 81us/step - loss: 0.0121 - accuracy: 1.0000 - val_loss: 0.0720 - val_accuracy: 0.9630\n",
      "Epoch 339/500\n",
      "124/124 [==============================] - 0s 81us/step - loss: 0.0120 - accuracy: 1.0000 - val_loss: 0.0724 - val_accuracy: 0.9630\n",
      "Epoch 340/500\n",
      "124/124 [==============================] - 0s 81us/step - loss: 0.0119 - accuracy: 1.0000 - val_loss: 0.0722 - val_accuracy: 0.9630\n",
      "Epoch 341/500\n",
      "124/124 [==============================] - 0s 81us/step - loss: 0.0118 - accuracy: 1.0000 - val_loss: 0.0720 - val_accuracy: 0.9630\n",
      "Epoch 342/500\n",
      "124/124 [==============================] - 0s 81us/step - loss: 0.0118 - accuracy: 1.0000 - val_loss: 0.0720 - val_accuracy: 0.9630\n",
      "Epoch 343/500\n",
      "124/124 [==============================] - 0s 81us/step - loss: 0.0117 - accuracy: 1.0000 - val_loss: 0.0714 - val_accuracy: 0.9630\n",
      "Epoch 344/500\n",
      "124/124 [==============================] - 0s 81us/step - loss: 0.0116 - accuracy: 1.0000 - val_loss: 0.0710 - val_accuracy: 0.9630\n",
      "Epoch 345/500\n",
      "124/124 [==============================] - 0s 97us/step - loss: 0.0115 - accuracy: 1.0000 - val_loss: 0.0712 - val_accuracy: 0.9630\n",
      "Epoch 346/500\n",
      "124/124 [==============================] - 0s 81us/step - loss: 0.0114 - accuracy: 1.0000 - val_loss: 0.0713 - val_accuracy: 0.9630\n",
      "Epoch 347/500\n",
      "124/124 [==============================] - 0s 89us/step - loss: 0.0113 - accuracy: 1.0000 - val_loss: 0.0713 - val_accuracy: 0.9630\n",
      "Epoch 348/500\n",
      "124/124 [==============================] - 0s 73us/step - loss: 0.0113 - accuracy: 1.0000 - val_loss: 0.0712 - val_accuracy: 0.9630\n",
      "Epoch 349/500\n",
      "124/124 [==============================] - 0s 73us/step - loss: 0.0112 - accuracy: 1.0000 - val_loss: 0.0713 - val_accuracy: 0.9630\n",
      "Epoch 350/500\n",
      "124/124 [==============================] - 0s 81us/step - loss: 0.0111 - accuracy: 1.0000 - val_loss: 0.0711 - val_accuracy: 0.9630\n",
      "Epoch 351/500\n",
      "124/124 [==============================] - 0s 73us/step - loss: 0.0110 - accuracy: 1.0000 - val_loss: 0.0712 - val_accuracy: 0.9630\n",
      "Epoch 352/500\n",
      "124/124 [==============================] - 0s 81us/step - loss: 0.0110 - accuracy: 1.0000 - val_loss: 0.0714 - val_accuracy: 0.9630\n",
      "Epoch 353/500\n",
      "124/124 [==============================] - 0s 73us/step - loss: 0.0109 - accuracy: 1.0000 - val_loss: 0.0713 - val_accuracy: 0.9630\n",
      "Epoch 354/500\n",
      "124/124 [==============================] - 0s 81us/step - loss: 0.0108 - accuracy: 1.0000 - val_loss: 0.0708 - val_accuracy: 0.9630\n",
      "Epoch 355/500\n",
      "124/124 [==============================] - 0s 73us/step - loss: 0.0107 - accuracy: 1.0000 - val_loss: 0.0705 - val_accuracy: 0.9630\n",
      "Epoch 356/500\n",
      "124/124 [==============================] - 0s 73us/step - loss: 0.0106 - accuracy: 1.0000 - val_loss: 0.0701 - val_accuracy: 0.9630\n",
      "Epoch 357/500\n",
      "124/124 [==============================] - 0s 73us/step - loss: 0.0106 - accuracy: 1.0000 - val_loss: 0.0699 - val_accuracy: 0.9630\n",
      "Epoch 358/500\n",
      "124/124 [==============================] - 0s 81us/step - loss: 0.0105 - accuracy: 1.0000 - val_loss: 0.0698 - val_accuracy: 0.9630\n",
      "Epoch 359/500\n",
      "124/124 [==============================] - 0s 81us/step - loss: 0.0105 - accuracy: 1.0000 - val_loss: 0.0703 - val_accuracy: 0.9630\n",
      "Epoch 360/500\n",
      "124/124 [==============================] - 0s 81us/step - loss: 0.0104 - accuracy: 1.0000 - val_loss: 0.0700 - val_accuracy: 0.9630\n",
      "Epoch 361/500\n",
      "124/124 [==============================] - 0s 73us/step - loss: 0.0103 - accuracy: 1.0000 - val_loss: 0.0701 - val_accuracy: 0.9630\n",
      "Epoch 362/500\n",
      "124/124 [==============================] - 0s 81us/step - loss: 0.0102 - accuracy: 1.0000 - val_loss: 0.0704 - val_accuracy: 0.9630\n",
      "Epoch 363/500\n",
      "124/124 [==============================] - 0s 89us/step - loss: 0.0101 - accuracy: 1.0000 - val_loss: 0.0705 - val_accuracy: 0.9630\n",
      "Epoch 364/500\n",
      "124/124 [==============================] - 0s 81us/step - loss: 0.0101 - accuracy: 1.0000 - val_loss: 0.0704 - val_accuracy: 0.9630\n",
      "Epoch 365/500\n",
      "124/124 [==============================] - 0s 89us/step - loss: 0.0100 - accuracy: 1.0000 - val_loss: 0.0705 - val_accuracy: 0.9630\n",
      "Epoch 366/500\n",
      "124/124 [==============================] - 0s 81us/step - loss: 0.0099 - accuracy: 1.0000 - val_loss: 0.0704 - val_accuracy: 0.9630\n",
      "Epoch 367/500\n",
      "124/124 [==============================] - 0s 81us/step - loss: 0.0099 - accuracy: 1.0000 - val_loss: 0.0701 - val_accuracy: 0.9630\n",
      "Epoch 368/500\n",
      "124/124 [==============================] - 0s 73us/step - loss: 0.0098 - accuracy: 1.0000 - val_loss: 0.0701 - val_accuracy: 0.9630\n",
      "54/54 [==============================] - 0s 93us/step\n"
     ]
    },
    {
     "data": {
      "text/plain": [
       "[0.07005384260857547, 0.9629629850387573]"
      ]
     },
     "execution_count": 423,
     "metadata": {},
     "output_type": "execute_result"
    }
   ],
   "source": [
    "model = Sequential()\n",
    "\n",
    "model.add(Dense(13, activation='relu', input_dim=13))\n",
    "model.add(Dense(13, activation='relu'))\n",
    "model.add(Dense(6, activation='relu'))\n",
    "model.add(Dense(3, activation='softmax'))\n",
    "\n",
    "model.compile(loss='categorical_crossentropy', optimizer='adam', metrics=['accuracy'])\n",
    "\n",
    "# EarlyStopping적용\n",
    "es = EarlyStopping(monitor='val_loss', patience=10)\n",
    "\n",
    "model.fit(xTrain, yTrain, epochs=500, batch_size=64, validation_data=(xTest, yTest), callbacks=[es])\n",
    "\n",
    "model.evaluate(xTest, yTest)"
   ]
  },
  {
   "cell_type": "code",
   "execution_count": 432,
   "metadata": {},
   "outputs": [],
   "source": [
    "valLoss = model.history.history['val_loss']\n",
    "testLoss = model.history.history['loss']\n",
    "\n",
    "valAcc = model.history.history['val_accuracy']\n",
    "testAcc = model.history.history['accuracy']"
   ]
  },
  {
   "cell_type": "code",
   "execution_count": 433,
   "metadata": {},
   "outputs": [
    {
     "data": {
      "image/png": "[encoded data removed]",
      "text/plain": [
       "<Figure size 1080x576 with 1 Axes>"
      ]
     },
     "metadata": {
      "needs_background": "light"
     },
     "output_type": "display_data"
    }
   ],
   "source": [
    "plt.figure(figsize=(15,8))\n",
    "plt.plot(range(len(valLoss)), valLoss, label='val loss')\n",
    "plt.plot(range(len(valLoss)), testLoss, label='test loss')\n",
    "\n",
    "plt.plot(range(len(valAcc)), valAcc, label='val Acc')\n",
    "plt.plot(range(len(testAcc)), testAcc, label='test Acc')\n",
    "\n",
    "plt.grid()\n",
    "plt.legend()\n",
    "\n",
    "plt.show()"
   ]
  },
  {
   "cell_type": "code",
   "execution_count": null,
   "metadata": {},
   "outputs": [],
   "source": []
  },
  {
   "cell_type": "code",
   "execution_count": null,
   "metadata": {},
   "outputs": [],
   "source": []
  },
  {
   "cell_type": "code",
   "execution_count": null,
   "metadata": {},
   "outputs": [],
   "source": []
  },
  {
   "cell_type": "code",
   "execution_count": null,
   "metadata": {},
   "outputs": [],
   "source": []
  },
  {
   "cell_type": "code",
   "execution_count": null,
   "metadata": {},
   "outputs": [],
   "source": []
  },
  {
   "cell_type": "code",
   "execution_count": null,
   "metadata": {},
   "outputs": [],
   "source": []
  },
  {
   "cell_type": "code",
   "execution_count": null,
   "metadata": {},
   "outputs": [],
   "source": []
  },
  {
   "cell_type": "code",
   "execution_count": null,
   "metadata": {},
   "outputs": [],
   "source": []
  }
 ],
 "metadata": {
  "kernelspec": {
   "display_name": "Python 3",
   "language": "python",
   "name": "python3"
  },
  "language_info": {
   "codemirror_mode": {
    "name": "ipython",
    "version": 3
   },
   "file_extension": ".py",
   "mimetype": "text/x-python",
   "name": "python",
   "nbconvert_exporter": "python",
   "pygments_lexer": "ipython3",
   "version": "3.7.4"
  }
 },
 "nbformat": 4,
 "nbformat_minor": 2
}
