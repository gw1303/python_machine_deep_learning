{
 "cells": [
  {
   "cell_type": "code",
   "execution_count": 53,
   "metadata": {},
   "outputs": [],
   "source": [
    "class BackTest :\n",
    "    def __init__(self):\n",
    "        self.x = None\n",
    "        self.y = None\n",
    "        print('초기화함수')\n",
    "    \n",
    "    def forward(self, x, y):\n",
    "        self.x = x\n",
    "        self.y = y\n",
    "        self.out = x * y\n",
    "        return self.out\n",
    "    \n",
    "    def backward(self, dout):\n",
    "        dx = self.y * dout\n",
    "        dy = self.x * dout\n",
    "        return dx, dy"
   ]
  },
  {
   "cell_type": "code",
   "execution_count": 54,
   "metadata": {},
   "outputs": [],
   "source": [
    "snack = 100\n",
    "snack_num = 2\n",
    "tax = 1.1"
   ]
  },
  {
   "cell_type": "code",
   "execution_count": 55,
   "metadata": {},
   "outputs": [
    {
     "name": "stdout",
     "output_type": "stream",
     "text": [
      "초기화함수\n",
      "초기화함수\n",
      "200\n",
      "220.00000000000003\n"
     ]
    }
   ],
   "source": [
    "# 클래스 객체 생성\n",
    "mul_snack_layer = BackTest()\n",
    "mul_tax_layer = BackTest()\n",
    "\n",
    "# 클래스 함수 호출\n",
    "snack_price = mul_snack_layer.forward(snack,snack_num)\n",
    "print(snack_price)\n",
    "\n",
    "price = mul_tax_layer.forward(snack_price,tax)\n",
    "print(price)"
   ]
  },
  {
   "cell_type": "code",
   "execution_count": 56,
   "metadata": {},
   "outputs": [],
   "source": [
    "dprice = 1 "
   ]
  },
  {
   "cell_type": "code",
   "execution_count": 58,
   "metadata": {},
   "outputs": [
    {
     "name": "stdout",
     "output_type": "stream",
     "text": [
      "1.1 200\n",
      "2.2 110.00000000000001\n"
     ]
    }
   ],
   "source": [
    "# 역전파\n",
    "dsnack_price, dtax = mul_tax_layer.backward(dprice)\n",
    "print(dsnack_price, dtax)\n",
    "# 1.1  200\n",
    "\n",
    "dsnack, dprice = mul_snack_layer.backward(dsnack_price)\n",
    "print(dsnack, dprice)"
   ]
  },
  {
   "cell_type": "code",
   "execution_count": null,
   "metadata": {},
   "outputs": [],
   "source": []
  },
  {
   "cell_type": "code",
   "execution_count": null,
   "metadata": {},
   "outputs": [],
   "source": []
  },
  {
   "cell_type": "code",
   "execution_count": null,
   "metadata": {},
   "outputs": [],
   "source": []
  }
 ],
 "metadata": {
  "kernelspec": {
   "display_name": "Python 3",
   "language": "python",
   "name": "python3"
  },
  "language_info": {
   "codemirror_mode": {
    "name": "ipython",
    "version": 3
   },
   "file_extension": ".py",
   "mimetype": "text/x-python",
   "name": "python",
   "nbconvert_exporter": "python",
   "pygments_lexer": "ipython3",
   "version": "3.7.4"
  }
 },
 "nbformat": 4,
 "nbformat_minor": 2
}
